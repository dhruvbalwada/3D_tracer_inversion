{
 "cells": [
  {
   "cell_type": "markdown",
   "metadata": {},
   "source": [
    "# Diffusivity tensor for any resolution"
   ]
  },
  {
   "cell_type": "code",
   "execution_count": 5,
   "metadata": {},
   "outputs": [],
   "source": [
    "import numpy as np\n",
    "import xarray as xr\n",
    "from funcs import *\n",
    "%matplotlib inline\n",
    "from matplotlib import pyplot as plt\n",
    "from matplotlib import colors, ticker, cm\n",
    "from matplotlib.colors import LogNorm"
   ]
  },
  {
   "cell_type": "code",
   "execution_count": 6,
   "metadata": {},
   "outputs": [],
   "source": [
    "Lcoarse = 50e3"
   ]
  },
  {
   "cell_type": "code",
   "execution_count": 7,
   "metadata": {},
   "outputs": [],
   "source": [
    "Model_Tav = xr.open_dataset('./data/Model_Tav_3D.nc')"
   ]
  },
  {
   "cell_type": "code",
   "execution_count": 8,
   "metadata": {},
   "outputs": [],
   "source": [
    "Trac_coarse = xr.open_dataset('./data/Trac_coarse_'+str(int(Lcoarse//1e3))+'km_3D.nc')\n",
    "Vels_coarse = xr.open_dataset('./data/Vels_coarse_'+str(int(Lcoarse//1e3))+'km_3D.nc')"
   ]
  },
  {
   "cell_type": "code",
   "execution_count": 9,
   "metadata": {},
   "outputs": [],
   "source": [
    "list_trac = ['TRAC01', 'TRAC02', 'TRAC03', 'TRAC04', 'TRAC05', \n",
    "            'TRAC06', 'TRAC07', 'TRAC08']"
   ]
  },
  {
   "cell_type": "code",
   "execution_count": 10,
   "metadata": {},
   "outputs": [],
   "source": [
    "[UpCp, VpCp, WpCp] = get_flux_arrays(Trac_coarse, list_trac)\n",
    "[dCdx, dCdy, dCdz]= get_grad_arrays(Trac_coarse, list_trac)"
   ]
  },
  {
   "cell_type": "code",
   "execution_count": 12,
   "metadata": {},
   "outputs": [
    {
     "name": "stdout",
     "output_type": "stream",
     "text": [
      "CPU times: user 2.46 s, sys: 14.9 ms, total: 2.47 s\n",
      "Wall time: 3.11 s\n"
     ]
    }
   ],
   "source": [
    "%%time\n",
    "# Calculate the tensor\n",
    "# This is slow (can take over an hour)\n",
    "\n",
    "Ktensor = xr.apply_ufunc(calc_tensor, \n",
    "                       UpCp,\n",
    "                       VpCp,\n",
    "                       WpCp,\n",
    "                       dCdx,\n",
    "                       dCdy,\n",
    "                       dCdz,\n",
    "                       input_core_dims=[['tracer_num'], ['tracer_num'], ['tracer_num'], ['tracer_num'], ['tracer_num'], ['tracer_num']],\n",
    "                       vectorize=True, output_core_dims=[['i','j']], dask='parallelized', \n",
    "                       output_dtypes=['float32'], output_sizes={'i':3,'j':3})\n",
    "\n",
    "Ktensor.load() # need to load because we will take transpose and a"
   ]
  },
  {
   "cell_type": "code",
   "execution_count": 13,
   "metadata": {},
   "outputs": [],
   "source": [
    "Ktensor_T = Ktensor.transpose('Z','YCcoarse','XCcoarse','j','i')\n",
    "\n",
    "ST = 0.5*(Ktensor.data + Ktensor_T.data)\n",
    "AT = 0.5*(Ktensor.data - Ktensor_T.data)\n",
    "\n",
    "ST = xr.DataArray(ST, coords=Ktensor.coords, dims=Ktensor.dims)\n",
    "AT = xr.DataArray(AT, coords=Ktensor.coords, dims=Ktensor.dims)"
   ]
  },
  {
   "cell_type": "code",
   "execution_count": 14,
   "metadata": {},
   "outputs": [],
   "source": [
    "# make sure the eigen values are arranged by magnitude (instead of the default arrangement)\n",
    "def eigen(A):\n",
    "    eigenValues, eigenVectors = eigh(A)\n",
    "    idx = np.argsort(np.abs(eigenValues))\n",
    "    eigenValues = eigenValues[idx]\n",
    "    eigenVectors = eigenVectors[:,idx]\n",
    "    return (eigenValues, eigenVectors)"
   ]
  },
  {
   "cell_type": "code",
   "execution_count": null,
   "metadata": {},
   "outputs": [],
   "source": []
  },
  {
   "cell_type": "markdown",
   "metadata": {},
   "source": [
    "## Rotation of EVs"
   ]
  },
  {
   "cell_type": "code",
   "execution_count": null,
   "metadata": {},
   "outputs": [],
   "source": []
  },
  {
   "cell_type": "markdown",
   "metadata": {},
   "source": [
    "## End section of EV rotations. "
   ]
  },
  {
   "cell_type": "code",
   "execution_count": 15,
   "metadata": {},
   "outputs": [],
   "source": [
    "# calculate the eigenvalues and eigenvectors of symmetric part\n",
    "eigvalsST, eigvecsST = xr.apply_ufunc(eigen, ST, input_core_dims=[['i','j']],\n",
    "                                    vectorize=True, output_core_dims=[['ii'], ['k','ii']])\n"
   ]
  },
  {
   "cell_type": "code",
   "execution_count": 16,
   "metadata": {},
   "outputs": [],
   "source": [
    "diff_tensor = xr.Dataset()\n",
    "diff_tensor['K'] = Ktensor\n",
    "diff_tensor['ST'] = ST\n",
    "diff_tensor['AT'] = AT\n",
    "diff_tensor['eigvalsST'] = np.real(eigvalsST)\n",
    "diff_tensor['eigvecsST'] = eigvecsST"
   ]
  },
  {
   "cell_type": "code",
   "execution_count": 17,
   "metadata": {},
   "outputs": [],
   "source": [
    "diff_tensor.to_netcdf('./data/diff_tensor_'+str(int(Lcoarse//1e3))+'km_3D.nc')"
   ]
  },
  {
   "cell_type": "code",
   "execution_count": null,
   "metadata": {},
   "outputs": [],
   "source": []
  },
  {
   "cell_type": "markdown",
   "metadata": {},
   "source": [
    "# Some maps to see if the fast or slow restoring has more negative eigenvalues"
   ]
  },
  {
   "cell_type": "code",
   "execution_count": 19,
   "metadata": {},
   "outputs": [
    {
     "data": {
      "text/plain": [
       "<matplotlib.collections.QuadMesh at 0x7fce32591978>"
      ]
     },
     "execution_count": 19,
     "metadata": {},
     "output_type": "execute_result"
    },
    {
     "data": {
      "image/png": "[encoded data removed]",
      "text/plain": [
       "<Figure size 432x288 with 2 Axes>"
      ]
     },
     "metadata": {
      "needs_background": "light"
     },
     "output_type": "display_data"
    }
   ],
   "source": [
    "diff_tensor['eigvalsST'].isel(ii=1).sel(Z=-300, method='nearest').plot()"
   ]
  },
  {
   "cell_type": "code",
   "execution_count": 22,
   "metadata": {},
   "outputs": [
    {
     "data": {
      "text/plain": [
       "<matplotlib.collections.QuadMesh at 0x7fce32216cc0>"
      ]
     },
     "execution_count": 22,
     "metadata": {},
     "output_type": "execute_result"
    },
    {
     "data": {
      "image/png": "[encoded data removed]",
      "text/plain": [
       "<Figure size 432x288 with 2 Axes>"
      ]
     },
     "metadata": {
      "needs_background": "light"
     },
     "output_type": "display_data"
    }
   ],
   "source": [
    "diff_tensor['eigvalsST'].isel(ii=2).sel(Z=-300, method='nearest').plot()"
   ]
  },
  {
   "cell_type": "code",
   "execution_count": 21,
   "metadata": {},
   "outputs": [
    {
     "data": {
      "image/png": "[encoded data removed]",
      "text/plain": [
       "<Figure size 432x288 with 1 Axes>"
      ]
     },
     "metadata": {
      "needs_background": "light"
     },
     "output_type": "display_data"
    }
   ],
   "source": [
    "bins = np.linspace(-2e4,3e4,31)\n",
    "\n",
    "[_,_,_]=diff_tensor['eigvalsST'].isel(ii=1).plot.hist(bins=bins, alpha=0.5)\n",
    "[_,_,_]=diff_tensor['eigvalsST'].isel(ii=2).plot.hist(bins=bins, alpha=0.5)\n",
    "\n",
    "\n",
    "plt.yscale('log')\n",
    "plt.grid()"
   ]
  },
  {
   "cell_type": "code",
   "execution_count": null,
   "metadata": {},
   "outputs": [],
   "source": []
  }
 ],
 "metadata": {
  "kernelspec": {
   "display_name": "Pangeo",
   "language": "python",
   "name": "pangeo"
  },
  "language_info": {
   "codemirror_mode": {
    "name": "ipython",
    "version": 3
   },
   "file_extension": ".py",
   "mimetype": "text/x-python",
   "name": "python",
   "nbconvert_exporter": "python",
   "pygments_lexer": "ipython3",
   "version": "3.6.7"
  }
 },
 "nbformat": 4,
 "nbformat_minor": 2
}
