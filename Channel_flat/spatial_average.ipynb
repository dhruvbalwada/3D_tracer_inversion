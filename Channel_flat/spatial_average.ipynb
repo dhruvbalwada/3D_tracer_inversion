{
 "cells": [
  {
   "cell_type": "markdown",
   "metadata": {},
   "source": [
    "# Spatial averaging/ Coarse graining\n",
    "\n",
    "Here we do a coarse graining on the time averaged fields. "
   ]
  },
  {
   "cell_type": "code",
   "execution_count": 1,
   "metadata": {},
   "outputs": [],
   "source": [
    "# load modules\n",
    "import xarray as xr\n",
    "import numpy  as np\n",
    "from xgcm import Grid\n",
    "%matplotlib inline"
   ]
  },
  {
   "cell_type": "code",
   "execution_count": 16,
   "metadata": {},
   "outputs": [],
   "source": [
    "# Load time averages \n",
    "Model_Tav = xr.open_dataset('./data/Model_Tav_3D.nc')\n",
    "Trac_Tav  = xr.open_dataset('./data/Trac_Tav_3D.nc')"
   ]
  },
  {
   "cell_type": "code",
   "execution_count": 17,
   "metadata": {},
   "outputs": [
    {
     "data": {
      "text/plain": [
       "<xarray.Dataset>\n",
       "Dimensions:   (XC: 140, XG: 140, YC: 240, YG: 240, Z: 40, Zl: 40, Zp1: 41, Zu: 40)\n",
       "Coordinates:\n",
       "  * XC        (XC) float32 2500.0 7500.0 12500.0 ... 687500.0 692500.0 697500.0\n",
       "  * YC        (YC) float32 2500.0 7500.0 12500.0 ... 1192500.0 1197500.0\n",
       "  * XG        (XG) float32 0.0 5000.0 10000.0 ... 685000.0 690000.0 695000.0\n",
       "  * YG        (YG) float32 0.0 5000.0 10000.0 ... 1185000.0 1190000.0 1195000.0\n",
       "  * Z         (Z) float32 -2.5 -7.5 -12.5 -18.0 ... -1374.0 -1426.0 -1478.0\n",
       "  * Zp1       (Zp1) float32 0.0 -5.0 -10.0 -15.0 ... -1400.0 -1452.0 -1504.0\n",
       "  * Zu        (Zu) float32 -5.0 -10.0 -15.0 -21.0 ... -1400.0 -1452.0 -1504.0\n",
       "  * Zl        (Zl) float32 0.0 -5.0 -10.0 -15.0 ... -1348.0 -1400.0 -1452.0\n",
       "    rA        (YC, XC) float32 ...\n",
       "    dxG       (YG, XC) float32 ...\n",
       "    dyG       (YC, XG) float32 ...\n",
       "    Depth     (YC, XC) float32 ...\n",
       "    rAz       (YG, XG) float32 ...\n",
       "    dxC       (YC, XG) float32 ...\n",
       "    dyC       (YG, XC) float32 ...\n",
       "    rAw       (YC, XG) float32 ...\n",
       "    rAs       (YG, XC) float32 ...\n",
       "    drC       (Zp1) float32 ...\n",
       "    drF       (Z) float32 ...\n",
       "    PHrefC    (Z) float32 ...\n",
       "    PHrefF    (Zp1) float32 ...\n",
       "    hFacC     (Z, YC, XC) float32 ...\n",
       "    hFacW     (Z, YC, XG) float32 ...\n",
       "    hFacS     (Z, YG, XC) float32 ...\n",
       "    maskC     (Z, YC, XC) bool ...\n",
       "    maskW     (Z, YC, XG) bool ...\n",
       "    maskS     (Z, YG, XC) bool ...\n",
       "Data variables:\n",
       "    TRAC06    (Z, YC, XC) float32 ...\n",
       "    UTRAC06   (Z, YC, XG) float32 ...\n",
       "    VTRAC06   (Z, YG, XC) float32 ...\n",
       "    WTRAC06   (Z, YC, XC) float32 ...\n",
       "    DFrITr06  (Zl, YC, XC) float32 ...\n",
       "    TRAC02    (Z, YC, XC) float32 ...\n",
       "    UTRAC02   (Z, YC, XG) float32 ...\n",
       "    VTRAC02   (Z, YG, XC) float32 ...\n",
       "    WTRAC02   (Z, YC, XC) float32 ...\n",
       "    DFrITr02  (Zl, YC, XC) float32 ...\n",
       "    TRAC01    (Z, YC, XC) float32 ...\n",
       "    UTRAC01   (Z, YC, XG) float32 ...\n",
       "    VTRAC01   (Z, YG, XC) float32 ...\n",
       "    WTRAC01   (Z, YC, XC) float32 ...\n",
       "    DFrITr01  (Zl, YC, XC) float32 ...\n",
       "    TRAC03    (Z, YC, XC) float32 ...\n",
       "    UTRAC03   (Z, YC, XG) float32 ...\n",
       "    VTRAC03   (Z, YG, XC) float32 ...\n",
       "    WTRAC03   (Z, YC, XC) float32 ...\n",
       "    DFrITr03  (Zl, YC, XC) float32 ...\n",
       "    TRAC04    (Z, YC, XC) float32 ...\n",
       "    UTRAC04   (Z, YC, XG) float32 ...\n",
       "    VTRAC04   (Z, YG, XC) float32 ...\n",
       "    WTRAC04   (Z, YC, XC) float32 ...\n",
       "    DFrITr04  (Zl, YC, XC) float32 ...\n",
       "    TRAC08    (Z, YC, XC) float32 ...\n",
       "    UTRAC08   (Z, YC, XG) float32 ...\n",
       "    VTRAC08   (Z, YG, XC) float32 ...\n",
       "    WTRAC08   (Z, YC, XC) float32 ...\n",
       "    DFrITr08  (Zl, YC, XC) float32 ...\n",
       "    TRAC07    (Z, YC, XC) float32 ...\n",
       "    UTRAC07   (Z, YC, XG) float32 ...\n",
       "    VTRAC07   (Z, YG, XC) float32 ...\n",
       "    WTRAC07   (Z, YC, XC) float32 ...\n",
       "    DFrITr07  (Zl, YC, XC) float32 ...\n",
       "    TRAC05    (Z, YC, XC) float32 ...\n",
       "    UTRAC05   (Z, YC, XG) float32 ...\n",
       "    VTRAC05   (Z, YG, XC) float32 ...\n",
       "    WTRAC05   (Z, YC, XC) float32 ...\n",
       "    DFrITr05  (Zl, YC, XC) float32 ...\n",
       "    TRAC09    (Z, YC, XC) float32 ...\n",
       "    UTRAC09   (Z, YC, XG) float32 ...\n",
       "    VTRAC09   (Z, YG, XC) float32 ...\n",
       "    WTRAC09   (Z, YC, XC) float32 ...\n",
       "    DFrITr09  (Zl, YC, XC) float32 ..."
      ]
     },
     "execution_count": 17,
     "metadata": {},
     "output_type": "execute_result"
    }
   ],
   "source": [
    "Trac_Tav"
   ]
  },
  {
   "cell_type": "code",
   "execution_count": 18,
   "metadata": {},
   "outputs": [],
   "source": [
    "grid = Grid(Model_Tav, periodic='X')"
   ]
  },
  {
   "cell_type": "code",
   "execution_count": 19,
   "metadata": {},
   "outputs": [],
   "source": [
    "list_tracers = ['TRAC01', 'TRAC02','TRAC03','TRAC04','TRAC05',\n",
    "                'TRAC06','TRAC07','TRAC08','TRAC09']\n",
    "\n",
    "list_tracers2 = ['Tr01', 'Tr02','Tr03','Tr04','Tr05',\n",
    "                'Tr06','Tr07','Tr08','Tr09']\n",
    "\n",
    "vels = {'uVeltave':'U', 'vVeltave':'V', 'wVeltave':'W'}"
   ]
  },
  {
   "cell_type": "code",
   "execution_count": 20,
   "metadata": {},
   "outputs": [],
   "source": [
    "Lcoarse = 50e3 # needs to be a multiple of the domain size.\n",
    "idmaxx   = int( (Model_Tav.dxC[0,0].values * len(Model_Tav.XC))/Lcoarse) # numper of grid points to average over\n",
    "nrepsx   = int( len(Model_Tav.XC)/idmaxx )\n",
    "idmaxy   = int( (Model_Tav.dyC[0,0].values * len(Model_Tav.YC))/Lcoarse) # numper of grid points to average over\n",
    "nrepsy   = int( len(Model_Tav.YC)/idmaxy )"
   ]
  },
  {
   "cell_type": "code",
   "execution_count": 21,
   "metadata": {},
   "outputs": [],
   "source": [
    "# Coarse grain velocities \n",
    "\n",
    "YCicoarse = np.repeat(range(idmaxy),nrepsy)\n",
    "XCicoarse = np.repeat(range(idmaxx),nrepsx)\n",
    "\n",
    "# Interpolate mean velocities to all be on same point.# Interp \n",
    "Model_Tav['WmeanC'] = grid.interp(Model_Tav.wVeltave, 'Z', boundary='extend')\n",
    "Model_Tav['VmeanC'] = grid.interp(Model_Tav.vVeltave, 'Y', boundary='extend')\n",
    "Model_Tav['UmeanC'] = grid.interp(Model_Tav.uVeltave, 'X')\n",
    "\n",
    "Model_Tav.coords['XCicoarse'] = ('XC', XCicoarse)\n",
    "Model_Tav.coords['YCicoarse'] = ('YC', YCicoarse)\n",
    "\n",
    "\n",
    "YCcoarse = ('YCicoarse', Model_Tav.YC.groupby('YCicoarse').mean('YC'))\n",
    "XCcoarse = ('XCicoarse', Model_Tav.XC.groupby('XCicoarse').mean('XC'))\n",
    "\n",
    "# coarse grain mean velocities\n",
    "\n",
    "Vels_coarse = xr.Dataset()\n",
    "\n",
    "for i in vels:\n",
    "    temp = (Model_Tav[vels[i]+'meanC'].groupby('YCicoarse').mean('YC')).groupby('XCicoarse').mean('XC')\n",
    "    \n",
    "    temp_array = xr.DataArray(temp.data, coords = [temp.Z, YCcoarse, XCcoarse], \n",
    "                             dims = ['Z', 'YCcoarse', 'XCcoarse'])\n",
    "    \n",
    "    Vels_coarse[vels[i]] = temp_array\n",
    "    \n",
    "hFacCcoarse = ((Model_Tav.hFacC.groupby('YCicoarse').mean('YC')).groupby('XCicoarse').mean('XC'))\n",
    "\n",
    "Vels_coarse.coords['hFacCcoarse'] = (['Z', 'YCcoarse', 'XCcoarse'], hFacCcoarse)"
   ]
  },
  {
   "cell_type": "code",
   "execution_count": 22,
   "metadata": {},
   "outputs": [],
   "source": [
    "# Move eddy fluxes to center point\n",
    "for key in list_tracers2: \n",
    "    Trac_Tav['DFrI'+key] = grid.interp(Trac_Tav['DFrI'+key],'Z', boundary='extend')\n",
    "    \n",
    "for key in list_tracers: \n",
    "        Trac_Tav['V'+key] = grid.interp(Trac_Tav['V'+key], 'Y', boundary='extend')\n",
    "        Trac_Tav['U'+key] = grid.interp(Trac_Tav['U'+key], 'X')\n",
    "        \n",
    "# create coarse grained version of fluxes and mean tracers# create \n",
    "\n",
    "Trac_Tav.coords['YCicoarse'] = ('YC', YCicoarse)\n",
    "Trac_Tav.coords['XCicoarse'] = ('XC', XCicoarse)\n",
    "\n",
    "YCcoarse = ('YCicoarse', Trac_Tav.YC.groupby('YCicoarse').mean('YC'))\n",
    "XCcoarse = ('XCicoarse', Trac_Tav.XC.groupby('XCicoarse').mean('XC'))"
   ]
  },
  {
   "cell_type": "code",
   "execution_count": 23,
   "metadata": {},
   "outputs": [
    {
     "data": {
      "text/plain": [
       "<xarray.Dataset>\n",
       "Dimensions:    (XC: 140, XG: 140, YC: 240, YG: 240, Z: 40, Zl: 40, Zp1: 41, Zu: 40)\n",
       "Coordinates:\n",
       "  * XC         (XC) float32 2500.0 7500.0 12500.0 ... 687500.0 692500.0 697500.0\n",
       "  * YC         (YC) float32 2500.0 7500.0 12500.0 ... 1192500.0 1197500.0\n",
       "  * XG         (XG) float32 0.0 5000.0 10000.0 ... 685000.0 690000.0 695000.0\n",
       "  * YG         (YG) float32 0.0 5000.0 10000.0 ... 1185000.0 1190000.0 1195000.0\n",
       "  * Z          (Z) float32 -2.5 -7.5 -12.5 -18.0 ... -1374.0 -1426.0 -1478.0\n",
       "  * Zp1        (Zp1) float32 0.0 -5.0 -10.0 -15.0 ... -1400.0 -1452.0 -1504.0\n",
       "  * Zu         (Zu) float32 -5.0 -10.0 -15.0 -21.0 ... -1400.0 -1452.0 -1504.0\n",
       "  * Zl         (Zl) float32 0.0 -5.0 -10.0 -15.0 ... -1348.0 -1400.0 -1452.0\n",
       "    rA         (YC, XC) float32 ...\n",
       "    dxG        (YG, XC) float32 ...\n",
       "    dyG        (YC, XG) float32 ...\n",
       "    Depth      (YC, XC) float32 ...\n",
       "    rAz        (YG, XG) float32 ...\n",
       "    dxC        (YC, XG) float32 ...\n",
       "    dyC        (YG, XC) float32 ...\n",
       "    rAw        (YC, XG) float32 ...\n",
       "    rAs        (YG, XC) float32 ...\n",
       "    drC        (Zp1) float32 ...\n",
       "    drF        (Z) float32 ...\n",
       "    PHrefC     (Z) float32 ...\n",
       "    PHrefF     (Zp1) float32 ...\n",
       "    hFacC      (Z, YC, XC) float32 ...\n",
       "    hFacW      (Z, YC, XG) float32 ...\n",
       "    hFacS      (Z, YG, XC) float32 ...\n",
       "    maskC      (Z, YC, XC) bool ...\n",
       "    maskW      (Z, YC, XG) bool ...\n",
       "    maskS      (Z, YG, XC) bool ...\n",
       "    YCicoarse  (YC) int64 0 0 0 0 0 0 0 0 0 0 ... 23 23 23 23 23 23 23 23 23 23\n",
       "    XCicoarse  (XC) int64 0 0 0 0 0 0 0 0 0 0 ... 13 13 13 13 13 13 13 13 13 13\n",
       "Data variables:\n",
       "    TRAC06     (Z, YC, XC) float32 ...\n",
       "    UTRAC06    (Z, YC, XC) float32 0.0 0.0 0.0 ... 3.8806276e-05 3.974688e-05\n",
       "    VTRAC06    (Z, YC, XC) float32 0.0 0.0 0.0 ... -0.0001445392 -0.00013464024\n",
       "    WTRAC06    (Z, YC, XC) float32 ...\n",
       "    DFrITr06   (Z, YC, XC) float32 0.0 0.0 0.0 ... 0.10020352 0.103384234\n",
       "    TRAC02     (Z, YC, XC) float32 ...\n",
       "    UTRAC02    (Z, YC, XC) float32 0.0 0.0 0.0 ... 0.0090908315 0.008968683\n",
       "    VTRAC02    (Z, YC, XC) float32 0.0 0.0 0.0 ... -0.00074516755 -0.0007924137\n",
       "    WTRAC02    (Z, YC, XC) float32 ...\n",
       "    DFrITr02   (Z, YC, XC) float32 0.0 0.0 0.0 ... 0.06007412 0.06604217\n",
       "    TRAC01     (Z, YC, XC) float32 ...\n",
       "    UTRAC01    (Z, YC, XC) float32 0.0 0.0 0.0 ... 0.009431263 0.009308442\n",
       "    VTRAC01    (Z, YC, XC) float32 0.0 0.0 0.0 ... -0.0007922405 -0.00083891215\n",
       "    WTRAC01    (Z, YC, XC) float32 ...\n",
       "    DFrITr01   (Z, YC, XC) float32 0.0 0.0 0.0 ... 0.016018033 0.016522529\n",
       "    TRAC03     (Z, YC, XC) float32 ...\n",
       "    UTRAC03    (Z, YC, XC) float32 0.0 0.0 0.0 ... 0.0027482437 0.0031986295\n",
       "    VTRAC03    (Z, YC, XC) float32 0.0 0.0 0.0 ... -0.0005488549 -0.0005992251\n",
       "    WTRAC03    (Z, YC, XC) float32 ...\n",
       "    DFrITr03   (Z, YC, XC) float32 0.0 0.0 0.0 ... -0.06921818 -0.069286846\n",
       "    TRAC04     (Z, YC, XC) float32 ...\n",
       "    UTRAC04    (Z, YC, XC) float32 0.0 0.0 0.0 ... -0.01365987 -0.013492029\n",
       "    VTRAC04    (Z, YC, XC) float32 0.0 0.0 0.0 ... 0.00022772055 0.00021834145\n",
       "    WTRAC04    (Z, YC, XC) float32 ...\n",
       "    DFrITr04   (Z, YC, XC) float32 0.0 0.0 0.0 ... 0.15064879 0.16419764\n",
       "    TRAC08     (Z, YC, XC) float32 ...\n",
       "    UTRAC08    (Z, YC, XC) float32 0.0 0.0 0.0 ... -0.0010407842 -0.0010387334\n",
       "    VTRAC08    (Z, YC, XC) float32 0.0 0.0 0.0 ... 7.025587e-05 7.3622796e-05\n",
       "    WTRAC08    (Z, YC, XC) float32 ...\n",
       "    DFrITr08   (Z, YC, XC) float32 0.0 0.0 0.0 ... 0.18614443 0.20468795\n",
       "    TRAC07     (Z, YC, XC) float32 ...\n",
       "    UTRAC07    (Z, YC, XC) float32 0.0 0.0 0.0 ... -0.0093512535 -0.009227973\n",
       "    VTRAC07    (Z, YC, XC) float32 0.0 0.0 0.0 ... 0.00076317356 0.0008113011\n",
       "    WTRAC07    (Z, YC, XC) float32 ...\n",
       "    DFrITr07   (Z, YC, XC) float32 0.0 0.0 0.0 ... -0.029288376 -0.031624224\n",
       "    TRAC05     (Z, YC, XC) float32 ...\n",
       "    UTRAC05    (Z, YC, XC) float32 0.0 0.0 0.0 ... 0.00946766 0.009342109\n",
       "    VTRAC05    (Z, YC, XC) float32 0.0 0.0 0.0 ... -0.00080791855 -0.0008538536\n",
       "    WTRAC05    (Z, YC, XC) float32 ...\n",
       "    DFrITr05   (Z, YC, XC) float32 0.0 0.0 0.0 ... 0.007811562 0.007848063\n",
       "    TRAC09     (Z, YC, XC) float32 ...\n",
       "    UTRAC09    (Z, YC, XC) float32 0.0 0.0 0.0 0.0 0.0 ... 0.0 0.0 0.0 0.0 0.0\n",
       "    VTRAC09    (Z, YC, XC) float32 0.0 0.0 0.0 0.0 0.0 ... 0.0 0.0 0.0 0.0 0.0\n",
       "    WTRAC09    (Z, YC, XC) float32 ...\n",
       "    DFrITr09   (Z, YC, XC) float32 0.0 0.0 0.0 0.0 0.0 ... 0.0 0.0 0.0 0.0 0.0"
      ]
     },
     "execution_count": 23,
     "metadata": {},
     "output_type": "execute_result"
    }
   ],
   "source": [
    "Trac_Tav"
   ]
  },
  {
   "cell_type": "code",
   "execution_count": 24,
   "metadata": {},
   "outputs": [],
   "source": [
    "Trac_coarse = xr.Dataset()\n",
    "\n",
    "for i in Trac_Tav.data_vars:\n",
    "    temp_var = (Trac_Tav[i].groupby('YCicoarse').mean('YC')).groupby('XCicoarse').mean('XC')\n",
    "    temp = xr.DataArray(temp_var.data, coords = [temp_var.Z, YCcoarse, XCcoarse], \n",
    "                             dims = ['Z', 'YCcoarse', 'XCcoarse'] )\n",
    "    Trac_coarse[i] = temp"
   ]
  },
  {
   "cell_type": "code",
   "execution_count": 25,
   "metadata": {},
   "outputs": [],
   "source": [
    "# flux datasets \n",
    "\n",
    "for i in list_tracers: \n",
    "    Trac_coarse['Up'+i+'p'] = Trac_coarse['U'+i] - Vels_coarse['U'] * Trac_coarse[i]    \n",
    "    Trac_coarse['Vp'+i+'p'] = Trac_coarse['V'+i] - Vels_coarse['V'] * Trac_coarse[i]\n",
    "    Trac_coarse['Wp'+i+'p'] = Trac_coarse['W'+i] - Vels_coarse['W'] * Trac_coarse[i]"
   ]
  },
  {
   "cell_type": "code",
   "execution_count": 26,
   "metadata": {},
   "outputs": [],
   "source": [
    "Trac_coarse.coords['drF'] = Trac_Tav.drF\n",
    "Trac_coarse.coords['hFacCcoarse'] = (['Z', 'YCcoarse', 'XCcoarse'], hFacCcoarse)"
   ]
  },
  {
   "cell_type": "code",
   "execution_count": 27,
   "metadata": {},
   "outputs": [],
   "source": [
    "# Calculate gradients \n",
    "\n",
    "# Z grads (don't need staggered grid)\n",
    "for i in list_tracers:\n",
    "    Trac_coarse[i+'_Z'] = -grid.diff(grid.interp(Trac_coarse[i], 'Z', boundary='extend'),\n",
    "                                    'Z', boundary='extend')/Trac_coarse.drF"
   ]
  },
  {
   "cell_type": "code",
   "execution_count": 28,
   "metadata": {},
   "outputs": [],
   "source": [
    "# To calculate the tracer gradients we need a staggered coordinate\n",
    "\n",
    "# make staggered coordinates\n",
    "tempy = np.repeat(idmaxy, nrepsy/2)\n",
    "YSicoarse = np.concatenate([YCicoarse[int(nrepsy/2):], tempy])\n",
    "\n",
    "tempx = np.repeat(idmaxx-1, nrepsx/2)\n",
    "XSicoarse = np.concatenate([tempx, XCicoarse[:-int(nrepsx/2)]])\n",
    "\n",
    "trac_stag = xr.Dataset()\n",
    "\n",
    "for i in list_tracers: \n",
    "    trac_stag[i] = Trac_Tav[i]\n",
    "    \n",
    "trac_stag.coords['XSicoarse'] = ('XC', XSicoarse)\n",
    "trac_stag.coords['YSicoarse'] = ('YC', YSicoarse)"
   ]
  },
  {
   "cell_type": "code",
   "execution_count": 29,
   "metadata": {},
   "outputs": [],
   "source": [
    "# Y gradient\n",
    "# only average in Y direction on staggered points to take Y average. \n",
    "# average in X direction is on center points\n",
    "tracsav_stag = xr.Dataset()\n",
    "for i in list_tracers:\n",
    "    tracsav_stag[i] = (trac_stag[i].groupby('YSicoarse').mean('YC')).groupby('XCicoarse').mean('XC')\n",
    "    \n",
    "for i in list_tracers:\n",
    "    temp = tracsav_stag[i].diff('YSicoarse')/Lcoarse\n",
    "    # dy on the end points in Y direction are not full size\n",
    "    temp[:,0,:] = temp[:,0,:] * 4/3\n",
    "    temp[:,-1,:] = temp[:,-1,:] * 4/3 \n",
    "    \n",
    "    temp = xr.DataArray(temp.data, coords=[Trac_coarse.Z, Trac_coarse.YCcoarse, Trac_coarse.XCcoarse, ], \n",
    "                       dims=['Z', 'YCcoarse', 'XCcoarse'])\n",
    "    Trac_coarse[i+'_Y'] = temp\n",
    "    "
   ]
  },
  {
   "cell_type": "code",
   "execution_count": 30,
   "metadata": {},
   "outputs": [],
   "source": [
    "# X grads \n",
    "# only averate in X direction on center points\n",
    "tracsav_stag = xr.Dataset()\n",
    "for i in list_tracers:\n",
    "    tracsav_stag[i] = (trac_stag[i].groupby('YCicoarse').mean('YC')).groupby('XSicoarse').mean('XC')\n",
    "\n",
    "for i in list_tracers:\n",
    "    \n",
    "    temp = (tracsav_stag[i].data - np.roll(tracsav_stag[i].data,1,axis=2))/Lcoarse\n",
    "    \n",
    "    temp = xr.DataArray(temp.data, coords=[Trac_coarse.Z, Trac_coarse.YCcoarse, Trac_coarse.XCcoarse, ], \n",
    "                       dims=['Z', 'YCcoarse', 'XCcoarse'])\n",
    "        \n",
    "    Trac_coarse[i+'_X'] = temp    "
   ]
  },
  {
   "cell_type": "code",
   "execution_count": 31,
   "metadata": {},
   "outputs": [],
   "source": [
    "Trac_coarse.to_netcdf('data/Trac_coarse_'+str(int(Lcoarse//1e3))+'km_3D.nc')\n",
    "Vels_coarse.to_netcdf('data/Vels_coarse_'+str(int(Lcoarse//1e3))+'km_3D.nc')"
   ]
  },
  {
   "cell_type": "markdown",
   "metadata": {},
   "source": [
    "## Spatial Averaging the Temperature Fields"
   ]
  },
  {
   "cell_type": "code",
   "execution_count": 32,
   "metadata": {},
   "outputs": [],
   "source": [
    "# Temperature fields\n",
    "\n",
    "Tmean = Model_Tav.Ttave\n",
    "Tmean.coords['YCicoarse'] = ('YC', YCicoarse)\n",
    "Tmean.coords['XCicoarse'] = ('XC', XCicoarse)\n",
    "\n",
    "T_coarse = xr.Dataset()\n",
    "\n",
    "YCcoarse = ('YCicoarse', Tmean.YC.groupby('YCicoarse').mean('YC'))\n",
    "XCcoarse = ('XCicoarse', Tmean.XC.groupby('XCicoarse').mean('XC'))\n",
    "# coarse grain mean velocities\n",
    "\n",
    "\n",
    "temp = (Tmean.groupby('YCicoarse').mean('YC')).groupby('XCicoarse').mean('XC')\n",
    "    \n",
    "temp_array = xr.DataArray(temp.data, coords = [temp.Z, YCcoarse, XCcoarse], \n",
    "                            dims = ['Z', 'YCcoarse', 'XCcoarse'])\n",
    "    \n",
    "T_coarse['T'] = temp_array"
   ]
  },
  {
   "cell_type": "code",
   "execution_count": 33,
   "metadata": {},
   "outputs": [],
   "source": [
    "T_coarse.coords['hFacCcoarse'] = (['Z', 'YCcoarse', 'XCcoarse'], hFacCcoarse)"
   ]
  },
  {
   "cell_type": "code",
   "execution_count": 34,
   "metadata": {},
   "outputs": [],
   "source": [
    "# Z grads\n",
    "T_coarse['T_Z'] = -grid.diff(grid.interp(T_coarse['T'], 'Z', boundary='extend'),\n",
    "                                    'Z', boundary='extend')/Tmean.drF"
   ]
  },
  {
   "cell_type": "code",
   "execution_count": 35,
   "metadata": {},
   "outputs": [],
   "source": [
    "Tstag = Tmean\n",
    "Tstag.coords['YSicoarse'] = ('YC', YSicoarse)\n",
    "Tstag.coords['XSicoarse'] = ('XC', XSicoarse)\n",
    "\n",
    "# Y grads \n",
    "Tstag_sav = (Tstag.groupby('YSicoarse').mean('YC')).groupby('XCicoarse').mean('XC')\n",
    "\n",
    "temp = Tstag_sav.diff('YSicoarse')/Lcoarse\n",
    "temp[:,0,:] = temp[:,0,:] * 4/3\n",
    "temp[:,-1,:] = temp[:,-1,:] * 4/3   \n",
    "    \n",
    "temp = xr.DataArray(temp.data, dims=['Z', 'YCcoarse', 'XCcoarse'],\n",
    "                    coords=[ T_coarse.Z, T_coarse.YCcoarse,T_coarse.XCcoarse])\n",
    "    \n",
    "T_coarse['T_Y'] = temp"
   ]
  },
  {
   "cell_type": "code",
   "execution_count": 36,
   "metadata": {},
   "outputs": [],
   "source": [
    "# X grads \n",
    "# only averate in X direction on center points\n",
    "Tstag_sav = (Tstag.groupby('YCicoarse').mean('YC')).groupby('XSicoarse').mean('XC')\n",
    "\n",
    "temp = (Tstag_sav.data - np.roll(Tstag_sav.data,1,axis=2))/Lcoarse\n",
    "temp = xr.DataArray(temp.data, dims=['Z', 'YCcoarse', 'XCcoarse'],\n",
    "                    coords=[T_coarse.Z ,T_coarse.YCcoarse, T_coarse.XCcoarse])\n",
    "        \n",
    "T_coarse['T_X'] = temp"
   ]
  },
  {
   "cell_type": "code",
   "execution_count": 37,
   "metadata": {},
   "outputs": [
    {
     "data": {
      "text/plain": [
       "<xarray.Dataset>\n",
       "Dimensions:    (XC: 140, XG: 140, YC: 240, YG: 240, Z: 40, Zl: 40, Zp1: 41, Zu: 40)\n",
       "Coordinates:\n",
       "  * XC         (XC) float32 2500.0 7500.0 12500.0 ... 687500.0 692500.0 697500.0\n",
       "  * YC         (YC) float32 2500.0 7500.0 12500.0 ... 1192500.0 1197500.0\n",
       "  * XG         (XG) float32 0.0 5000.0 10000.0 ... 685000.0 690000.0 695000.0\n",
       "  * YG         (YG) float32 0.0 5000.0 10000.0 ... 1185000.0 1190000.0 1195000.0\n",
       "  * Z          (Z) float32 -2.5 -7.5 -12.5 -18.0 ... -1374.0 -1426.0 -1478.0\n",
       "  * Zp1        (Zp1) float32 0.0 -5.0 -10.0 -15.0 ... -1400.0 -1452.0 -1504.0\n",
       "  * Zu         (Zu) float32 -5.0 -10.0 -15.0 -21.0 ... -1400.0 -1452.0 -1504.0\n",
       "  * Zl         (Zl) float32 0.0 -5.0 -10.0 -15.0 ... -1348.0 -1400.0 -1452.0\n",
       "    rA         (YC, XC) float32 ...\n",
       "    dxG        (YG, XC) float32 ...\n",
       "    dyG        (YC, XG) float32 ...\n",
       "    Depth      (YC, XC) float32 ...\n",
       "    rAz        (YG, XG) float32 ...\n",
       "    dxC        (YC, XG) float32 ...\n",
       "    dyC        (YG, XC) float32 ...\n",
       "    rAw        (YC, XG) float32 ...\n",
       "    rAs        (YG, XC) float32 ...\n",
       "    drC        (Zp1) float32 ...\n",
       "    drF        (Z) float32 ...\n",
       "    PHrefC     (Z) float32 ...\n",
       "    PHrefF     (Zp1) float32 ...\n",
       "    hFacC      (Z, YC, XC) float32 ...\n",
       "    hFacW      (Z, YC, XG) float32 ...\n",
       "    hFacS      (Z, YG, XC) float32 ...\n",
       "    maskC      (Z, YC, XC) bool ...\n",
       "    maskW      (Z, YC, XG) bool ...\n",
       "    maskS      (Z, YG, XC) bool ...\n",
       "    XCicoarse  (XC) int64 0 0 0 0 0 0 0 0 0 0 ... 13 13 13 13 13 13 13 13 13 13\n",
       "    YCicoarse  (YC) int64 0 0 0 0 0 0 0 0 0 0 ... 23 23 23 23 23 23 23 23 23 23\n",
       "Data variables:\n",
       "    ETAtave    (YC, XC) float32 ...\n",
       "    Ttave      (Z, YC, XC) float32 ...\n",
       "    wVeltave   (Zl, YC, XC) float32 0.0 0.0 0.0 ... -6.9235884e-06 -6.991167e-06\n",
       "    uVeltave   (Z, YC, XG) float32 0.0 0.0 0.0 ... 0.010263759 0.0101534\n",
       "    TTtave     (Z, YC, XC) float32 ...\n",
       "    UUtave     (Z, YC, XG) float32 ...\n",
       "    UTtave     (Z, YC, XG) float32 ...\n",
       "    UVtave     (Z, YG, XG) float32 ...\n",
       "    WTtave     (Zl, YC, XC) float32 ...\n",
       "    VTtave     (Z, YG, XC) float32 ...\n",
       "    vVeltave   (Z, YG, XC) float32 0.0 0.0 0.0 ... -0.0008315667 -0.0008839119\n",
       "    VVtave     (Z, YG, XC) float32 ...\n",
       "    WmeanC     (Z, YC, XC) float32 0.0 0.0 0.0 ... -6.9235884e-06 -6.991167e-06\n",
       "    VmeanC     (Z, YC, XC) float32 0.0 0.0 0.0 ... -0.0008315667 -0.0008839119\n",
       "    UmeanC     (Z, YC, XC) float32 0.0 0.0 0.0 ... 0.010208579 0.010075567"
      ]
     },
     "execution_count": 37,
     "metadata": {},
     "output_type": "execute_result"
    }
   ],
   "source": [
    "Model_Tav"
   ]
  },
  {
   "cell_type": "code",
   "execution_count": 38,
   "metadata": {},
   "outputs": [],
   "source": [
    "Model_Tav['UTtave'] = grid.interp(Model_Tav.UTtave, 'X')\n",
    "Model_Tav['VTtave'] = grid.interp(Model_Tav.VTtave, 'Y', boundary='extend')\n",
    "Model_Tav['WTtave'] = grid.interp(Model_Tav.WTtave, 'Z', boundary='extend')\n",
    "\n",
    "Model_Tav.coords['YCicoarse'] = ('YC', YCicoarse)\n",
    "Model_Tav.coords['XCicoarse'] = ('XC', XCicoarse)\n",
    "\n",
    "for i in ['UT','VT','WT','TT']: \n",
    "    temp = (Model_Tav[i+'tave'].groupby('YCicoarse').mean('YC')).groupby('XCicoarse').mean('XC') \n",
    "    temp = xr.DataArray(temp.data, dims=['Z', 'YCcoarse', 'XCcoarse'],\n",
    "                    coords=[T_coarse.Z ,T_coarse.YCcoarse, T_coarse.XCcoarse])\n",
    "    T_coarse[i] = temp\n",
    "    \n",
    "T_coarse['UpTp'] = T_coarse['UT'] - Vels_coarse['U'] *T_coarse['T']\n",
    "T_coarse['VpTp'] = T_coarse['VT'] - Vels_coarse['V'] *T_coarse['T']\n",
    "T_coarse['WpTp'] = T_coarse['WT'] - Vels_coarse['W'] *T_coarse['T']\n",
    "T_coarse['TpTp'] = T_coarse['TT'] - T_coarse['T']**2"
   ]
  },
  {
   "cell_type": "code",
   "execution_count": 39,
   "metadata": {},
   "outputs": [
    {
     "data": {
      "text/plain": [
       "<xarray.Dataset>\n",
       "Dimensions:      (XCcoarse: 14, YCcoarse: 24, Z: 40)\n",
       "Coordinates:\n",
       "  * Z            (Z) float32 -2.5 -7.5 -12.5 -18.0 ... -1374.0 -1426.0 -1478.0\n",
       "  * YCcoarse     (YCcoarse) float32 25000.0 75000.0 ... 1125000.0 1175000.0\n",
       "  * XCcoarse     (XCcoarse) float32 25000.0 75000.0 ... 625000.0 675000.0\n",
       "    hFacCcoarse  (Z, YCcoarse, XCcoarse) float32 0.9 0.9 ... 0.9230769 0.9230769\n",
       "    drF          (Z) float32 ...\n",
       "    PHrefC       (Z) float32 ...\n",
       "Data variables:\n",
       "    T            (Z, YCcoarse, XCcoarse) float32 1.3140967 ... 0.92313766\n",
       "    T_Z          (Z, YCcoarse, XCcoarse) float32 -3.118515e-05 ... -0.0\n",
       "    T_Y          (Z, YCcoarse, XCcoarse) float32 9.538218e-06 ... 4.2023657e-08\n",
       "    T_X          (Z, YCcoarse, XCcoarse) float32 -7.857323e-08 ... 3.6406518e-09\n",
       "    UT           (Z, YCcoarse, XCcoarse) float32 0.022464532 ... 0.023961294\n",
       "    VT           (Z, YCcoarse, XCcoarse) float32 0.0009504386 ... -0.0005595804\n",
       "    WT           (Z, YCcoarse, XCcoarse) float32 2.540608e-07 ... -1.2780476e-06\n",
       "    TT           (Z, YCcoarse, XCcoarse) float32 1.9388459 ... 0.8522382\n",
       "    UpTp         (Z, YCcoarse, XCcoarse) float32 0.0031557214 ... -0.0019955225\n",
       "    VpTp         (Z, YCcoarse, XCcoarse) float32 -0.000289287 ... 3.4088385e-05\n",
       "    WpTp         (Z, YCcoarse, XCcoarse) float32 1.3375144e-07 ... -9.994437e-09\n",
       "    TpTp         (Z, YCcoarse, XCcoarse) float32 0.21199572 ... 5.5015087e-05"
      ]
     },
     "execution_count": 39,
     "metadata": {},
     "output_type": "execute_result"
    }
   ],
   "source": [
    "T_coarse"
   ]
  },
  {
   "cell_type": "code",
   "execution_count": 41,
   "metadata": {},
   "outputs": [],
   "source": [
    "T_coarse.to_netcdf('data/T_coarse_'+str(int(Lcoarse//1e3))+'km_3D.nc')"
   ]
  },
  {
   "cell_type": "code",
   "execution_count": null,
   "metadata": {},
   "outputs": [],
   "source": []
  }
 ],
 "metadata": {
  "kernelspec": {
   "display_name": "Pangeo",
   "language": "python",
   "name": "pangeo"
  },
  "language_info": {
   "codemirror_mode": {
    "name": "ipython",
    "version": 3
   },
   "file_extension": ".py",
   "mimetype": "text/x-python",
   "name": "python",
   "nbconvert_exporter": "python",
   "pygments_lexer": "ipython3",
   "version": "3.6.7"
  }
 },
 "nbformat": 4,
 "nbformat_minor": 2
}
