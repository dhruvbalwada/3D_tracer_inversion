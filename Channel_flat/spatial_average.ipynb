{
 "cells": [
  {
   "cell_type": "markdown",
   "metadata": {},
   "source": [
    "# Spatial averaging/ Coarse graining\n",
    "\n",
    "Here we do a coarse graining on the time averaged fields. "
   ]
  },
  {
   "cell_type": "code",
   "execution_count": 1,
   "metadata": {},
   "outputs": [],
   "source": [
    "# load modules\n",
    "import xarray as xr\n",
    "import numpy  as np\n",
    "from xgcm import Grid\n",
    "%matplotlib inline"
   ]
  },
  {
   "cell_type": "code",
   "execution_count": 2,
   "metadata": {},
   "outputs": [],
   "source": [
    "# Load time averages \n",
    "Model_Tav = xr.open_dataset('./data/Model_Tav_3D.nc')\n",
    "Trac_Tav  = xr.open_dataset('./data/Trac_Tav_3D.nc')"
   ]
  },
  {
   "cell_type": "code",
   "execution_count": 3,
   "metadata": {},
   "outputs": [
    {
     "data": {
      "text/plain": [
       "<xarray.Dataset>\n",
       "Dimensions:   (XC: 140, XG: 140, YC: 240, YG: 240, Z: 40, Zl: 40, Zp1: 41, Zu: 40)\n",
       "Coordinates:\n",
       "  * XC        (XC) float32 2500.0 7500.0 12500.0 ... 687500.0 692500.0 697500.0\n",
       "  * YC        (YC) float32 2500.0 7500.0 12500.0 ... 1192500.0 1197500.0\n",
       "  * XG        (XG) float32 0.0 5000.0 10000.0 ... 685000.0 690000.0 695000.0\n",
       "  * YG        (YG) float32 0.0 5000.0 10000.0 ... 1185000.0 1190000.0 1195000.0\n",
       "  * Z         (Z) float32 -2.5 -7.5 -12.5 -18.0 ... -1374.0 -1426.0 -1478.0\n",
       "  * Zp1       (Zp1) float32 0.0 -5.0 -10.0 -15.0 ... -1400.0 -1452.0 -1504.0\n",
       "  * Zu        (Zu) float32 -5.0 -10.0 -15.0 -21.0 ... -1400.0 -1452.0 -1504.0\n",
       "  * Zl        (Zl) float32 0.0 -5.0 -10.0 -15.0 ... -1348.0 -1400.0 -1452.0\n",
       "    rA        (YC, XC) float32 ...\n",
       "    dxG       (YG, XC) float32 ...\n",
       "    dyG       (YC, XG) float32 ...\n",
       "    Depth     (YC, XC) float32 ...\n",
       "    rAz       (YG, XG) float32 ...\n",
       "    dxC       (YC, XG) float32 ...\n",
       "    dyC       (YG, XC) float32 ...\n",
       "    rAw       (YC, XG) float32 ...\n",
       "    rAs       (YG, XC) float32 ...\n",
       "    drC       (Zp1) float32 ...\n",
       "    drF       (Z) float32 ...\n",
       "    PHrefC    (Z) float32 ...\n",
       "    PHrefF    (Zp1) float32 ...\n",
       "    hFacC     (Z, YC, XC) float32 ...\n",
       "    hFacW     (Z, YC, XG) float32 ...\n",
       "    hFacS     (Z, YG, XC) float32 ...\n",
       "    maskC     (Z, YC, XC) bool ...\n",
       "    maskW     (Z, YC, XG) bool ...\n",
       "    maskS     (Z, YG, XC) bool ...\n",
       "Data variables:\n",
       "    TRAC04    (Z, YC, XC) float32 ...\n",
       "    UTRAC04   (Z, YC, XG) float32 ...\n",
       "    VTRAC04   (Z, YG, XC) float32 ...\n",
       "    WTRAC04   (Z, YC, XC) float32 ...\n",
       "    DFrITr04  (Zl, YC, XC) float32 ...\n",
       "    ForcTr04  (Z, YC, XC) float32 ...\n",
       "    TRAC03    (Z, YC, XC) float32 ...\n",
       "    UTRAC03   (Z, YC, XG) float32 ...\n",
       "    VTRAC03   (Z, YG, XC) float32 ...\n",
       "    WTRAC03   (Z, YC, XC) float32 ...\n",
       "    DFrITr03  (Zl, YC, XC) float32 ...\n",
       "    ForcTr03  (Z, YC, XC) float32 ...\n",
       "    TRAC01    (Z, YC, XC) float32 ...\n",
       "    UTRAC01   (Z, YC, XG) float32 ...\n",
       "    VTRAC01   (Z, YG, XC) float32 ...\n",
       "    WTRAC01   (Z, YC, XC) float32 ...\n",
       "    DFrITr01  (Zl, YC, XC) float32 ...\n",
       "    ForcTr01  (Z, YC, XC) float32 ...\n",
       "    TRAC02    (Z, YC, XC) float32 ...\n",
       "    UTRAC02   (Z, YC, XG) float32 ...\n",
       "    VTRAC02   (Z, YG, XC) float32 ...\n",
       "    WTRAC02   (Z, YC, XC) float32 ...\n",
       "    DFrITr02  (Zl, YC, XC) float32 ...\n",
       "    ForcTr02  (Z, YC, XC) float32 ...\n",
       "    TRAC06    (Z, YC, XC) float32 ...\n",
       "    UTRAC06   (Z, YC, XG) float32 ...\n",
       "    VTRAC06   (Z, YG, XC) float32 ...\n",
       "    WTRAC06   (Z, YC, XC) float32 ...\n",
       "    DFrITr06  (Zl, YC, XC) float32 ...\n",
       "    ForcTr06  (Z, YC, XC) float32 ...\n",
       "    TRAC05    (Z, YC, XC) float32 ...\n",
       "    UTRAC05   (Z, YC, XG) float32 ...\n",
       "    VTRAC05   (Z, YG, XC) float32 ...\n",
       "    WTRAC05   (Z, YC, XC) float32 ...\n",
       "    DFrITr05  (Zl, YC, XC) float32 ...\n",
       "    ForcTr05  (Z, YC, XC) float32 ...\n",
       "    TRAC07    (Z, YC, XC) float32 ...\n",
       "    UTRAC07   (Z, YC, XG) float32 ...\n",
       "    VTRAC07   (Z, YG, XC) float32 ...\n",
       "    WTRAC07   (Z, YC, XC) float32 ...\n",
       "    DFrITr07  (Zl, YC, XC) float32 ...\n",
       "    ForcTr07  (Z, YC, XC) float32 ...\n",
       "    TRAC08    (Z, YC, XC) float32 ...\n",
       "    UTRAC08   (Z, YC, XG) float32 ...\n",
       "    VTRAC08   (Z, YG, XC) float32 ...\n",
       "    WTRAC08   (Z, YC, XC) float32 ...\n",
       "    DFrITr08  (Zl, YC, XC) float32 ...\n",
       "    ForcTr08  (Z, YC, XC) float32 ..."
      ]
     },
     "execution_count": 3,
     "metadata": {},
     "output_type": "execute_result"
    }
   ],
   "source": [
    "Trac_Tav"
   ]
  },
  {
   "cell_type": "code",
   "execution_count": 4,
   "metadata": {},
   "outputs": [],
   "source": [
    "grid = Grid(Model_Tav, periodic='X')"
   ]
  },
  {
   "cell_type": "code",
   "execution_count": 5,
   "metadata": {},
   "outputs": [],
   "source": [
    "list_tracers = ['TRAC01', 'TRAC02','TRAC03','TRAC04','TRAC05',\n",
    "                'TRAC06','TRAC07','TRAC08']\n",
    "\n",
    "list_tracers2 = ['Tr01', 'Tr02','Tr03','Tr04','Tr05',\n",
    "                'Tr06','Tr07','Tr08']\n",
    "\n",
    "vels = {'uVeltave':'U', 'vVeltave':'V', 'wVeltave':'W'}"
   ]
  },
  {
   "cell_type": "code",
   "execution_count": 6,
   "metadata": {},
   "outputs": [],
   "source": [
    "Lcoarse = 50e3 # needs to be a multiple of the domain size.\n",
    "idmaxx   = int( (Model_Tav.dxC[0,0].values * len(Model_Tav.XC))/Lcoarse) # numper of grid points to average over\n",
    "nrepsx   = int( len(Model_Tav.XC)/idmaxx )\n",
    "idmaxy   = int( (Model_Tav.dyC[0,0].values * len(Model_Tav.YC))/Lcoarse) # numper of grid points to average over\n",
    "nrepsy   = int( len(Model_Tav.YC)/idmaxy )"
   ]
  },
  {
   "cell_type": "code",
   "execution_count": 7,
   "metadata": {},
   "outputs": [],
   "source": [
    "# Coarse grain velocities \n",
    "\n",
    "YCicoarse = np.repeat(range(idmaxy),nrepsy)\n",
    "XCicoarse = np.repeat(range(idmaxx),nrepsx)\n",
    "\n",
    "# Interpolate mean velocities to all be on same point.# Interp \n",
    "Model_Tav['WmeanC'] = grid.interp(Model_Tav.wVeltave, 'Z', boundary='extend')\n",
    "Model_Tav['VmeanC'] = grid.interp(Model_Tav.vVeltave, 'Y', boundary='extend')\n",
    "Model_Tav['UmeanC'] = grid.interp(Model_Tav.uVeltave, 'X')\n",
    "\n",
    "Model_Tav.coords['XCicoarse'] = ('XC', XCicoarse)\n",
    "Model_Tav.coords['YCicoarse'] = ('YC', YCicoarse)\n",
    "\n",
    "\n",
    "YCcoarse = ('YCicoarse', Model_Tav.YC.groupby('YCicoarse').mean('YC'))\n",
    "XCcoarse = ('XCicoarse', Model_Tav.XC.groupby('XCicoarse').mean('XC'))\n",
    "\n",
    "# coarse grain mean velocities\n",
    "\n",
    "Vels_coarse = xr.Dataset()\n",
    "\n",
    "for i in vels:\n",
    "    temp = (Model_Tav[vels[i]+'meanC'].groupby('YCicoarse').mean('YC')).groupby('XCicoarse').mean('XC')\n",
    "    \n",
    "    temp_array = xr.DataArray(temp.data, coords = [temp.Z, YCcoarse, XCcoarse], \n",
    "                             dims = ['Z', 'YCcoarse', 'XCcoarse'])\n",
    "    \n",
    "    Vels_coarse[vels[i]] = temp_array\n",
    "    \n",
    "hFacCcoarse = ((Model_Tav.hFacC.groupby('YCicoarse').mean('YC')).groupby('XCicoarse').mean('XC'))\n",
    "\n",
    "Vels_coarse.coords['hFacCcoarse'] = (['Z', 'YCcoarse', 'XCcoarse'], hFacCcoarse)"
   ]
  },
  {
   "cell_type": "code",
   "execution_count": 8,
   "metadata": {},
   "outputs": [],
   "source": [
    "# Move eddy fluxes to center point\n",
    "for key in list_tracers2: \n",
    "    Trac_Tav['DFrI'+key] = grid.interp(Trac_Tav['DFrI'+key],'Z', boundary='extend')\n",
    "    \n",
    "for key in list_tracers: \n",
    "        Trac_Tav['V'+key] = grid.interp(Trac_Tav['V'+key], 'Y', boundary='extend')\n",
    "        Trac_Tav['U'+key] = grid.interp(Trac_Tav['U'+key], 'X')\n",
    "        \n",
    "# create coarse grained version of fluxes and mean tracers# create \n",
    "\n",
    "Trac_Tav.coords['YCicoarse'] = ('YC', YCicoarse)\n",
    "Trac_Tav.coords['XCicoarse'] = ('XC', XCicoarse)\n",
    "\n",
    "YCcoarse = ('YCicoarse', Trac_Tav.YC.groupby('YCicoarse').mean('YC'))\n",
    "XCcoarse = ('XCicoarse', Trac_Tav.XC.groupby('XCicoarse').mean('XC'))"
   ]
  },
  {
   "cell_type": "code",
   "execution_count": 9,
   "metadata": {},
   "outputs": [
    {
     "data": {
      "text/plain": [
       "<xarray.Dataset>\n",
       "Dimensions:    (XC: 140, XG: 140, YC: 240, YG: 240, Z: 40, Zl: 40, Zp1: 41, Zu: 40)\n",
       "Coordinates:\n",
       "  * XC         (XC) float32 2500.0 7500.0 12500.0 ... 687500.0 692500.0 697500.0\n",
       "  * YC         (YC) float32 2500.0 7500.0 12500.0 ... 1192500.0 1197500.0\n",
       "  * XG         (XG) float32 0.0 5000.0 10000.0 ... 685000.0 690000.0 695000.0\n",
       "  * YG         (YG) float32 0.0 5000.0 10000.0 ... 1185000.0 1190000.0 1195000.0\n",
       "  * Z          (Z) float32 -2.5 -7.5 -12.5 -18.0 ... -1374.0 -1426.0 -1478.0\n",
       "  * Zp1        (Zp1) float32 0.0 -5.0 -10.0 -15.0 ... -1400.0 -1452.0 -1504.0\n",
       "  * Zu         (Zu) float32 -5.0 -10.0 -15.0 -21.0 ... -1400.0 -1452.0 -1504.0\n",
       "  * Zl         (Zl) float32 0.0 -5.0 -10.0 -15.0 ... -1348.0 -1400.0 -1452.0\n",
       "    rA         (YC, XC) float32 ...\n",
       "    dxG        (YG, XC) float32 ...\n",
       "    dyG        (YC, XG) float32 ...\n",
       "    Depth      (YC, XC) float32 ...\n",
       "    rAz        (YG, XG) float32 ...\n",
       "    dxC        (YC, XG) float32 ...\n",
       "    dyC        (YG, XC) float32 ...\n",
       "    rAw        (YC, XG) float32 ...\n",
       "    rAs        (YG, XC) float32 ...\n",
       "    drC        (Zp1) float32 ...\n",
       "    drF        (Z) float32 ...\n",
       "    PHrefC     (Z) float32 ...\n",
       "    PHrefF     (Zp1) float32 ...\n",
       "    hFacC      (Z, YC, XC) float32 ...\n",
       "    hFacW      (Z, YC, XG) float32 ...\n",
       "    hFacS      (Z, YG, XC) float32 ...\n",
       "    maskC      (Z, YC, XC) bool ...\n",
       "    maskW      (Z, YC, XG) bool ...\n",
       "    maskS      (Z, YG, XC) bool ...\n",
       "    YCicoarse  (YC) int64 0 0 0 0 0 0 0 0 0 0 ... 23 23 23 23 23 23 23 23 23 23\n",
       "    XCicoarse  (XC) int64 0 0 0 0 0 0 0 0 0 0 ... 13 13 13 13 13 13 13 13 13 13\n",
       "Data variables:\n",
       "    TRAC04     (Z, YC, XC) float32 ...\n",
       "    UTRAC04    (Z, YC, XC) float32 0.0 0.0 0.0 ... -0.0029753556 -0.00300306\n",
       "    VTRAC04    (Z, YC, XC) float32 0.0 0.0 0.0 ... 0.00012927283 0.00012549334\n",
       "    WTRAC04    (Z, YC, XC) float32 ...\n",
       "    DFrITr04   (Z, YC, XC) float32 0.0 0.0 0.0 ... 0.32668525 0.2816345\n",
       "    ForcTr04   (Z, YC, XC) float32 ...\n",
       "    TRAC03     (Z, YC, XC) float32 ...\n",
       "    UTRAC03    (Z, YC, XC) float32 0.0 0.0 0.0 ... -0.0017741665 -0.0016908424\n",
       "    VTRAC03    (Z, YC, XC) float32 0.0 0.0 0.0 ... -0.00010865492 -0.00011229231\n",
       "    WTRAC03    (Z, YC, XC) float32 ...\n",
       "    DFrITr03   (Z, YC, XC) float32 0.0 0.0 0.0 ... 0.017078424 -0.012835185\n",
       "    ForcTr03   (Z, YC, XC) float32 ...\n",
       "    TRAC01     (Z, YC, XC) float32 ...\n",
       "    UTRAC01    (Z, YC, XC) float32 0.0 0.0 0.0 ... 0.009466937 0.009277181\n",
       "    VTRAC01    (Z, YC, XC) float32 0.0 0.0 0.0 ... -0.0010086533 -0.0009935318\n",
       "    WTRAC01    (Z, YC, XC) float32 ...\n",
       "    DFrITr01   (Z, YC, XC) float32 0.0 0.0 0.0 ... 0.11967494 0.1336317\n",
       "    ForcTr01   (Z, YC, XC) float32 ...\n",
       "    TRAC02     (Z, YC, XC) float32 ...\n",
       "    UTRAC02    (Z, YC, XC) float32 0.0 0.0 0.0 ... 0.009720083 0.00952171\n",
       "    VTRAC02    (Z, YC, XC) float32 0.0 0.0 0.0 ... -0.0010225357 -0.0010076266\n",
       "    WTRAC02    (Z, YC, XC) float32 ...\n",
       "    DFrITr02   (Z, YC, XC) float32 0.0 0.0 0.0 ... 0.18618217 0.17475721\n",
       "    ForcTr02   (Z, YC, XC) float32 ...\n",
       "    TRAC06     (Z, YC, XC) float32 ...\n",
       "    UTRAC06    (Z, YC, XC) float32 0.0 0.0 0.0 ... -0.0030163825 -0.0029632542\n",
       "    VTRAC06    (Z, YC, XC) float32 0.0 0.0 0.0 ... 0.0002631684 0.0002599599\n",
       "    WTRAC06    (Z, YC, XC) float32 ...\n",
       "    DFrITr06   (Z, YC, XC) float32 0.0 0.0 0.0 ... 0.32049286 0.34124455\n",
       "    ForcTr06   (Z, YC, XC) float32 ...\n",
       "    TRAC05     (Z, YC, XC) float32 ...\n",
       "    UTRAC05    (Z, YC, XC) float32 0.0 0.0 0.0 ... 0.007072997 0.0069189994\n",
       "    VTRAC05    (Z, YC, XC) float32 0.0 0.0 0.0 ... -0.00081651314 -0.00080233335\n",
       "    WTRAC05    (Z, YC, XC) float32 ...\n",
       "    DFrITr05   (Z, YC, XC) float32 0.0 0.0 0.0 ... 0.37459463 0.41889778\n",
       "    ForcTr05   (Z, YC, XC) float32 ...\n",
       "    TRAC07     (Z, YC, XC) float32 ...\n",
       "    UTRAC07    (Z, YC, XC) float32 0.0 0.0 0.0 ... -0.010021712 -0.009818733\n",
       "    VTRAC07    (Z, YC, XC) float32 0.0 0.0 0.0 ... 0.0010505856 0.0010352919\n",
       "    WTRAC07    (Z, YC, XC) float32 ...\n",
       "    DFrITr07   (Z, YC, XC) float32 0.0 0.0 0.0 ... -0.16028835 -0.153252\n",
       "    ForcTr07   (Z, YC, XC) float32 ...\n",
       "    TRAC08     (Z, YC, XC) float32 ...\n",
       "    UTRAC08    (Z, YC, XC) float32 0.0 0.0 0.0 ... -0.0028612239 -0.0028328416\n",
       "    VTRAC08    (Z, YC, XC) float32 0.0 0.0 0.0 ... 0.0002481265 0.00024582475\n",
       "    WTRAC08    (Z, YC, XC) float32 ...\n",
       "    DFrITr08   (Z, YC, XC) float32 0.0 0.0 0.0 ... 0.54355085 0.50896156\n",
       "    ForcTr08   (Z, YC, XC) float32 ..."
      ]
     },
     "execution_count": 9,
     "metadata": {},
     "output_type": "execute_result"
    }
   ],
   "source": [
    "Trac_Tav"
   ]
  },
  {
   "cell_type": "code",
   "execution_count": 10,
   "metadata": {},
   "outputs": [],
   "source": [
    "Trac_coarse = xr.Dataset()\n",
    "\n",
    "for i in Trac_Tav.data_vars:\n",
    "    temp_var = (Trac_Tav[i].groupby('YCicoarse').mean('YC')).groupby('XCicoarse').mean('XC')\n",
    "    temp = xr.DataArray(temp_var.data, coords = [temp_var.Z, YCcoarse, XCcoarse], \n",
    "                             dims = ['Z', 'YCcoarse', 'XCcoarse'] )\n",
    "    Trac_coarse[i] = temp"
   ]
  },
  {
   "cell_type": "code",
   "execution_count": 11,
   "metadata": {},
   "outputs": [],
   "source": [
    "# flux datasets \n",
    "\n",
    "for i in list_tracers: \n",
    "    Trac_coarse['Up'+i+'p'] = Trac_coarse['U'+i] - Vels_coarse['U'] * Trac_coarse[i]    \n",
    "    Trac_coarse['Vp'+i+'p'] = Trac_coarse['V'+i] - Vels_coarse['V'] * Trac_coarse[i]\n",
    "    Trac_coarse['Wp'+i+'p'] = Trac_coarse['W'+i] - Vels_coarse['W'] * Trac_coarse[i]"
   ]
  },
  {
   "cell_type": "code",
   "execution_count": 12,
   "metadata": {},
   "outputs": [],
   "source": [
    "Trac_coarse.coords['drF'] = Trac_Tav.drF\n",
    "Trac_coarse.coords['hFacCcoarse'] = (['Z', 'YCcoarse', 'XCcoarse'], hFacCcoarse)"
   ]
  },
  {
   "cell_type": "code",
   "execution_count": 13,
   "metadata": {},
   "outputs": [],
   "source": [
    "# Calculate gradients \n",
    "\n",
    "# Z grads (don't need staggered grid)\n",
    "for i in list_tracers:\n",
    "    Trac_coarse[i+'_Z'] = -grid.diff(grid.interp(Trac_coarse[i], 'Z', boundary='extend'),\n",
    "                                    'Z', boundary='extend')/Trac_coarse.drF"
   ]
  },
  {
   "cell_type": "code",
   "execution_count": 14,
   "metadata": {},
   "outputs": [],
   "source": [
    "# To calculate the tracer gradients we need a staggered coordinate\n",
    "\n",
    "# make staggered coordinates\n",
    "tempy = np.repeat(idmaxy, nrepsy/2)\n",
    "YSicoarse = np.concatenate([YCicoarse[int(nrepsy/2):], tempy])\n",
    "\n",
    "tempx = np.repeat(idmaxx-1, nrepsx/2)\n",
    "XSicoarse = np.concatenate([tempx, XCicoarse[:-int(nrepsx/2)]])\n",
    "\n",
    "trac_stag = xr.Dataset()\n",
    "\n",
    "for i in list_tracers: \n",
    "    trac_stag[i] = Trac_Tav[i]\n",
    "    \n",
    "trac_stag.coords['XSicoarse'] = ('XC', XSicoarse)\n",
    "trac_stag.coords['YSicoarse'] = ('YC', YSicoarse)"
   ]
  },
  {
   "cell_type": "code",
   "execution_count": 15,
   "metadata": {},
   "outputs": [],
   "source": [
    "# Y gradient\n",
    "# only average in Y direction on staggered points to take Y average. \n",
    "# average in X direction is on center points\n",
    "tracsav_stag = xr.Dataset()\n",
    "for i in list_tracers:\n",
    "    tracsav_stag[i] = (trac_stag[i].groupby('YSicoarse').mean('YC')).groupby('XCicoarse').mean('XC')\n",
    "    \n",
    "for i in list_tracers:\n",
    "    temp = tracsav_stag[i].diff('YSicoarse')/Lcoarse\n",
    "    # dy on the end points in Y direction are not full size\n",
    "    temp[:,0,:] = temp[:,0,:] * 4/3\n",
    "    temp[:,-1,:] = temp[:,-1,:] * 4/3 \n",
    "    \n",
    "    temp = xr.DataArray(temp.data, coords=[Trac_coarse.Z, Trac_coarse.YCcoarse, Trac_coarse.XCcoarse, ], \n",
    "                       dims=['Z', 'YCcoarse', 'XCcoarse'])\n",
    "    Trac_coarse[i+'_Y'] = temp\n",
    "    "
   ]
  },
  {
   "cell_type": "code",
   "execution_count": 16,
   "metadata": {},
   "outputs": [],
   "source": [
    "# X grads \n",
    "# only averate in X direction on center points\n",
    "tracsav_stag = xr.Dataset()\n",
    "for i in list_tracers:\n",
    "    tracsav_stag[i] = (trac_stag[i].groupby('YCicoarse').mean('YC')).groupby('XSicoarse').mean('XC')\n",
    "\n",
    "for i in list_tracers:\n",
    "    \n",
    "    temp = (tracsav_stag[i].data - np.roll(tracsav_stag[i].data,1,axis=2))/Lcoarse\n",
    "    \n",
    "    temp = xr.DataArray(temp.data, coords=[Trac_coarse.Z, Trac_coarse.YCcoarse, Trac_coarse.XCcoarse, ], \n",
    "                       dims=['Z', 'YCcoarse', 'XCcoarse'])\n",
    "        \n",
    "    Trac_coarse[i+'_X'] = temp    "
   ]
  },
  {
   "cell_type": "code",
   "execution_count": 17,
   "metadata": {},
   "outputs": [],
   "source": [
    "Trac_coarse.to_netcdf('data/Trac_coarse_'+str(int(Lcoarse//1e3))+'km_3D.nc')\n",
    "Vels_coarse.to_netcdf('data/Vels_coarse_'+str(int(Lcoarse//1e3))+'km_3D.nc')"
   ]
  },
  {
   "cell_type": "markdown",
   "metadata": {},
   "source": [
    "## Spatial Averaging the Temperature Fields"
   ]
  },
  {
   "cell_type": "code",
   "execution_count": 18,
   "metadata": {},
   "outputs": [],
   "source": [
    "# Temperature fields\n",
    "\n",
    "Tmean = Model_Tav.Ttave\n",
    "Tmean.coords['YCicoarse'] = ('YC', YCicoarse)\n",
    "Tmean.coords['XCicoarse'] = ('XC', XCicoarse)\n",
    "\n",
    "T_coarse = xr.Dataset()\n",
    "\n",
    "YCcoarse = ('YCicoarse', Tmean.YC.groupby('YCicoarse').mean('YC'))\n",
    "XCcoarse = ('XCicoarse', Tmean.XC.groupby('XCicoarse').mean('XC'))\n",
    "# coarse grain mean velocities\n",
    "\n",
    "\n",
    "temp = (Tmean.groupby('YCicoarse').mean('YC')).groupby('XCicoarse').mean('XC')\n",
    "    \n",
    "temp_array = xr.DataArray(temp.data, coords = [temp.Z, YCcoarse, XCcoarse], \n",
    "                            dims = ['Z', 'YCcoarse', 'XCcoarse'])\n",
    "    \n",
    "T_coarse['T'] = temp_array"
   ]
  },
  {
   "cell_type": "code",
   "execution_count": 19,
   "metadata": {},
   "outputs": [],
   "source": [
    "T_coarse.coords['hFacCcoarse'] = (['Z', 'YCcoarse', 'XCcoarse'], hFacCcoarse)"
   ]
  },
  {
   "cell_type": "code",
   "execution_count": 20,
   "metadata": {},
   "outputs": [],
   "source": [
    "# Z grads\n",
    "T_coarse['T_Z'] = -grid.diff(grid.interp(T_coarse['T'], 'Z', boundary='extend'),\n",
    "                                    'Z', boundary='extend')/Tmean.drF"
   ]
  },
  {
   "cell_type": "code",
   "execution_count": 21,
   "metadata": {},
   "outputs": [],
   "source": [
    "Tstag = Tmean\n",
    "Tstag.coords['YSicoarse'] = ('YC', YSicoarse)\n",
    "Tstag.coords['XSicoarse'] = ('XC', XSicoarse)\n",
    "\n",
    "# Y grads \n",
    "Tstag_sav = (Tstag.groupby('YSicoarse').mean('YC')).groupby('XCicoarse').mean('XC')\n",
    "\n",
    "temp = Tstag_sav.diff('YSicoarse')/Lcoarse\n",
    "temp[:,0,:] = temp[:,0,:] * 4/3\n",
    "temp[:,-1,:] = temp[:,-1,:] * 4/3   \n",
    "    \n",
    "temp = xr.DataArray(temp.data, dims=['Z', 'YCcoarse', 'XCcoarse'],\n",
    "                    coords=[ T_coarse.Z, T_coarse.YCcoarse,T_coarse.XCcoarse])\n",
    "    \n",
    "T_coarse['T_Y'] = temp"
   ]
  },
  {
   "cell_type": "code",
   "execution_count": 22,
   "metadata": {},
   "outputs": [],
   "source": [
    "# X grads \n",
    "# only averate in X direction on center points\n",
    "Tstag_sav = (Tstag.groupby('YCicoarse').mean('YC')).groupby('XSicoarse').mean('XC')\n",
    "\n",
    "temp = (Tstag_sav.data - np.roll(Tstag_sav.data,1,axis=2))/Lcoarse\n",
    "temp = xr.DataArray(temp.data, dims=['Z', 'YCcoarse', 'XCcoarse'],\n",
    "                    coords=[T_coarse.Z ,T_coarse.YCcoarse, T_coarse.XCcoarse])\n",
    "        \n",
    "T_coarse['T_X'] = temp"
   ]
  },
  {
   "cell_type": "code",
   "execution_count": 23,
   "metadata": {},
   "outputs": [
    {
     "data": {
      "text/plain": [
       "<xarray.Dataset>\n",
       "Dimensions:    (XC: 140, XG: 140, YC: 240, YG: 240, Z: 40, Zl: 40, Zp1: 41, Zu: 40)\n",
       "Coordinates:\n",
       "  * XC         (XC) float32 2500.0 7500.0 12500.0 ... 687500.0 692500.0 697500.0\n",
       "  * YC         (YC) float32 2500.0 7500.0 12500.0 ... 1192500.0 1197500.0\n",
       "  * XG         (XG) float32 0.0 5000.0 10000.0 ... 685000.0 690000.0 695000.0\n",
       "  * YG         (YG) float32 0.0 5000.0 10000.0 ... 1185000.0 1190000.0 1195000.0\n",
       "  * Z          (Z) float32 -2.5 -7.5 -12.5 -18.0 ... -1374.0 -1426.0 -1478.0\n",
       "  * Zp1        (Zp1) float32 0.0 -5.0 -10.0 -15.0 ... -1400.0 -1452.0 -1504.0\n",
       "  * Zu         (Zu) float32 -5.0 -10.0 -15.0 -21.0 ... -1400.0 -1452.0 -1504.0\n",
       "  * Zl         (Zl) float32 0.0 -5.0 -10.0 -15.0 ... -1348.0 -1400.0 -1452.0\n",
       "    rA         (YC, XC) float32 ...\n",
       "    dxG        (YG, XC) float32 ...\n",
       "    dyG        (YC, XG) float32 ...\n",
       "    Depth      (YC, XC) float32 ...\n",
       "    rAz        (YG, XG) float32 ...\n",
       "    dxC        (YC, XG) float32 ...\n",
       "    dyC        (YG, XC) float32 ...\n",
       "    rAw        (YC, XG) float32 ...\n",
       "    rAs        (YG, XC) float32 ...\n",
       "    drC        (Zp1) float32 ...\n",
       "    drF        (Z) float32 ...\n",
       "    PHrefC     (Z) float32 ...\n",
       "    PHrefF     (Zp1) float32 ...\n",
       "    hFacC      (Z, YC, XC) float32 ...\n",
       "    hFacW      (Z, YC, XG) float32 ...\n",
       "    hFacS      (Z, YG, XC) float32 ...\n",
       "    maskC      (Z, YC, XC) bool ...\n",
       "    maskW      (Z, YC, XG) bool ...\n",
       "    maskS      (Z, YG, XC) bool ...\n",
       "    XCicoarse  (XC) int64 0 0 0 0 0 0 0 0 0 0 ... 13 13 13 13 13 13 13 13 13 13\n",
       "    YCicoarse  (YC) int64 0 0 0 0 0 0 0 0 0 0 ... 23 23 23 23 23 23 23 23 23 23\n",
       "Data variables:\n",
       "    wVeltave   (Zl, YC, XC) float32 0.0 0.0 0.0 ... -9.410681e-06 -9.103953e-06\n",
       "    VTtave     (Z, YG, XC) float32 ...\n",
       "    UUtave     (Z, YC, XG) float32 ...\n",
       "    ETAtave    (YC, XC) float32 ...\n",
       "    UTtave     (Z, YC, XG) float32 ...\n",
       "    WTtave     (Zl, YC, XC) float32 ...\n",
       "    uVeltave   (Z, YC, XG) float32 0.0 0.0 0.0 ... 0.0116801495 0.011462597\n",
       "    Ttave      (Z, YC, XC) float32 ...\n",
       "    UVtave     (Z, YG, XG) float32 ...\n",
       "    vVeltave   (Z, YG, XC) float32 0.0 0.0 0.0 ... -0.0011978304 -0.001180862\n",
       "    TTtave     (Z, YC, XC) float32 ...\n",
       "    VVtave     (Z, YG, XC) float32 ...\n",
       "    WmeanC     (Z, YC, XC) float32 0.0 0.0 0.0 ... -9.410681e-06 -9.103953e-06\n",
       "    VmeanC     (Z, YC, XC) float32 0.0 0.0 0.0 ... -0.0011978304 -0.001180862\n",
       "    UmeanC     (Z, YC, XC) float32 0.0 0.0 0.0 ... 0.011571374 0.011346331"
      ]
     },
     "execution_count": 23,
     "metadata": {},
     "output_type": "execute_result"
    }
   ],
   "source": [
    "Model_Tav"
   ]
  },
  {
   "cell_type": "code",
   "execution_count": 24,
   "metadata": {},
   "outputs": [],
   "source": [
    "Model_Tav['UTtave'] = grid.interp(Model_Tav.UTtave, 'X')\n",
    "Model_Tav['VTtave'] = grid.interp(Model_Tav.VTtave, 'Y', boundary='extend')\n",
    "Model_Tav['WTtave'] = grid.interp(Model_Tav.WTtave, 'Z', boundary='extend')\n",
    "\n",
    "Model_Tav.coords['YCicoarse'] = ('YC', YCicoarse)\n",
    "Model_Tav.coords['XCicoarse'] = ('XC', XCicoarse)\n",
    "\n",
    "for i in ['UT','VT','WT','TT']: \n",
    "    temp = (Model_Tav[i+'tave'].groupby('YCicoarse').mean('YC')).groupby('XCicoarse').mean('XC') \n",
    "    temp = xr.DataArray(temp.data, dims=['Z', 'YCcoarse', 'XCcoarse'],\n",
    "                    coords=[T_coarse.Z ,T_coarse.YCcoarse, T_coarse.XCcoarse])\n",
    "    T_coarse[i] = temp\n",
    "    \n",
    "T_coarse['UpTp'] = T_coarse['UT'] - Vels_coarse['U'] *T_coarse['T']\n",
    "T_coarse['VpTp'] = T_coarse['VT'] - Vels_coarse['V'] *T_coarse['T']\n",
    "T_coarse['WpTp'] = T_coarse['WT'] - Vels_coarse['W'] *T_coarse['T']\n",
    "T_coarse['TpTp'] = T_coarse['TT'] - T_coarse['T']**2"
   ]
  },
  {
   "cell_type": "code",
   "execution_count": 25,
   "metadata": {},
   "outputs": [
    {
     "data": {
      "text/plain": [
       "<xarray.Dataset>\n",
       "Dimensions:      (XCcoarse: 14, YCcoarse: 24, Z: 40)\n",
       "Coordinates:\n",
       "  * Z            (Z) float32 -2.5 -7.5 -12.5 -18.0 ... -1374.0 -1426.0 -1478.0\n",
       "  * YCcoarse     (YCcoarse) float32 25000.0 75000.0 ... 1125000.0 1175000.0\n",
       "  * XCcoarse     (XCcoarse) float32 25000.0 75000.0 ... 625000.0 675000.0\n",
       "    hFacCcoarse  (Z, YCcoarse, XCcoarse) float32 0.9 0.9 ... 0.9230769 0.9230769\n",
       "    drF          (Z) float32 ...\n",
       "    PHrefC       (Z) float32 ...\n",
       "Data variables:\n",
       "    T            (Z, YCcoarse, XCcoarse) float32 0.9842955 ... 0.99653876\n",
       "    T_Z          (Z, YCcoarse, XCcoarse) float32 -2.4354458e-05 ... -0.0\n",
       "    T_Y          (Z, YCcoarse, XCcoarse) float32 7.650721e-06 ... 9.091695e-09\n",
       "    T_X          (Z, YCcoarse, XCcoarse) float32 -1.3951778e-07 ... 7.1167944e-10\n",
       "    UT           (Z, YCcoarse, XCcoarse) float32 0.022660756 ... 0.027109593\n",
       "    VT           (Z, YCcoarse, XCcoarse) float32 0.0007706766 ... -0.0019974587\n",
       "    WT           (Z, YCcoarse, XCcoarse) float32 2.3131877e-07 ... -1.3457969e-06\n",
       "    TT           (Z, YCcoarse, XCcoarse) float32 1.1033441 ... 0.9930951\n",
       "    UpTp         (Z, YCcoarse, XCcoarse) float32 0.0035553388 ... -0.0022571292\n",
       "    VpTp         (Z, YCcoarse, XCcoarse) float32 -0.0001291323 ... 0.00016525132\n",
       "    WpTp         (Z, YCcoarse, XCcoarse) float32 1.0874426e-07 ... -2.387651e-09\n",
       "    TpTp         (Z, YCcoarse, XCcoarse) float32 0.13450646 ... 5.6028366e-06"
      ]
     },
     "execution_count": 25,
     "metadata": {},
     "output_type": "execute_result"
    }
   ],
   "source": [
    "T_coarse"
   ]
  },
  {
   "cell_type": "code",
   "execution_count": 26,
   "metadata": {},
   "outputs": [],
   "source": [
    "T_coarse.to_netcdf('data/T_coarse_'+str(int(Lcoarse//1e3))+'km_3D.nc')"
   ]
  },
  {
   "cell_type": "code",
   "execution_count": null,
   "metadata": {},
   "outputs": [],
   "source": []
  }
 ],
 "metadata": {
  "kernelspec": {
   "display_name": "Pangeo",
   "language": "python",
   "name": "pangeo"
  },
  "language_info": {
   "codemirror_mode": {
    "name": "ipython",
    "version": 3
   },
   "file_extension": ".py",
   "mimetype": "text/x-python",
   "name": "python",
   "nbconvert_exporter": "python",
   "pygments_lexer": "ipython3",
   "version": "3.6.7"
  }
 },
 "nbformat": 4,
 "nbformat_minor": 2
}
