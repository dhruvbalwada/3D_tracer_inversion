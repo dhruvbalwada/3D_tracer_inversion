{
 "cells": [
  {
   "cell_type": "markdown",
   "metadata": {},
   "source": [
    "# Convert data to zarr format\n",
    "\n",
    "Details on method here: \n",
    "https://pangeo.io/data.html#data-in-the-cloud"
   ]
  },
  {
   "cell_type": "code",
   "execution_count": 4,
   "metadata": {},
   "outputs": [],
   "source": [
    "from xmitgcm import open_mdsdataset\n",
    "import xarray as xr\n"
   ]
  },
  {
   "cell_type": "code",
   "execution_count": 2,
   "metadata": {},
   "outputs": [],
   "source": [
    "data_dir = '/swot/SUM05/dbalwada/channel_model_output/varying_res/05km/multi_tracer_montly_restored/multi_tracer/'"
   ]
  },
  {
   "cell_type": "code",
   "execution_count": null,
   "metadata": {},
   "outputs": [],
   "source": [
    "iters = range(10473120, 10473120+518400*4, 1440)\n",
    "model_vars = ['uVeltave','vVeltave','wVeltave', 'Ttave']\n",
    "dd_model = open_mdsdataset(data_dir , delta_t=300, iters=iters, \n",
    "                          prefix=model_vars,\n",
    "                          ignore_unknown_vars=True, geometry='cartesian')"
   ]
  },
  {
   "cell_type": "code",
   "execution_count": null,
   "metadata": {},
   "outputs": [],
   "source": [
    "iters = range(10473120, 10473120+518400*4, 1440)\n",
    "tracer_vars = ['tracer1_diag', 'tracer2_diag', 'tracer3_diag', \n",
    "               'tracer4_diag', 'tracer5_diag', 'tracer6_diag',\n",
    "               'tracer7_diag', 'tracer8_diag', 'tracer9_diag',\n",
    "               'tracer10_diag']\n",
    "\n",
    "dd_tracer = open_mdsdataset(data_dir , iters= iters, delta_t=300,\n",
    "                          prefix=tracer_vars,\n",
    "                          ignore_unknown_vars=True, geometry='cartesian')"
   ]
  },
  {
   "cell_type": "code",
   "execution_count": null,
   "metadata": {},
   "outputs": [],
   "source": []
  }
 ],
 "metadata": {
  "kernelspec": {
   "display_name": "Python 3 (dhruvenv)",
   "language": "python",
   "name": "dhruvenv"
  },
  "language_info": {
   "codemirror_mode": {
    "name": "ipython",
    "version": 3
   },
   "file_extension": ".py",
   "mimetype": "text/x-python",
   "name": "python",
   "nbconvert_exporter": "python",
   "pygments_lexer": "ipython3",
   "version": "3.5.5"
  }
 },
 "nbformat": 4,
 "nbformat_minor": 2
}
