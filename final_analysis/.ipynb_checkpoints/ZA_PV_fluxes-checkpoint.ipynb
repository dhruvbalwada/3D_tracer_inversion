{
 "cells": [
  {
   "cell_type": "markdown",
   "metadata": {},
   "source": [
    "## Potential Vorticity Fluxes \n",
    "\n",
    "The PV equation in Z-coordinates also has the form of a passive tracer equation. Here we look at its eddy fluxes. \n",
    "\n",
    "$$\n",
    "\\overline{u'q'} = (\\overline{u'v'})_x + 0.5*(\\overline{v'^2 - u'^2 + \\frac{b'^2}{N^2}})_y + (\\frac{f_o}{N^2} \\overline{u'b'})_z\n",
    "$$\n",
    "$$\n",
    "\\overline{v'q'} = -(\\overline{u'v'})_y + 0.5*(\\overline{v'^2 - u'^2 - \\frac{b'^2}{N^2}})_x + (\\frac{f_o}{N^2} \\overline{v'b'})_z\n",
    "$$"
   ]
  },
  {
   "cell_type": "code",
   "execution_count": 1,
   "metadata": {},
   "outputs": [],
   "source": [
    "# load modules \n",
    "import xarray as xr\n",
    "from matplotlib import pyplot as plt\n",
    "from xgcm import Grid, generate_grid_ds\n",
    "import numpy as np\n",
    "%matplotlib inline"
   ]
  },
  {
   "cell_type": "code",
   "execution_count": 2,
   "metadata": {},
   "outputs": [],
   "source": [
    "Model_Tav = xr.open_dataset('./analysis_data_files/ZA_model_Tav.nc')"
   ]
  },
  {
   "cell_type": "code",
   "execution_count": 3,
   "metadata": {},
   "outputs": [],
   "source": [
    "grid = Grid(Model_Tav)"
   ]
  },
  {
   "cell_type": "code",
   "execution_count": 4,
   "metadata": {},
   "outputs": [],
   "source": [
    "dx = 5e3\n",
    "dy = 5e3\n",
    "\n",
    "g=9.81\n",
    "alpha=2e-4\n",
    "f0= -1.1e-4 \n",
    "beta = 1.4e-11"
   ]
  },
  {
   "cell_type": "code",
   "execution_count": 7,
   "metadata": {},
   "outputs": [],
   "source": [
    "# no spatial averaging\n",
    "upvp = grid.interp(grid.interp(Model_Tav.UVtave , 'X'), 'Y', boundary='extend') \\\n",
    "                   - grid.interp(Model_Tav.uVeltave,'X')*grid.interp(\n",
    "                       Model_Tav.vVeltave, 'Y', boundary='extend')\n",
    "vpvp = grid.interp(Model_Tav.VVtave, 'Y', boundary='extend')  - grid.interp(\n",
    "                        Model_Tav.vVeltave, 'Y', boundary='extend')**2\n",
    "upup = grid.interp(Model_Tav.UUtave, 'X') - grid.interp(Model_Tav.uVeltave, 'X')**2\n",
    "\n",
    "upbp = g*alpha*(grid.interp(Model_Tav.UTtave,'X') - grid.interp(Model_Tav.uVeltave, 'X'\n",
    "                                                      )*Model_Tav.Ttave)\n",
    "vpbp = g*alpha*(grid.interp(Model_Tav.VTtave,'Y', boundary='extend') - grid.interp(\n",
    "        Model_Tav.vVeltave, 'Y', boundary='extend')*Model_Tav.Ttave)\n",
    "\n",
    "bpbp = (g*alpha)*(g*alpha)*(Model_Tav.TTtave - Model_Tav.Ttave**2)\n",
    "\n",
    "N2 = g*alpha*grid.interp(grid.diff(Model_Tav.Ttave, 'Z', boundary='extend')/\n",
    "                 grid.diff(Model_Tav.Z, 'Z',boundary='extend'), \n",
    "                 'Z', boundary='extend')"
   ]
  },
  {
   "cell_type": "code",
   "execution_count": 8,
   "metadata": {},
   "outputs": [
    {
     "name": "stderr",
     "output_type": "stream",
     "text": [
      "/home/dbalwada/.conda/envs/pangeo/lib/python3.7/site-packages/xgcm/grid.py:1838: RuntimeWarning: invalid value encountered in add\n",
      "  return 0.5 * (data_left + data_right)\n",
      "/home/dbalwada/.conda/envs/pangeo/lib/python3.7/site-packages/xgcm/grid.py:1838: RuntimeWarning: invalid value encountered in add\n",
      "  return 0.5 * (data_left + data_right)\n"
     ]
    }
   ],
   "source": [
    "# PV fluxes \n",
    "\n",
    "## u'q' \n",
    "# vorticity terms \n",
    "upqp1 =  grid.interp(grid.diff(upvp, 'X')/dx ,'X')\n",
    "\n",
    "upqp2 = 0.5*grid.interp( grid.diff(vpvp -upup + bpbp/N2, 'Y', boundary='extend')/dy, \n",
    "                    'Y', boundary='extend')\n",
    "\n",
    "# b flux term\n",
    "upqp3 = f0*grid.interp( grid.diff(upbp/N2 ,'Z', boundary='extend')/\n",
    "                       grid.diff(Model_Tav.Z, 'Z', boundary='extend'),\n",
    "                      'Z', boundary='extend')\n",
    "upqp = upqp1 + upqp2 + upqp3 \n",
    "\n",
    "# vpqp\n",
    "# vorticity terms\n",
    "vpqp1 = 0.5*grid.interp( grid.diff(vpvp -upup - bpbp/N2, 'X')/dx,'X')\n",
    "\n",
    "vpqp2 = -grid.interp(grid.diff(upvp, 'Y', boundary='extend')/dy ,\n",
    "                      'Y', boundary='extend')\n",
    "# b flux term\n",
    "vpqp3 = f0*grid.interp(grid.diff(vpbp/N2 ,'Z', boundary='extend')/\n",
    "                       grid.diff(Model_Tav.Z, 'Z', boundary='extend'),\n",
    "                      'Z', boundary='extend')\n",
    "vpqp = vpqp1 + vpqp2 + vpqp3 "
   ]
  },
  {
   "cell_type": "code",
   "execution_count": 9,
   "metadata": {},
   "outputs": [],
   "source": [
    "PV_fluxes = xr.Dataset()\n",
    "\n",
    "PV_fluxes['upqpx'] = upqp1\n",
    "PV_fluxes['upqpy'] = upqp2\n",
    "PV_fluxes['upqpz'] = upqp3\n",
    "PV_fluxes['upqp'] = upqp\n",
    "\n",
    "PV_fluxes['vpqpx'] = vpqp1\n",
    "PV_fluxes['vpqpy'] = vpqp2\n",
    "PV_fluxes['vpqpz'] = vpqp3\n",
    "PV_fluxes['vpqp'] = vpqp"
   ]
  },
  {
   "cell_type": "code",
   "execution_count": 16,
   "metadata": {},
   "outputs": [
    {
     "name": "stderr",
     "output_type": "stream",
     "text": [
      "/home/dbalwada/.conda/envs/pangeo/lib/python3.7/site-packages/numpy/core/fromnumeric.py:87: RuntimeWarning: invalid value encountered in reduce\n",
      "  return ufunc.reduce(obj, axis, dtype, out, **passkwargs)\n",
      "/home/dbalwada/.conda/envs/pangeo/lib/python3.7/site-packages/numpy/core/fromnumeric.py:87: RuntimeWarning: invalid value encountered in reduce\n",
      "  return ufunc.reduce(obj, axis, dtype, out, **passkwargs)\n",
      "/home/dbalwada/.conda/envs/pangeo/lib/python3.7/site-packages/numpy/core/fromnumeric.py:87: RuntimeWarning: invalid value encountered in reduce\n",
      "  return ufunc.reduce(obj, axis, dtype, out, **passkwargs)\n",
      "/home/dbalwada/.conda/envs/pangeo/lib/python3.7/site-packages/numpy/core/fromnumeric.py:87: RuntimeWarning: invalid value encountered in reduce\n",
      "  return ufunc.reduce(obj, axis, dtype, out, **passkwargs)\n"
     ]
    }
   ],
   "source": [
    "PV_fluxes_coarse = PV_fluxes.coarsen(XC=10, YC=10).mean()"
   ]
  },
  {
   "cell_type": "markdown",
   "metadata": {},
   "source": [
    "### PV gradient \n",
    "$$\n",
    "\\nabla \\overline{Q} = \\beta\\hat{j} - f \\frac{\\partial \\mathbf{S}}{\\partial z} ,\n",
    "$$\n",
    "where $\\mathbf{S}= - \\nabla B/ B_Z$. "
   ]
  },
  {
   "cell_type": "code",
   "execution_count": 18,
   "metadata": {},
   "outputs": [
    {
     "data": {
      "text/plain": [
       "2"
      ]
     },
     "execution_count": 18,
     "metadata": {},
     "output_type": "execute_result"
    }
   ],
   "source": [
    "Sx = - g*alpha*grid.diff(Model_Tav.Ttave, 'X')/N2\n",
    "Sy = - g*alpha*grid.diff(Model_Tav.Ttave, 'Y', boundary='extend')/N2\n",
    "\n",
    "Qx = grid.diff(Sx, 'Z', boundary='extend')/grid.diff(Model_Tav.Z, 'Z',boundary='extend')"
   ]
  },
  {
   "cell_type": "code",
   "execution_count": null,
   "metadata": {},
   "outputs": [],
   "source": []
  }
 ],
 "metadata": {
  "kernelspec": {
   "display_name": "Python [conda env:pangeo]",
   "language": "python",
   "name": "conda-env-pangeo-py"
  },
  "language_info": {
   "codemirror_mode": {
    "name": "ipython",
    "version": 3
   },
   "file_extension": ".py",
   "mimetype": "text/x-python",
   "name": "python",
   "nbconvert_exporter": "python",
   "pygments_lexer": "ipython3",
   "version": "3.7.9"
  }
 },
 "nbformat": 4,
 "nbformat_minor": 2
}
