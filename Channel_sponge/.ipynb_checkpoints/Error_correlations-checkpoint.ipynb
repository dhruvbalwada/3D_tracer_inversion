{
 "cells": [
  {
   "cell_type": "markdown",
   "metadata": {},
   "source": [
    "# Test the sensitivity of the results to 3 factors: \n",
    "\n",
    "- Time scale of restoring source: compare 1year, 6year and corrected values.\n",
    "- Spatial scale of coarsening: 25, 50, 100, 200km\n",
    "- Influence of choosing tracers (this has been put in a separate notebook). \n",
    "- We are assuming that the 20 year average is long, and equilibrated. One could test influence of changing this, but not sure if it matters here. \n",
    "\n",
    "The error will be evaluated by looking at the PDFs of $\\mathbf{u}'b$ and $\\nabla.(\\mathbf{u}'b)$. One could also look at the percentiles (25, 50(median), 75) for getting single numbers. \n",
    "\n",
    "The reason we are looking at buoyancy is because it is the only tracer without an interior source. For the other tracers, obviously, the fast restoring would be more appropriate for tracers that were restored fast, and vice versa. "
   ]
  },
  {
   "cell_type": "code",
   "execution_count": 1,
   "metadata": {},
   "outputs": [],
   "source": [
    "# load modules \n",
    "\n",
    "import numpy as np\n",
    "import xarray as xr\n",
    "from xmitgcm import open_mdsdataset\n",
    "from matplotlib import pyplot as plt\n",
    "from matplotlib import colors, ticker, cm\n",
    "from matplotlib.colors import LogNorm\n",
    "%matplotlib inline\n",
    "from funcs import *\n",
    "import os \n",
    "from xgcm import Grid, generate_grid_ds"
   ]
  },
  {
   "cell_type": "code",
   "execution_count": 152,
   "metadata": {},
   "outputs": [],
   "source": [
    "colors = ['R', 'b', 'g', 'k']\n",
    "params = {\n",
    "   'axes.labelsize': 12,\n",
    "   'font.size': 12,\n",
    "   'legend.fontsize': 12,\n",
    "   'xtick.labelsize': 12,\n",
    "   'ytick.labelsize': 12,\n",
    "   'text.usetex': False,\n",
    "   'figure.figsize': [4.5, 4.5]\n",
    "   }\n",
    "plt.rcParams.update(params)"
   ]
  },
  {
   "cell_type": "code",
   "execution_count": 2,
   "metadata": {},
   "outputs": [],
   "source": [
    "list_trac = ['TRAC01', 'TRAC02', 'TRAC03', 'TRAC04', 'TRAC05', \n",
    "            'TRAC06', 'TRAC07', 'TRAC08', 'TRAC09', 'TRAC10', \n",
    "            'TRAC11', 'TRAC12', 'TRAC13', 'TRAC14', 'TRAC15', \n",
    "            'TRAC16', 'TRAC17', 'TRAC18', 'TRAC19', 'TRAC20']"
   ]
  },
  {
   "cell_type": "code",
   "execution_count": 3,
   "metadata": {},
   "outputs": [],
   "source": [
    "Model_Tav = xr.open_dataset('./outputs_ncfiles/Model_Tav.nc')"
   ]
  },
  {
   "cell_type": "code",
   "execution_count": 63,
   "metadata": {},
   "outputs": [],
   "source": [
    "def flux_reconstruct(tensor, flux, grads, grid, Lcoarse):\n",
    "\n",
    "    recUflux = -(tensor.sel(i=0, j=0)*grads.dCdx + tensor.sel(i=0, j=1)*grads.dCdy + tensor.sel(i=0, j=2)*grads.dCdz)\n",
    "    recVflux = -(tensor.sel(i=1, j=0)*grads.dCdx + tensor.sel(i=1, j=1)*grads.dCdy + tensor.sel(i=1, j=2)*grads.dCdz)\n",
    "    recWflux = -(tensor.sel(i=2, j=0)*grads.dCdx + tensor.sel(i=2, j=1)*grads.dCdy + tensor.sel(i=2, j=2)*grads.dCdz)\n",
    "    \n",
    "    errU = np.abs(flux.UpCp - recUflux)/np.abs(flux.UpCp)\n",
    "    errV = np.abs(flux.VpCp - recVflux)/np.abs(flux.VpCp)\n",
    "    errW = np.abs(flux.WpCp - recWflux)/np.abs(flux.WpCp)\n",
    "    \n",
    "    divUpCp = grid.interp(grid.diff(flux.UpCp, 'X')/Lcoarse, 'X') + \\\n",
    "              grid.interp(grid.diff(flux.VpCp, 'Y', boundary='extend')/Lcoarse, 'Y', boundary='extend') + \\\n",
    "             -grid.interp(grid.diff(flux.WpCp, 'Z', boundary='extend'), 'Z', boundary='extend')/ flux.drF\n",
    "            \n",
    "    divUpCphor = grid.interp(grid.diff(flux.UpCp, 'X')/Lcoarse, 'X') + \\\n",
    "              grid.interp(grid.diff(flux.VpCp, 'Y', boundary='extend')/Lcoarse, 'Y', boundary='extend')    \n",
    "        \n",
    "    divUpCpver = -grid.interp(grid.diff(flux.WpCp, 'Z', boundary='extend'), 'Z', boundary='extend')/ flux.drF\n",
    "    \n",
    "    dzUpCp = -grid.interp(grid.diff(flux.UpCp, 'Z', boundary='extend'), 'Z', boundary='extend')/flux.drF + \\\n",
    "             -grid.interp(grid.diff(flux.VpCp, 'Z', boundary='extend'), 'Z', boundary='extend')/flux.drF\n",
    "\n",
    "    divrecflux = grid.interp(grid.diff(recUflux, 'X')/Lcoarse, 'X') + \\\n",
    "                 grid.interp(grid.diff(recVflux, 'Y', boundary='extend')/Lcoarse, 'Y', boundary='extend') + \\\n",
    "                -grid.interp(grid.diff(recWflux, 'Z', boundary='extend'), 'Z', boundary='extend')/ flux.drF\n",
    "            \n",
    "    divrecfluxhor = grid.interp(grid.diff(recUflux, 'X')/Lcoarse, 'X') + \\\n",
    "                 grid.interp(grid.diff(recVflux, 'Y', boundary='extend')/Lcoarse, 'Y', boundary='extend') \n",
    "        \n",
    "    divrecfluxver = -grid.interp(grid.diff(recWflux, 'Z', boundary='extend'), 'Z', boundary='extend')/ flux.drF\n",
    "    \n",
    "    dzrecflux = -grid.interp(grid.diff(recUflux, 'Z', boundary='extend'), 'Z', boundary='extend')/flux.drF + \\\n",
    "                -grid.interp(grid.diff(recVflux, 'Z', boundary='extend'), 'Z', boundary='extend')/flux.drF\n",
    "\n",
    "    \n",
    "    errdiv = np.abs(divUpCp - divrecflux)/np.abs(divUpCp)\n",
    "    errdivhor = np.abs(divUpCphor - divrecfluxhor)/np.abs(divUpCphor)    \n",
    "    errdivver = np.abs(divUpCpver - divrecfluxver)/np.abs(divUpCpver)\n",
    "    errdzflux = np.abs(dzUpCp - dzrecflux)/np.abs(dzUpCp)\n",
    "    \n",
    "    flux_rec=xr.Dataset({'UpCp':recUflux, 'VpCp':recVflux, 'WpCp':recWflux,\n",
    "                                'errU':errU, 'errV':errV, 'errW':errW, \n",
    "                         'divrecflux': divrecflux, 'divUpCp': divUpCp, \n",
    "                         'errdiv':errdiv, 'errdivhor':errdivhor,'errdivver':errdivver,'errdzflux':errdzflux})\n",
    "    \n",
    "    return flux_rec"
   ]
  },
  {
   "cell_type": "code",
   "execution_count": 64,
   "metadata": {},
   "outputs": [],
   "source": [
    "Lcoarselist = [25e3, 50e3, 100e3, 200e3]"
   ]
  },
  {
   "cell_type": "code",
   "execution_count": 129,
   "metadata": {},
   "outputs": [],
   "source": [
    "frb_temp = {}\n",
    "frb_fast = {}\n",
    "frb_slow = {}\n",
    "mask = {}"
   ]
  },
  {
   "cell_type": "code",
   "execution_count": 130,
   "metadata": {},
   "outputs": [],
   "source": [
    "Lcoarse = 50e3"
   ]
  },
  {
   "cell_type": "code",
   "execution_count": 131,
   "metadata": {},
   "outputs": [],
   "source": [
    "# load data\n",
    "diff_tensor = xr.open_dataset('./outputs_ncfiles/diff_tensor_'+str(int(Lcoarse//1e3))+'km.nc')\n",
    "Trac_coarse = xr.open_dataset('./outputs_ncfiles/Trac_coarse_'+str(int(Lcoarse//1e3))+'km.nc')\n",
    "Vels_coarse = xr.open_dataset('./outputs_ncfiles/Vels_coarse_'+str(int(Lcoarse//1e3))+'km.nc')\n",
    "T_coarse    = xr.open_dataset('./outputs_ncfiles/T_coarse_'+str(int(Lcoarse//1e3))+'km.nc')\n",
    "\n",
    "mask[Lcoarse] = Trac_coarse.hFacCcoarse\n",
    "# compute fluxes and gradients\n",
    "[UpCp, VpCp, WpCp] = get_flux_arrays(Trac_coarse, list_trac)\n",
    "[dCdx, dCdy, dCdz]= get_grad_arrays(Trac_coarse, list_trac)\n",
    "fluxT = xr.Dataset({'UpCp':T_coarse.UpTp, 'VpCp':T_coarse.VpTp, 'WpCp':T_coarse.WpTp})\n",
    "gradT = xr.Dataset({'dCdx':T_coarse.T_X, 'dCdy':T_coarse.T_Y, 'dCdz':T_coarse.T_Z})\n",
    "flux = xr.Dataset({'UpCp':UpCp, 'VpCp':VpCp, 'WpCp':WpCp})\n",
    "grads = xr.Dataset({'dCdx':dCdx, 'dCdy':dCdy, 'dCdz':dCdz})\n",
    "\n",
    "# define a grid for taking gradients on coarse grid\n",
    "grid_ds = xr.Dataset()\n",
    "grid_ds['TRAC01'] = Trac_coarse['TRAC01']\n",
    "grid_ds['wVeltave'] = Model_Tav['wVeltave']\n",
    "grid_ds = grid_ds.drop(['wVeltave','XC','YC']).isel(XC=0, YC=0)\n",
    "ds = generate_grid_ds(grid_ds, {'X': 'XCcoarse', 'Y':'YCcoarse'})\n",
    "grid = Grid(ds, periodic='X')\n",
    "\n",
    "frb_temp[Lcoarse] = flux_reconstruct(diff_tensor.Kcorr, fluxT, gradT, grid, Lcoarse)\n",
    "frb_fast[Lcoarse] = flux_reconstruct(diff_tensor.Kfast, flux.sel(tracer_num=slice(1,19,2)), grads.sel(tracer_num=slice(1,19,2)), grid, Lcoarse)\n",
    "frb_slow[Lcoarse] = flux_reconstruct(diff_tensor.Kslow, flux.sel(tracer_num=slice(2,20,2)), grads.sel(tracer_num=slice(2,20,2)), grid, Lcoarse)"
   ]
  },
  {
   "cell_type": "code",
   "execution_count": 134,
   "metadata": {},
   "outputs": [],
   "source": [
    "frb_tracer = {}\n",
    "frb_tracer[1] = flux_reconstruct(diff_tensor.Kfast, flux.sel(tracer_num=1), grads.sel(tracer_num=1), grid, Lcoarse)"
   ]
  },
  {
   "cell_type": "code",
   "execution_count": 136,
   "metadata": {},
   "outputs": [
    {
     "name": "stdout",
     "output_type": "stream",
     "text": [
      "1\n",
      "3\n",
      "5\n",
      "7\n",
      "9\n",
      "11\n",
      "13\n",
      "15\n",
      "17\n",
      "19\n",
      "2\n",
      "4\n",
      "6\n",
      "8\n",
      "10\n",
      "12\n",
      "14\n",
      "16\n",
      "18\n",
      "20\n"
     ]
    }
   ],
   "source": [
    "for i in range(1,21,2):\n",
    "    print(i)\n",
    "    frb_tracer[i] = flux_reconstruct(diff_tensor.Kfast, flux.sel(tracer_num=i), grads.sel(tracer_num=i), grid, Lcoarse)\n",
    "    \n",
    "for i in range(2,22,2):\n",
    "    print(i)\n",
    "    frb_tracer[i] = flux_reconstruct(diff_tensor.Kslow, flux.sel(tracer_num=i), grads.sel(tracer_num=i), grid, Lcoarse)"
   ]
  },
  {
   "cell_type": "code",
   "execution_count": 86,
   "metadata": {},
   "outputs": [
    {
     "data": {
      "image/png": "[encoded data removed]",
      "text/plain": [
       "<Figure size 720x288 with 2 Axes>"
      ]
     },
     "metadata": {
      "needs_background": "light"
     },
     "output_type": "display_data"
    }
   ],
   "source": [
    "plt.figure(figsize=(10,4))\n",
    "plt.subplot(121)\n",
    "bins= np.linspace(0,5,20)\n",
    "[_,_,_] = frb_fast[50e3].errU.sel(tracer_num=1).plot.hist(bins=bins)\n",
    "[_,_,_] = frb_temp[50e3].errU.plot.hist(bins=bins, alpha=0.5)\n",
    "\n",
    "plt.subplot(122)\n",
    "bins= np.linspace(0,5,20)\n",
    "[_,_,_] = frb_fast[50e3].errV.sel(tracer_num=1).plot.hist(bins=bins)\n",
    "[_,_,_] = frb_temp[50e3].errV.plot.hist(bins=bins, alpha=0.5)\n",
    "\n",
    "plt.tight_layout()"
   ]
  },
  {
   "cell_type": "code",
   "execution_count": 138,
   "metadata": {},
   "outputs": [
    {
     "data": {
      "text/plain": [
       "<xarray.Dataset>\n",
       "Dimensions:      (XCcoarse: 40, YCcoarse: 40, Z: 40)\n",
       "Coordinates:\n",
       "  * Z            (Z) float32 -5.0 -15.0 -25.0 -36.0 ... -2727.5 -2830.5 -2933.5\n",
       "  * YCcoarse     (YCcoarse) float32 25000.0 75000.0 ... 1925000.0 1975000.0\n",
       "  * XCcoarse     (XCcoarse) float32 25000.0 75000.0 ... 1925000.0 1975000.0\n",
       "    hFacCcoarse  (Z, YCcoarse, XCcoarse) float32 0.9 0.9 0.9 0.9 ... 1.0 1.0 1.0\n",
       "    PHrefC       (Z) float32 49.05 147.15 245.25 ... 27767.205 28777.635\n",
       "    drF          (Z) float32 10.0 10.0 10.0 12.0 ... 103.0 103.0 103.0 103.0\n",
       "    tracer_num   int64 1\n",
       "Data variables:\n",
       "    UpCp         (Z, YCcoarse, XCcoarse) float32 -0.00030903937 ... -0.0006404739\n",
       "    VpCp         (Z, YCcoarse, XCcoarse) float32 -0.00016258014 ... -6.293407e-05\n",
       "    WpCp         (Z, YCcoarse, XCcoarse) float32 -1.07114204e-07 ... 8.5983665e-11\n",
       "    errU         (Z, YCcoarse, XCcoarse) float32 0.123968415 ... 0.52775\n",
       "    errV         (Z, YCcoarse, XCcoarse) float32 0.12537076 ... 0.087900594\n",
       "    errW         (Z, YCcoarse, XCcoarse) float32 0.01590734 ... 0.99391216\n",
       "    divrecflux   (Z, YCcoarse, XCcoarse) float32 -1.3357748e-08 ... 4.811136e-09\n",
       "    divUpCp      (Z, YCcoarse, XCcoarse) float32 -1.1774066e-08 ... 3.8992294e-09\n",
       "    errdiv       (Z, YCcoarse, XCcoarse) float32 0.13450593 ... 0.2338684\n",
       "    errdivhor    (Z, YCcoarse, XCcoarse) float32 0.5776618 ... 0.41728505\n",
       "    errdivver    (Z, YCcoarse, XCcoarse) float32 0.05833996 ... 0.99281\n",
       "    errdzflux    (Z, YCcoarse, XCcoarse) float32 0.67463475 ... 0.0252849"
      ]
     },
     "execution_count": 138,
     "metadata": {},
     "output_type": "execute_result"
    }
   ],
   "source": [
    "frb_tracer[1]"
   ]
  },
  {
   "cell_type": "code",
   "execution_count": 154,
   "metadata": {},
   "outputs": [
    {
     "data": {
      "text/plain": [
       "(0, 24)"
      ]
     },
     "execution_count": 154,
     "metadata": {},
     "output_type": "execute_result"
    },
    {
     "data": {
      "image/png": "[encoded data removed]",
      "text/plain": [
       "<Figure size 360x288 with 1 Axes>"
      ]
     },
     "metadata": {
      "needs_background": "light"
     },
     "output_type": "display_data"
    }
   ],
   "source": [
    "plt.figure(figsize=(5,4))\n",
    "plt.plot(i, frb_tracer[i].errU.sel(YCcoarse=slice(0,1800e3)).median(), 'o', color='k', label='u')\n",
    "plt.plot(i, frb_tracer[i].errV.sel(YCcoarse=slice(0,1800e3)).median(), 's', color='r', label='v')\n",
    "plt.plot(i, frb_tracer[i].errW.sel(YCcoarse=slice(0,1800e3)).median(), '.', color='b', label='w')\n",
    "plt.legend()\n",
    "\n",
    "for i in range(1,21,1):\n",
    "    plt.plot(i, frb_tracer[i].errU.sel(YCcoarse=slice(0,1800e3)).median(), 'o', color='k')\n",
    "    plt.plot(i, frb_tracer[i].errV.sel(YCcoarse=slice(0,1800e3)).median(), 's', color='r')\n",
    "    plt.plot(i, frb_tracer[i].errW.sel(YCcoarse=slice(0,1800e3)).median(), '.', color='b')\n",
    "\n",
    "\n",
    "plt.plot(23, frb_temp[50e3].errU.sel(YCcoarse=slice(0,1800e3)).median(), 'o', color='k', label='u')\n",
    "plt.plot(23, frb_temp[50e3].errV.sel(YCcoarse=slice(0,1800e3)).median(), 's', color='r', label='v')\n",
    "plt.plot(23, frb_temp[50e3].errW.sel(YCcoarse=slice(0,1800e3)).median(), '.', color='b', label='w')\n",
    "plt.text(23, -0.01, 'T', fontsize=12)    \n",
    "    \n",
    "plt.xlabel('Tracer')\n",
    "plt.ylabel('Median Error PDF')\n",
    "plt.xlim([0,24])\n"
   ]
  },
  {
   "cell_type": "markdown",
   "metadata": {},
   "source": [
    "#### play with one tracer avg scale"
   ]
  },
  {
   "cell_type": "code",
   "execution_count": 35,
   "metadata": {},
   "outputs": [],
   "source": [
    "def flux_reconstruct_corrs(tensor, flux, grads):\n",
    "\n",
    "    recUflux = -(tensor.sel(i=0, j=0)*grads.dCdx + tensor.sel(i=0, j=1)*grads.dCdy + tensor.sel(i=0, j=2)*grads.dCdz)\n",
    "    recVflux = -(tensor.sel(i=1, j=0)*grads.dCdx + tensor.sel(i=1, j=1)*grads.dCdy + tensor.sel(i=1, j=2)*grads.dCdz)\n",
    "    recWflux = -(tensor.sel(i=2, j=0)*grads.dCdx + tensor.sel(i=2, j=1)*grads.dCdy + tensor.sel(i=2, j=2)*grads.dCdz)\n",
    "    \n",
    "    corrU = (flux.UpCp * recUflux).mean() / ((flux.UpCp**2).mean() * (recUflux**2).mean())**0.5\n",
    "    corrV = (flux.VpCp * recVflux).mean() / ((flux.VpCp**2).mean() * (recVflux**2).mean())**0.5\n",
    "    corrW = (flux.WpCp * recWflux).mean() / ((flux.WpCp**2).mean() * (recWflux**2).mean())**0.5\n",
    "    \n",
    "    corrU_pearson = ((flux.UpCp-flux.UpCp.mean()) * (recUflux-recUflux.mean())\n",
    "                    ).mean() / (((flux.UpCp-flux.UpCp.mean())**2).mean() * ((recUflux-recUflux.mean())**2).mean())**0.5\n",
    "    \n",
    "    corrV_pearson = ((flux.VpCp-flux.VpCp.mean()) * (recVflux-recVflux.mean())\n",
    "                    ).mean() / (((flux.VpCp-flux.VpCp.mean())**2).mean() * ((recVflux-recVflux.mean())**2).mean())**0.5\n",
    "    \n",
    "    corrW_pearson = ((flux.WpCp-flux.WpCp.mean()) * (recWflux-recWflux.mean())\n",
    "                    ).mean() / (((flux.WpCp-flux.WpCp.mean())**2).mean() * ((recWflux-recWflux.mean())**2).mean())**0.5\n",
    "    \n",
    "    \n",
    "    \n",
    "    #flux_rec=xr.Dataset({'UpCp':recUflux, 'VpCp':recVflux, 'WpCp':recWflux,\n",
    "    #                            'errU':errU, 'errV':errV, 'errW':errW, \n",
    "    #                     'divrecflux': divrecflux, 'divUpCp': divUpCp, \n",
    "    #                     'errdiv':errdiv, 'errdivhor':errdivhor,'errdivver':errdivver,'errdzflux':errdzflux})\n",
    "    \n",
    "    corrs = xr.Dataset({'corrU':corrU, 'corrV':corrV, 'corrW':corrW, \n",
    "                      'corrU_pearson':corrU_pearson, 'corrV_pearson':corrV_pearson, 'corrW_pearson':corrW_pearson})\n",
    "    \n",
    "    return corrs"
   ]
  },
  {
   "cell_type": "code",
   "execution_count": 36,
   "metadata": {},
   "outputs": [],
   "source": [
    "Lcoarse = 50e3\n",
    "diff_tensor = xr.open_dataset('./outputs_ncfiles/diff_tensor_'+str(int(Lcoarse//1e3))+'km.nc')\n",
    "Trac_coarse = xr.open_dataset('./outputs_ncfiles/Trac_coarse_'+str(int(Lcoarse//1e3))+'km.nc')\n",
    "Vels_coarse = xr.open_dataset('./outputs_ncfiles/Vels_coarse_'+str(int(Lcoarse//1e3))+'km.nc')\n",
    "T_coarse    = xr.open_dataset('./outputs_ncfiles/T_coarse_'+str(int(Lcoarse//1e3))+'km.nc')\n",
    "\n",
    "mask[Lcoarse] = Trac_coarse.hFacCcoarse\n",
    "# compute fluxes and gradients\n",
    "[UpCp, VpCp, WpCp] = get_flux_arrays(Trac_coarse, list_trac)\n",
    "[dCdx, dCdy, dCdz]= get_grad_arrays(Trac_coarse, list_trac)\n",
    "fluxT = xr.Dataset({'UpCp':T_coarse.UpTp, 'VpCp':T_coarse.VpTp, 'WpCp':T_coarse.WpTp})\n",
    "gradT = xr.Dataset({'dCdx':T_coarse.T_X, 'dCdy':T_coarse.T_Y, 'dCdz':T_coarse.T_Z})\n",
    "flux = xr.Dataset({'UpCp':UpCp, 'VpCp':VpCp, 'WpCp':WpCp})\n",
    "grads = xr.Dataset({'dCdx':dCdx, 'dCdy':dCdy, 'dCdz':dCdz})"
   ]
  },
  {
   "cell_type": "code",
   "execution_count": 140,
   "metadata": {},
   "outputs": [],
   "source": [
    "corrs = {}\n",
    "i=1\n",
    "corrs[i] = flux_reconstruct_corrs(diff_tensor.Kfast.sel(YCcoarse=slice(0,1800e3)), flux.sel(tracer_num=i).sel(YCcoarse=slice(0,1800e3)),\n",
    "                                  grads.sel(tracer_num=i).sel(YCcoarse=slice(0,1800e3)))"
   ]
  },
  {
   "cell_type": "code",
   "execution_count": 141,
   "metadata": {},
   "outputs": [
    {
     "name": "stdout",
     "output_type": "stream",
     "text": [
      "1\n",
      "3\n",
      "5\n",
      "7\n",
      "9\n",
      "11\n",
      "13\n",
      "15\n",
      "17\n",
      "19\n",
      "2\n",
      "4\n",
      "6\n",
      "8\n",
      "10\n",
      "12\n",
      "14\n",
      "16\n",
      "18\n",
      "20\n"
     ]
    }
   ],
   "source": [
    "for i in range(1,21,2):\n",
    "    print(i)\n",
    "    corrs[i] = flux_reconstruct_corrs(diff_tensor.Kfast, flux.sel(tracer_num=i).sel(YCcoarse=slice(0,1800e3)), \n",
    "                                      grads.sel(tracer_num=i).sel(YCcoarse=slice(0,1800e3)))\n",
    "    \n",
    "for i in range(2,22,2):\n",
    "    print(i)\n",
    "    corrs[i] = flux_reconstruct_corrs(diff_tensor.Kslow, flux.sel(tracer_num=i).sel(YCcoarse=slice(0,1800e3)), \n",
    "                                      grads.sel(tracer_num=i).sel(YCcoarse=slice(0,1800e3)))"
   ]
  },
  {
   "cell_type": "code",
   "execution_count": 114,
   "metadata": {},
   "outputs": [
    {
     "data": {
      "text/plain": [
       "{1: <xarray.Dataset>\n",
       " Dimensions:        ()\n",
       " Coordinates:\n",
       "     tracer_num     int64 1\n",
       " Data variables:\n",
       "     corrU          float32 0.98302466\n",
       "     corrV          float32 0.9962587\n",
       "     corrW          float32 0.9932083\n",
       "     corrU_pearson  float32 0.9831179\n",
       "     corrV_pearson  float32 0.9951564\n",
       "     corrW_pearson  float32 0.9914733, 3: <xarray.Dataset>\n",
       " Dimensions:        ()\n",
       " Coordinates:\n",
       "     tracer_num     int64 3\n",
       " Data variables:\n",
       "     corrU          float32 0.9458416\n",
       "     corrV          float32 0.9912383\n",
       "     corrW          float32 0.98343253\n",
       "     corrU_pearson  float32 0.94477713\n",
       "     corrV_pearson  float32 0.991272\n",
       "     corrW_pearson  float32 0.9830738, 5: <xarray.Dataset>\n",
       " Dimensions:        ()\n",
       " Coordinates:\n",
       "     tracer_num     int64 5\n",
       " Data variables:\n",
       "     corrU          float32 0.9812992\n",
       "     corrV          float32 0.9578353\n",
       "     corrW          float32 0.93990505\n",
       "     corrU_pearson  float32 0.9801184\n",
       "     corrV_pearson  float32 0.95776856\n",
       "     corrW_pearson  float32 0.93771845, 7: <xarray.Dataset>\n",
       " Dimensions:        ()\n",
       " Coordinates:\n",
       "     tracer_num     int64 7\n",
       " Data variables:\n",
       "     corrU          float32 0.98101246\n",
       "     corrV          float32 0.975308\n",
       "     corrW          float32 0.9750571\n",
       "     corrU_pearson  float32 0.9797074\n",
       "     corrV_pearson  float32 0.97464836\n",
       "     corrW_pearson  float32 0.9752726, 9: <xarray.Dataset>\n",
       " Dimensions:        ()\n",
       " Coordinates:\n",
       "     tracer_num     int64 9\n",
       " Data variables:\n",
       "     corrU          float32 0.9643009\n",
       "     corrV          float32 0.9478892\n",
       "     corrW          float32 0.9436508\n",
       "     corrU_pearson  float32 0.96193147\n",
       "     corrV_pearson  float32 0.94619113\n",
       "     corrW_pearson  float32 0.9443235, 11: <xarray.Dataset>\n",
       " Dimensions:        ()\n",
       " Coordinates:\n",
       "     tracer_num     int64 11\n",
       " Data variables:\n",
       "     corrU          float32 0.974517\n",
       "     corrV          float32 0.9898727\n",
       "     corrW          float32 0.98171383\n",
       "     corrU_pearson  float32 0.9759425\n",
       "     corrV_pearson  float32 0.98962307\n",
       "     corrW_pearson  float32 0.98165375, 13: <xarray.Dataset>\n",
       " Dimensions:        ()\n",
       " Coordinates:\n",
       "     tracer_num     int64 13\n",
       " Data variables:\n",
       "     corrU          float32 0.97048414\n",
       "     corrV          float32 0.9891174\n",
       "     corrW          float32 0.99216634\n",
       "     corrU_pearson  float32 0.9708032\n",
       "     corrV_pearson  float32 0.9888876\n",
       "     corrW_pearson  float32 0.9921525, 15: <xarray.Dataset>\n",
       " Dimensions:        ()\n",
       " Coordinates:\n",
       "     tracer_num     int64 15\n",
       " Data variables:\n",
       "     corrU          float32 0.9731804\n",
       "     corrV          float32 0.99298906\n",
       "     corrW          float32 0.99616975\n",
       "     corrU_pearson  float32 0.97339827\n",
       "     corrV_pearson  float32 0.99161536\n",
       "     corrW_pearson  float32 0.99548155, 17: <xarray.Dataset>\n",
       " Dimensions:        ()\n",
       " Coordinates:\n",
       "     tracer_num     int64 17\n",
       " Data variables:\n",
       "     corrU          float32 0.97081554\n",
       "     corrV          float32 0.99310946\n",
       "     corrW          float32 0.9732083\n",
       "     corrU_pearson  float32 0.97084683\n",
       "     corrV_pearson  float32 0.99304545\n",
       "     corrW_pearson  float32 0.97150457, 2: <xarray.Dataset>\n",
       " Dimensions:        ()\n",
       " Coordinates:\n",
       "     tracer_num     int64 2\n",
       " Data variables:\n",
       "     corrU          float32 0.98541397\n",
       "     corrV          float32 0.9973557\n",
       "     corrW          float32 0.9833921\n",
       "     corrU_pearson  float32 0.985136\n",
       "     corrV_pearson  float32 0.9971199\n",
       "     corrW_pearson  float32 0.9804408, 4: <xarray.Dataset>\n",
       " Dimensions:        ()\n",
       " Coordinates:\n",
       "     tracer_num     int64 4\n",
       " Data variables:\n",
       "     corrU          float32 0.9956781\n",
       "     corrV          float32 0.9954268\n",
       "     corrW          float32 0.98983353\n",
       "     corrU_pearson  float32 0.9956029\n",
       "     corrV_pearson  float32 0.9954349\n",
       "     corrW_pearson  float32 0.9898443, 6: <xarray.Dataset>\n",
       " Dimensions:        ()\n",
       " Coordinates:\n",
       "     tracer_num     int64 6\n",
       " Data variables:\n",
       "     corrU          float32 0.95893484\n",
       "     corrV          float32 0.94765896\n",
       "     corrW          float32 0.90399104\n",
       "     corrU_pearson  float32 0.9559491\n",
       "     corrV_pearson  float32 0.9475523\n",
       "     corrW_pearson  float32 0.90152097, 8: <xarray.Dataset>\n",
       " Dimensions:        ()\n",
       " Coordinates:\n",
       "     tracer_num     int64 8\n",
       " Data variables:\n",
       "     corrU          float32 0.96971595\n",
       "     corrV          float32 0.95615566\n",
       "     corrW          float32 0.94995993\n",
       "     corrU_pearson  float32 0.96762186\n",
       "     corrV_pearson  float32 0.9552059\n",
       "     corrW_pearson  float32 0.9503009, 10: <xarray.Dataset>\n",
       " Dimensions:        ()\n",
       " Coordinates:\n",
       "     tracer_num     int64 10\n",
       " Data variables:\n",
       "     corrU          float32 0.9234362\n",
       "     corrV          float32 0.9235723\n",
       "     corrW          float32 0.91681075\n",
       "     corrU_pearson  float32 0.9186945\n",
       "     corrV_pearson  float32 0.9218155\n",
       "     corrW_pearson  float32 0.9176762, 12: <xarray.Dataset>\n",
       " Dimensions:        ()\n",
       " Coordinates:\n",
       "     tracer_num     int64 12\n",
       " Data variables:\n",
       "     corrU          float32 0.99227804\n",
       "     corrV          float32 0.9941514\n",
       "     corrW          float32 0.9633201\n",
       "     corrU_pearson  float32 0.9924063\n",
       "     corrV_pearson  float32 0.9940979\n",
       "     corrW_pearson  float32 0.9632133, 14: <xarray.Dataset>\n",
       " Dimensions:        ()\n",
       " Coordinates:\n",
       "     tracer_num     int64 14\n",
       " Data variables:\n",
       "     corrU          float32 0.9786959\n",
       "     corrV          float32 0.9910771\n",
       "     corrW          float32 0.98959076\n",
       "     corrU_pearson  float32 0.9788892\n",
       "     corrV_pearson  float32 0.99095535\n",
       "     corrW_pearson  float32 0.98952985, 16: <xarray.Dataset>\n",
       " Dimensions:        ()\n",
       " Coordinates:\n",
       "     tracer_num     int64 16\n",
       " Data variables:\n",
       "     corrU          float32 0.97386897\n",
       "     corrV          float32 0.9975175\n",
       "     corrW          float32 0.99769145\n",
       "     corrU_pearson  float32 0.974043\n",
       "     corrV_pearson  float32 0.9972407\n",
       "     corrW_pearson  float32 0.9971691, 18: <xarray.Dataset>\n",
       " Dimensions:        ()\n",
       " Coordinates:\n",
       "     tracer_num     int64 18\n",
       " Data variables:\n",
       "     corrU          float32 0.996913\n",
       "     corrV          float32 0.99648565\n",
       "     corrW          float32 0.97736037\n",
       "     corrU_pearson  float32 0.99691343\n",
       "     corrV_pearson  float32 0.996494\n",
       "     corrW_pearson  float32 0.97735393, 19: <xarray.Dataset>\n",
       " Dimensions:        ()\n",
       " Coordinates:\n",
       "     tracer_num     int64 19\n",
       " Data variables:\n",
       "     corrU          float32 0.8910193\n",
       "     corrV          float32 0.95813584\n",
       "     corrW          float32 0.96855444\n",
       "     corrU_pearson  float32 0.8908821\n",
       "     corrV_pearson  float32 0.9585471\n",
       "     corrW_pearson  float32 0.96817553, 20: <xarray.Dataset>\n",
       " Dimensions:        ()\n",
       " Coordinates:\n",
       "     tracer_num     int64 20\n",
       " Data variables:\n",
       "     corrU          float32 0.9915069\n",
       "     corrV          float32 0.9943401\n",
       "     corrW          float32 0.95660126\n",
       "     corrU_pearson  float32 0.9913857\n",
       "     corrV_pearson  float32 0.9943978\n",
       "     corrW_pearson  float32 0.95672345}"
      ]
     },
     "execution_count": 114,
     "metadata": {},
     "output_type": "execute_result"
    }
   ],
   "source": [
    "corrs"
   ]
  },
  {
   "cell_type": "code",
   "execution_count": 155,
   "metadata": {},
   "outputs": [
    {
     "data": {
      "text/plain": [
       "(0, 21)"
      ]
     },
     "execution_count": 155,
     "metadata": {},
     "output_type": "execute_result"
    },
    {
     "data": {
      "image/png": "[encoded data removed]",
      "text/plain": [
       "<Figure size 324x324 with 1 Axes>"
      ]
     },
     "metadata": {
      "needs_background": "light"
     },
     "output_type": "display_data"
    }
   ],
   "source": [
    "\n",
    "plt.plot(i, corrs[i].corrU_pearson, 'o', color='k', label='u')\n",
    "plt.plot(i, corrs[i].corrV_pearson, 's', color='r', label='v')\n",
    "plt.plot(i, corrs[i].corrW_pearson, '.', color='b', label='w')\n",
    "plt.legend()\n",
    "\n",
    "for i in range(1,21,1):\n",
    "    plt.plot(i, corrs[i].corrU_pearson, 'o', color='k')\n",
    "    plt.plot(i, corrs[i].corrV_pearson, 's', color='r')\n",
    "    plt.plot(i, corrs[i].corrW_pearson, '.', color='b')\n",
    "\n",
    "plt.xlabel('Tracer Number')\n",
    "plt.ylabel('Correlation')\n",
    "plt.xlim([0,21])\n"
   ]
  },
  {
   "cell_type": "code",
   "execution_count": 174,
   "metadata": {},
   "outputs": [],
   "source": [
    "corrs_temp = flux_reconstruct_corrs(diff_tensor.Kcorr, fluxT.sel(YCcoarse=slice(0,1800e3)), gradT.sel(YCcoarse=slice(0,1800e3)))"
   ]
  },
  {
   "cell_type": "code",
   "execution_count": 175,
   "metadata": {},
   "outputs": [
    {
     "data": {
      "text/plain": [
       "<xarray.Dataset>\n",
       "Dimensions:        ()\n",
       "Data variables:\n",
       "    corrU          float32 0.92377913\n",
       "    corrV          float32 0.973769\n",
       "    corrW          float32 0.9461668\n",
       "    corrU_pearson  float32 0.92422456\n",
       "    corrV_pearson  float32 0.973186\n",
       "    corrW_pearson  float32 0.93472666"
      ]
     },
     "execution_count": 175,
     "metadata": {},
     "output_type": "execute_result"
    }
   ],
   "source": [
    "corrs_temp"
   ]
  },
  {
   "cell_type": "code",
   "execution_count": 170,
   "metadata": {},
   "outputs": [
    {
     "data": {
      "image/png": "[encoded data removed]",
      "text/plain": [
       "<Figure size 792x288 with 2 Axes>"
      ]
     },
     "metadata": {
      "needs_background": "light"
     },
     "output_type": "display_data"
    }
   ],
   "source": [
    "plt.figure(figsize=(11,4))\n",
    "\n",
    "plt.subplot(121)\n",
    "plt.plot(i, frb_tracer[i].errU.sel(YCcoarse=slice(0,1800e3)).median(), 'o', color='k', label='u')\n",
    "plt.plot(i, frb_tracer[i].errV.sel(YCcoarse=slice(0,1800e3)).median(), 's', color='r', label='v')\n",
    "plt.plot(i, frb_tracer[i].errW.sel(YCcoarse=slice(0,1800e3)).median(), '.', color='b', label='w')\n",
    "plt.legend()\n",
    "\n",
    "for i in range(1,21,1):\n",
    "    plt.plot(i, frb_tracer[i].errU.sel(YCcoarse=slice(0,1800e3)).median(), 'o', color='k')\n",
    "    plt.plot(i, frb_tracer[i].errV.sel(YCcoarse=slice(0,1800e3)).median(), 's', color='r')\n",
    "    plt.plot(i, frb_tracer[i].errW.sel(YCcoarse=slice(0,1800e3)).median(), '.', color='b')\n",
    "\n",
    "\n",
    "plt.plot(23, frb_temp[50e3].errU.sel(YCcoarse=slice(0,1800e3)).median(), 'o', color='k', label='u')\n",
    "plt.plot(23, frb_temp[50e3].errV.sel(YCcoarse=slice(0,1800e3)).median(), 's', color='r', label='v')\n",
    "plt.plot(23, frb_temp[50e3].errW.sel(YCcoarse=slice(0,1800e3)).median(), '.', color='b', label='w')\n",
    "plt.text(23, -0.01, 'T', fontsize=12)    \n",
    "    \n",
    "plt.xlabel('Tracer')\n",
    "plt.ylabel('Median of Error PDF')\n",
    "plt.xlim([0,24])\n",
    "\n",
    "plt.subplot(122)\n",
    "plt.plot(i, corrs[i].corrU_pearson, 'o', color='k', label='u')\n",
    "plt.plot(i, corrs[i].corrV_pearson, 's', color='r', label='v')\n",
    "plt.plot(i, corrs[i].corrW_pearson, '.', color='b', label='w')\n",
    "plt.legend()\n",
    "\n",
    "for i in range(1,21,1):\n",
    "    plt.plot(i, corrs[i].corrU_pearson, 'o', color='k')\n",
    "    plt.plot(i, corrs[i].corrV_pearson, 's', color='r')\n",
    "    plt.plot(i, corrs[i].corrW_pearson, '.', color='b')\n",
    "\n",
    "plt.plot(23, corrs_temp.corrU_pearson, 'o', color='k')\n",
    "plt.plot(23, corrs_temp.corrV_pearson, 's', color='r')\n",
    "plt.plot(23, corrs_temp.corrW_pearson, '.', color='b')\n",
    "plt.text(23, 0.885, 'T', fontsize=12)    \n",
    "\n",
    "plt.xlabel('Tracer')\n",
    "plt.ylabel('Corr.(True flux, reconstructed flux)')\n",
    "plt.xlim([0,24])\n",
    "\n",
    "plt.tight_layout()\n",
    "\n",
    "plt.savefig('errors.pdf')"
   ]
  },
  {
   "cell_type": "code",
   "execution_count": 8,
   "metadata": {},
   "outputs": [],
   "source": [
    "bins = np.linspace(0,30,300)\n",
    "colors = ['R', 'b', 'g', 'k']\n",
    "params = {\n",
    "   'axes.labelsize': 12,\n",
    "   'font.size': 12,\n",
    "   'legend.fontsize': 12,\n",
    "   'xtick.labelsize': 12,\n",
    "   'ytick.labelsize': 12,\n",
    "   'text.usetex': False,\n",
    "   'figure.figsize': [4.5, 4.5]\n",
    "   }\n",
    "plt.rcParams.update(params)"
   ]
  },
  {
   "cell_type": "code",
   "execution_count": 13,
   "metadata": {},
   "outputs": [
    {
     "name": "stderr",
     "output_type": "stream",
     "text": [
      "/home/dbalwada/.conda/envs/pangeo/lib/python3.6/site-packages/matplotlib/axes/_axes.py:6499: MatplotlibDeprecationWarning: \n",
      "The 'normed' kwarg was deprecated in Matplotlib 2.1 and will be removed in 3.1. Use 'density' instead.\n",
      "  alternative=\"'density'\", removal=\"3.1\")\n",
      "/home/dbalwada/.conda/envs/pangeo/lib/python3.6/site-packages/matplotlib/axes/_axes.py:6499: MatplotlibDeprecationWarning: \n",
      "The 'normed' kwarg was deprecated in Matplotlib 2.1 and will be removed in 3.1. Use 'density' instead.\n",
      "  alternative=\"'density'\", removal=\"3.1\")\n",
      "/home/dbalwada/.conda/envs/pangeo/lib/python3.6/site-packages/matplotlib/axes/_axes.py:6499: MatplotlibDeprecationWarning: \n",
      "The 'normed' kwarg was deprecated in Matplotlib 2.1 and will be removed in 3.1. Use 'density' instead.\n",
      "  alternative=\"'density'\", removal=\"3.1\")\n",
      "/home/dbalwada/.conda/envs/pangeo/lib/python3.6/site-packages/matplotlib/axes/_axes.py:6499: MatplotlibDeprecationWarning: \n",
      "The 'normed' kwarg was deprecated in Matplotlib 2.1 and will be removed in 3.1. Use 'density' instead.\n",
      "  alternative=\"'density'\", removal=\"3.1\")\n",
      "/home/dbalwada/.conda/envs/pangeo/lib/python3.6/site-packages/matplotlib/axes/_axes.py:6499: MatplotlibDeprecationWarning: \n",
      "The 'normed' kwarg was deprecated in Matplotlib 2.1 and will be removed in 3.1. Use 'density' instead.\n",
      "  alternative=\"'density'\", removal=\"3.1\")\n",
      "/home/dbalwada/.conda/envs/pangeo/lib/python3.6/site-packages/matplotlib/axes/_axes.py:6499: MatplotlibDeprecationWarning: \n",
      "The 'normed' kwarg was deprecated in Matplotlib 2.1 and will be removed in 3.1. Use 'density' instead.\n",
      "  alternative=\"'density'\", removal=\"3.1\")\n"
     ]
    },
    {
     "data": {
      "image/png": "[encoded data removed]",
      "text/plain": [
       "<Figure size 648x324 with 2 Axes>"
      ]
     },
     "metadata": {
      "needs_background": "light"
     },
     "output_type": "display_data"
    }
   ],
   "source": [
    "plt.figure(figsize=(9,4.5))\n",
    "Lcoarse = 50e3\n",
    "\n",
    "plt.subplot(122)\n",
    "\n",
    "frb_fast[Lcoarse].errdiv.where(mask[Lcoarse]==1).sel(YCcoarse=slice(0,1800e3)).plot.hist(bins=bins, normed=True,\n",
    "             histtype='step',edgecolor= 'g', linewidth=1, fill=False, label = '1 Year')\n",
    "frb_slow[Lcoarse].errdiv.where(mask[Lcoarse]==1).sel(YCcoarse=slice(0,1800e3)).plot.hist(bins=bins, normed=True,\n",
    "             histtype='step',edgecolor= 'r', linewidth=1, fill=False, label = '6 Years')\n",
    "frb_corr[Lcoarse].errdiv.where(mask[Lcoarse]==1).sel(YCcoarse=slice(0,1800e3)).plot.hist(bins=bins, normed=True,\n",
    "             histtype='step',edgecolor= 'b', linewidth=2, fill=False, label = 'Corrected')\n",
    "\n",
    "plt.xlim([0,2])\n",
    "plt.title(r'E($\\nabla.(\\mathbf{u}$b))')\n",
    "plt.xlabel('Error')\n",
    "plt.ylabel('PDF')\n",
    "\n",
    "plt.subplot(121)\n",
    "\n",
    "frb_fast[Lcoarse].errU.where(mask[Lcoarse]==1).sel(YCcoarse=slice(0,1800e3)).plot.hist(bins=bins, normed=True,\n",
    "             histtype='step',edgecolor= 'g', linewidth=1, fill=False, label = '1 Year')\n",
    "frb_slow[Lcoarse].errU.where(mask[Lcoarse]==1).sel(YCcoarse=slice(0,1800e3)).plot.hist(bins=bins, normed=True,\n",
    "             histtype='step',edgecolor= 'r', linewidth=1, fill=False, label = '6 Years')\n",
    "frb_corr[Lcoarse].errU.where(mask[Lcoarse]==1).sel(YCcoarse=slice(0,1800e3)).plot.hist(bins=bins, normed=True,\n",
    "             histtype='step',edgecolor= 'b', linewidth=2, fill=False, label = 'Corrected')\n",
    "\n",
    "plt.xlim([0,2])\n",
    "plt.legend()\n",
    "plt.title(r'E(ub)')\n",
    "plt.xlabel('Error')\n",
    "plt.ylabel('PDF')\n",
    "plt.tight_layout()\n",
    "plt.savefig('fig2c.pdf', dpi=200,bbox_inches='tight')"
   ]
  },
  {
   "cell_type": "code",
   "execution_count": 137,
   "metadata": {},
   "outputs": [
    {
     "name": "stderr",
     "output_type": "stream",
     "text": [
      "/home/dbalwada/.conda/envs/pangeo/lib/python3.6/site-packages/matplotlib/figure.py:98: MatplotlibDeprecationWarning: \n",
      "Adding an axes using the same arguments as a previous axes currently reuses the earlier instance.  In a future version, a new instance will always be created and returned.  Meanwhile, this warning can be suppressed, and the future behavior ensured, by passing a unique label to each axes instance.\n",
      "  \"Adding an axes using the same arguments as a previous axes \"\n",
      "/home/dbalwada/.conda/envs/pangeo/lib/python3.6/site-packages/matplotlib/figure.py:98: MatplotlibDeprecationWarning: \n",
      "Adding an axes using the same arguments as a previous axes currently reuses the earlier instance.  In a future version, a new instance will always be created and returned.  Meanwhile, this warning can be suppressed, and the future behavior ensured, by passing a unique label to each axes instance.\n",
      "  \"Adding an axes using the same arguments as a previous axes \"\n",
      "/home/dbalwada/.conda/envs/pangeo/lib/python3.6/site-packages/matplotlib/figure.py:98: MatplotlibDeprecationWarning: \n",
      "Adding an axes using the same arguments as a previous axes currently reuses the earlier instance.  In a future version, a new instance will always be created and returned.  Meanwhile, this warning can be suppressed, and the future behavior ensured, by passing a unique label to each axes instance.\n",
      "  \"Adding an axes using the same arguments as a previous axes \"\n",
      "/home/dbalwada/.conda/envs/pangeo/lib/python3.6/site-packages/matplotlib/figure.py:98: MatplotlibDeprecationWarning: \n",
      "Adding an axes using the same arguments as a previous axes currently reuses the earlier instance.  In a future version, a new instance will always be created and returned.  Meanwhile, this warning can be suppressed, and the future behavior ensured, by passing a unique label to each axes instance.\n",
      "  \"Adding an axes using the same arguments as a previous axes \"\n",
      "/home/dbalwada/.conda/envs/pangeo/lib/python3.6/site-packages/matplotlib/figure.py:98: MatplotlibDeprecationWarning: \n",
      "Adding an axes using the same arguments as a previous axes currently reuses the earlier instance.  In a future version, a new instance will always be created and returned.  Meanwhile, this warning can be suppressed, and the future behavior ensured, by passing a unique label to each axes instance.\n",
      "  \"Adding an axes using the same arguments as a previous axes \"\n",
      "/home/dbalwada/.conda/envs/pangeo/lib/python3.6/site-packages/matplotlib/figure.py:98: MatplotlibDeprecationWarning: \n",
      "Adding an axes using the same arguments as a previous axes currently reuses the earlier instance.  In a future version, a new instance will always be created and returned.  Meanwhile, this warning can be suppressed, and the future behavior ensured, by passing a unique label to each axes instance.\n",
      "  \"Adding an axes using the same arguments as a previous axes \"\n",
      "/home/dbalwada/.conda/envs/pangeo/lib/python3.6/site-packages/matplotlib/figure.py:98: MatplotlibDeprecationWarning: \n",
      "Adding an axes using the same arguments as a previous axes currently reuses the earlier instance.  In a future version, a new instance will always be created and returned.  Meanwhile, this warning can be suppressed, and the future behavior ensured, by passing a unique label to each axes instance.\n",
      "  \"Adding an axes using the same arguments as a previous axes \"\n"
     ]
    },
    {
     "data": {
      "image/png": "[encoded data removed]",
      "text/plain": [
       "<Figure size 648x324 with 2 Axes>"
      ]
     },
     "metadata": {
      "needs_background": "light"
     },
     "output_type": "display_data"
    }
   ],
   "source": [
    "plt.figure(figsize=(9,4.5))\n",
    "n=0\n",
    "for Lcoarse in Lcoarselist:\n",
    "    plt.subplot(121)\n",
    "    frb_corr[Lcoarse].errdiv.where(mask[Lcoarse]==1).plot.hist(bins=bins, density=True,\n",
    "                         histtype='step',edgecolor= colors[n], linewidth=2, fill=False, label = str('%3.0f' %(Lcoarse/1e3))+'km')\n",
    "\n",
    "    plt.subplot(122)\n",
    "    frb_corr[Lcoarse].errU.where(mask[Lcoarse]==1).plot.hist(bins=bins, density=True,\n",
    "                         histtype='step',edgecolor= colors[n], linewidth=2, fill=False, label = str('%3.0f' %(Lcoarse/1e3))+'km')\n",
    "\n",
    "    n+=1\n",
    "    \n",
    "plt.subplot(121)\n",
    "plt.xlim([-0.2,2])\n",
    "plt.legend()\n",
    "plt.title(r'E($\\nabla.(\\mathbf{u}$b))')\n",
    "plt.xlabel('Error')\n",
    "plt.ylabel('PDF')\n",
    "\n",
    "plt.subplot(122)\n",
    "plt.xlim([-0.2,2])\n",
    "plt.title(r'E(ub))')\n",
    "plt.xlabel('Error')\n",
    "plt.ylabel('PDF')\n",
    "plt.tight_layout()\n"
   ]
  },
  {
   "cell_type": "code",
   "execution_count": 9,
   "metadata": {},
   "outputs": [
    {
     "data": {
      "image/png": "[encoded data removed]",
      "text/plain": [
       "<Figure size 324x324 with 1 Axes>"
      ]
     },
     "metadata": {
      "needs_background": "light"
     },
     "output_type": "display_data"
    }
   ],
   "source": [
    "for Lcoarse in Lcoarselist: \n",
    "    temp = frb_corr[Lcoarse]\n",
    "    hFacCcoarse = mask[Lcoarse]\n",
    "    \n",
    "    if Lcoarse == 25e3 :\n",
    "        \n",
    "        plt.plot(Lcoarse/1e3, temp.errU.where(hFacCcoarse==1.).median(['XCcoarse', 'YCcoarse','Z']),\n",
    "                 'rs', label='E(ub)')\n",
    "        plt.plot(Lcoarse/1e3, temp.errV.where(hFacCcoarse==1.).median(['XCcoarse', 'YCcoarse','Z']), 'kv', label='E(vb)')\n",
    "        plt.plot(Lcoarse/1e3, temp.errW.where(hFacCcoarse==1.).median(['XCcoarse', 'YCcoarse','Z']), 'bP', label='E(wb)')\n",
    "\n",
    "        plt.plot(Lcoarse/1e3, temp.errdiv.where(hFacCcoarse==1.).median(['XCcoarse', 'YCcoarse','Z']), 'rX', label=r'E($\\nabla.\\mathbf{u}$b)')\n",
    "        plt.plot(Lcoarse/1e3, temp.errdzflux.where(hFacCcoarse==1.).median(['XCcoarse', 'YCcoarse','Z']), 'bx', label=r'E($\\frac{d}{dz}\\mathbf{u}_H$b)')        \n",
    "#        plt.plot(Lcoarse/1e3, temp.errdivhor.where(hFacCcoarse==1.).median(['XCcoarse', 'YCcoarse','Z']), 'bx', label=r'E($\\nabla_H.\\mathbf{u}_H$b)')\n",
    "#        plt.plot(Lcoarse/1e3, temp.errdivver.where(hFacCcoarse==1.).median(['XCcoarse', 'YCcoarse','Z']), 'bh', label=r'E($\\nabla_z.\\mathbf{u}_z$b)')\n",
    "    else:\n",
    "        plt.plot(Lcoarse/1e3, temp.errU.where(hFacCcoarse==1.).median(['XCcoarse', 'YCcoarse','Z']), 'rs')\n",
    "        plt.plot(Lcoarse/1e3, temp.errV.where(hFacCcoarse==1.).median(['XCcoarse', 'YCcoarse','Z']), 'kv')\n",
    "        plt.plot(Lcoarse/1e3, temp.errW.where(hFacCcoarse==1.).median(['XCcoarse', 'YCcoarse','Z']), 'bP')\n",
    "\n",
    "        plt.plot(Lcoarse/1e3, temp.errdiv.where(hFacCcoarse==1.).median(['XCcoarse', 'YCcoarse','Z']), 'rX')\n",
    "        plt.plot(Lcoarse/1e3, temp.errdzflux.where(hFacCcoarse==1.).median(['XCcoarse', 'YCcoarse','Z']), 'bx')   \n",
    "#        plt.plot(Lcoarse/1e3, temp.errdivhor.where(hFacCcoarse==1.).median(['XCcoarse', 'YCcoarse','Z']), 'bx')   \n",
    "#        plt.plot(Lcoarse/1e3, temp.errdivver.where(hFacCcoarse==1.).median(['XCcoarse', 'YCcoarse','Z']), 'bh')\n",
    "        \n",
    "        \n",
    "plt.legend(loc='best')    \n",
    "plt.xlabel('Coarsening Scale (km)')\n",
    "plt.ylabel('Median of Error PDF')\n",
    "plt.title('Using all 10 tracers')\n",
    "plt.ylim([0,1])      \n",
    "#plt.savefig('fig2b.pdf', dpi=200,bbox_inches='tight')"
   ]
  },
  {
   "cell_type": "code",
   "execution_count": 139,
   "metadata": {},
   "outputs": [
    {
     "ename": "KeyError",
     "evalue": "25000.0",
     "output_type": "error",
     "traceback": [
      "\u001b[0;31m---------------------------------------------------------------------------\u001b[0m",
      "\u001b[0;31mKeyError\u001b[0m                                  Traceback (most recent call last)",
      "\u001b[0;32m<ipython-input-139-bf827bf4ddb2>\u001b[0m in \u001b[0;36m<module>\u001b[0;34m\u001b[0m\n\u001b[1;32m      1\u001b[0m \u001b[0;32mfor\u001b[0m \u001b[0mLcoarse\u001b[0m \u001b[0;32min\u001b[0m \u001b[0mLcoarselist\u001b[0m\u001b[0;34m:\u001b[0m\u001b[0;34m\u001b[0m\u001b[0;34m\u001b[0m\u001b[0m\n\u001b[0;32m----> 2\u001b[0;31m     \u001b[0mtemp\u001b[0m \u001b[0;34m=\u001b[0m \u001b[0mfrb_corr\u001b[0m\u001b[0;34m[\u001b[0m\u001b[0mLcoarse\u001b[0m\u001b[0;34m]\u001b[0m\u001b[0;34m\u001b[0m\u001b[0;34m\u001b[0m\u001b[0m\n\u001b[0m\u001b[1;32m      3\u001b[0m     \u001b[0mhFacCcoarse\u001b[0m \u001b[0;34m=\u001b[0m \u001b[0mmask\u001b[0m\u001b[0;34m[\u001b[0m\u001b[0mLcoarse\u001b[0m\u001b[0;34m]\u001b[0m\u001b[0;34m\u001b[0m\u001b[0;34m\u001b[0m\u001b[0m\n\u001b[1;32m      4\u001b[0m \u001b[0;34m\u001b[0m\u001b[0m\n\u001b[1;32m      5\u001b[0m     \u001b[0;32mif\u001b[0m \u001b[0mLcoarse\u001b[0m \u001b[0;34m==\u001b[0m \u001b[0;36m25e3\u001b[0m \u001b[0;34m:\u001b[0m\u001b[0;34m\u001b[0m\u001b[0;34m\u001b[0m\u001b[0m\n",
      "\u001b[0;31mKeyError\u001b[0m: 25000.0"
     ]
    }
   ],
   "source": [
    "for Lcoarse in Lcoarselist: \n",
    "    temp = frb_corr[Lcoarse]\n",
    "    hFacCcoarse = mask[Lcoarse]\n",
    "    \n",
    "    if Lcoarse == 25e3 :\n",
    "        \n",
    "        plt.plot(Lcoarse/1e3, temp.errU.where(hFacCcoarse==1.).sel(YCcoarse=slice(0,1800e3)).median(['XCcoarse', 'YCcoarse','Z']),\n",
    "                 'rs', label='E(ub)')\n",
    "        plt.plot(Lcoarse/1e3, temp.errV.where(hFacCcoarse==1.).sel(YCcoarse=slice(0,1800e3)).median(['XCcoarse', 'YCcoarse','Z']), 'kv', label='E(vb)')\n",
    "        plt.plot(Lcoarse/1e3, temp.errW.where(hFacCcoarse==1.).sel(YCcoarse=slice(0,1800e3)).median(['XCcoarse', 'YCcoarse','Z']), 'bP', label='E(wb)')\n",
    "\n",
    "        plt.plot(Lcoarse/1e3, temp.errdiv.where(hFacCcoarse==1.).sel(YCcoarse=slice(0,1800e3)).median(['XCcoarse', 'YCcoarse','Z']), 'rX', label=r'E($\\nabla.\\mathbf{u}$b)')\n",
    "        plt.plot(Lcoarse/1e3, temp.errdzflux.where(hFacCcoarse==1.).sel(YCcoarse=slice(0,1800e3)).median(['XCcoarse', 'YCcoarse','Z']), 'bx', label=r'E($\\frac{d}{dz}\\mathbf{u}_H$b)')        \n",
    "#        plt.plot(Lcoarse/1e3, temp.errdivhor.where(hFacCcoarse==1.).median(['XCcoarse', 'YCcoarse','Z']), 'bx', label=r'E($\\nabla_H.\\mathbf{u}_H$b)')\n",
    "#        plt.plot(Lcoarse/1e3, temp.errdivver.where(hFacCcoarse==1.).median(['XCcoarse', 'YCcoarse','Z']), 'bh', label=r'E($\\nabla_z.\\mathbf{u}_z$b)')\n",
    "    else:\n",
    "        plt.plot(Lcoarse/1e3, temp.errU.where(hFacCcoarse==1.).sel(YCcoarse=slice(0,1800e3)).median(['XCcoarse', 'YCcoarse','Z']), 'rs')\n",
    "        plt.plot(Lcoarse/1e3, temp.errV.where(hFacCcoarse==1.).sel(YCcoarse=slice(0,1800e3)).median(['XCcoarse', 'YCcoarse','Z']), 'kv')\n",
    "        plt.plot(Lcoarse/1e3, temp.errW.where(hFacCcoarse==1.).sel(YCcoarse=slice(0,1800e3)).median(['XCcoarse', 'YCcoarse','Z']), 'bP')\n",
    "\n",
    "        plt.plot(Lcoarse/1e3, temp.errdiv.where(hFacCcoarse==1.).sel(YCcoarse=slice(0,1800e3)).median(['XCcoarse', 'YCcoarse','Z']), 'rX')\n",
    "        plt.plot(Lcoarse/1e3, temp.errdzflux.where(hFacCcoarse==1.).sel(YCcoarse=slice(0,1800e3)).median(['XCcoarse', 'YCcoarse','Z']), 'bx')   \n",
    "#        plt.plot(Lcoarse/1e3, temp.errdivhor.where(hFacCcoarse==1.).median(['XCcoarse', 'YCcoarse','Z']), 'bx')   \n",
    "#        plt.plot(Lcoarse/1e3, temp.errdivver.where(hFacCcoarse==1.).median(['XCcoarse', 'YCcoarse','Z']), 'bh')\n",
    "        \n",
    "        \n",
    "plt.legend(loc='best')    \n",
    "plt.xlabel('Coarsening Scale (km)')\n",
    "plt.ylabel('Median of Error PDF')\n",
    "plt.title('Using all 10 tracers')\n",
    "plt.ylim([0,1])      \n",
    "#plt.savefig('fig2b.pdf', dpi=200,bbox_inches='tight')"
   ]
  },
  {
   "cell_type": "code",
   "execution_count": null,
   "metadata": {},
   "outputs": [],
   "source": []
  }
 ],
 "metadata": {
  "kernelspec": {
   "display_name": "Pangeo",
   "language": "python",
   "name": "pangeo"
  },
  "language_info": {
   "codemirror_mode": {
    "name": "ipython",
    "version": 3
   },
   "file_extension": ".py",
   "mimetype": "text/x-python",
   "name": "python",
   "nbconvert_exporter": "python",
   "pygments_lexer": "ipython3",
   "version": "3.6.7"
  }
 },
 "nbformat": 4,
 "nbformat_minor": 2
}
