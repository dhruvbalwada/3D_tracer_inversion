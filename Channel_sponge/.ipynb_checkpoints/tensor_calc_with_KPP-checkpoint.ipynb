{
 "cells": [
  {
   "cell_type": "markdown",
   "metadata": {},
   "source": [
    "# Diffusivity tensor for any resolution"
   ]
  },
  {
   "cell_type": "code",
   "execution_count": 1,
   "metadata": {},
   "outputs": [],
   "source": [
    "import numpy as np\n",
    "import xarray as xr\n",
    "from funcs import *\n",
    "%matplotlib inline\n",
    "from matplotlib import pyplot as plt\n",
    "from matplotlib import colors, ticker, cm\n",
    "from matplotlib.colors import LogNorm"
   ]
  },
  {
   "cell_type": "code",
   "execution_count": 2,
   "metadata": {},
   "outputs": [],
   "source": [
    "Lcoarse = 50e3"
   ]
  },
  {
   "cell_type": "code",
   "execution_count": 3,
   "metadata": {},
   "outputs": [],
   "source": [
    "Trac_coarse = xr.open_dataset('./outputs_ncfiles/Trac_coarse_'+str(int(Lcoarse//1e3))+'km')\n",
    "Vels_coarse = xr.open_dataset('./outputs_ncfiles/Vels_coarse_'+str(int(Lcoarse//1e3))+'km')"
   ]
  },
  {
   "cell_type": "code",
   "execution_count": 4,
   "metadata": {},
   "outputs": [],
   "source": [
    "list_trac = ['TRAC01', 'TRAC02', 'TRAC03', 'TRAC04', 'TRAC05', \n",
    "            'TRAC06', 'TRAC07', 'TRAC08', 'TRAC09', 'TRAC10', \n",
    "            'TRAC11', 'TRAC12', 'TRAC13', 'TRAC14', 'TRAC15', \n",
    "            'TRAC16', 'TRAC17', 'TRAC18', 'TRAC19', 'TRAC20']\n",
    "list_trac2 = ['Tr01', 'Tr02', 'Tr03', 'Tr04', 'Tr05', \n",
    "            'Tr06', 'Tr07', 'Tr08', 'Tr09', 'Tr10', \n",
    "            'Tr11', 'Tr12', 'Tr13', 'Tr14', 'Tr15', \n",
    "            'Tr16', 'Tr17', 'Tr18', 'Tr19', 'Tr20']"
   ]
  },
  {
   "cell_type": "code",
   "execution_count": 5,
   "metadata": {},
   "outputs": [],
   "source": [
    "[UpCp, VpCp, WpCp] = get_flux_arrays(Trac_coarse, list_trac)\n",
    "[dCdx, dCdy, dCdz] = get_grad_arrays(Trac_coarse, list_trac)"
   ]
  },
  {
   "cell_type": "code",
   "execution_count": 6,
   "metadata": {},
   "outputs": [],
   "source": [
    "KvCz = get_diff_flux_arrays(Trac_coarse, list_trac2)"
   ]
  },
  {
   "cell_type": "code",
   "execution_count": 7,
   "metadata": {},
   "outputs": [
    {
     "data": {
      "text/plain": [
       "<xarray.DataArray 'KvCz' (tracer_num: 20, Z: 40, YCcoarse: 40, XCcoarse: 40)>\n",
       "array([[[[-2.445507, ..., -2.430259],\n",
       "         ...,\n",
       "         [ 0.109596, ...,  0.111917]],\n",
       "\n",
       "        ...,\n",
       "\n",
       "        [[ 2.980131, ...,  2.832194],\n",
       "         ...,\n",
       "         [-0.013967, ..., -0.016477]]],\n",
       "\n",
       "\n",
       "       ...,\n",
       "\n",
       "\n",
       "       [[[-1.572975, ..., -1.553181],\n",
       "         ...,\n",
       "         [ 0.041297, ...,  0.046098]],\n",
       "\n",
       "        ...,\n",
       "\n",
       "        [[-1.504801, ..., -1.458062],\n",
       "         ...,\n",
       "         [-0.059645, ..., -0.061603]]]], dtype=float32)\n",
       "Coordinates:\n",
       "  * Z            (Z) float32 -5.0 -15.0 -25.0 -36.0 ... -2727.5 -2830.5 -2933.5\n",
       "  * YCcoarse     (YCcoarse) float32 25000.0 75000.0 ... 1925000.0 1975000.0\n",
       "  * XCcoarse     (XCcoarse) float32 25000.0 75000.0 ... 1925000.0 1975000.0\n",
       "    hFacCcoarse  (Z, YCcoarse, XCcoarse) float32 0.9 0.9 0.9 0.9 ... 1.0 1.0 1.0\n",
       "    PHrefC       (Z) float32 49.05 147.15 245.25 ... 27767.205 28777.635\n",
       "    drF          (Z) float32 10.0 10.0 10.0 12.0 ... 103.0 103.0 103.0 103.0\n",
       "  * tracer_num   (tracer_num) int64 1 2 3 4 5 6 7 8 ... 13 14 15 16 17 18 19 20"
      ]
     },
     "execution_count": 7,
     "metadata": {},
     "output_type": "execute_result"
    }
   ],
   "source": [
    "KvCz"
   ]
  },
  {
   "cell_type": "code",
   "execution_count": 8,
   "metadata": {},
   "outputs": [
    {
     "name": "stdout",
     "output_type": "stream",
     "text": [
      "CPU times: user 12.7 s, sys: 13 ms, total: 12.7 s\n",
      "Wall time: 12.8 s\n"
     ]
    }
   ],
   "source": [
    "%%time\n",
    "# Calculate the tensor\n",
    "# This is slow (can take over an hour)\n",
    "\n",
    "Ktensor_fast = xr.apply_ufunc(calc_tensor, \n",
    "                       UpCp.sel(tracer_num=slice(1,19,2)),\n",
    "                       VpCp.sel(tracer_num=slice(1,19,2)),\n",
    "                       WpCp.sel(tracer_num=slice(1,19,2)) + KvCz.sel(tracer_num=slice(1,19,2))/(5e3*5e3),\n",
    "                       dCdx.sel(tracer_num=slice(1,19,2)),\n",
    "                       dCdy.sel(tracer_num=slice(1,19,2)),\n",
    "                       dCdz.sel(tracer_num=slice(1,19,2)),\n",
    "                       input_core_dims=[['tracer_num'], ['tracer_num'], ['tracer_num'], ['tracer_num'], ['tracer_num'], ['tracer_num']],\n",
    "                       vectorize=True, output_core_dims=[['i','j']], dask='parallelized', \n",
    "                       output_dtypes=['float32'], output_sizes={'i':3,'j':3})\n",
    "\n",
    "Ktensor_fast.load() # need to load because we will take transpose and a"
   ]
  },
  {
   "cell_type": "code",
   "execution_count": 9,
   "metadata": {},
   "outputs": [
    {
     "name": "stdout",
     "output_type": "stream",
     "text": [
      "CPU times: user 13.1 s, sys: 23.1 ms, total: 13.1 s\n",
      "Wall time: 13.1 s\n"
     ]
    }
   ],
   "source": [
    "%%time\n",
    "# Calculate the tensor\n",
    "# This is slow (can take over an hour)\n",
    "\n",
    "Ktensor_slow = xr.apply_ufunc(calc_tensor, \n",
    "                       UpCp.sel(tracer_num=slice(2,20,2)),\n",
    "                       VpCp.sel(tracer_num=slice(2,20,2)),\n",
    "                       WpCp.sel(tracer_num=slice(2,20,2)) + KvCz.sel(tracer_num=slice(2,20,2))/(5e3*5e3),\n",
    "                       dCdx.sel(tracer_num=slice(2,20,2)),\n",
    "                       dCdy.sel(tracer_num=slice(2,20,2)),\n",
    "                       dCdz.sel(tracer_num=slice(2,20,2)),\n",
    "                       input_core_dims=[['tracer_num'], ['tracer_num'], ['tracer_num'], ['tracer_num'], ['tracer_num'], ['tracer_num']],\n",
    "                       vectorize=True, output_core_dims=[['i','j']], dask='parallelized', \n",
    "                       output_dtypes=['float32'], output_sizes={'i':3,'j':3})\n",
    "\n",
    "Ktensor_slow.load() # need to load because we will take transpose and a"
   ]
  },
  {
   "cell_type": "code",
   "execution_count": 10,
   "metadata": {},
   "outputs": [],
   "source": [
    "lam1 = 1/31104000.\n",
    "lam2 = 1/186624000.\n",
    "\n",
    "Ktensor_corr = (lam2*Ktensor_fast - lam1*Ktensor_slow)/(lam2 - lam1)"
   ]
  },
  {
   "cell_type": "code",
   "execution_count": 11,
   "metadata": {},
   "outputs": [],
   "source": [
    "Ktensor_corrT = Ktensor_corr.transpose('Z','YCcoarse','XCcoarse','j','i')\n",
    "\n",
    "ST = 0.5*(Ktensor_corr.data + Ktensor_corrT.data)\n",
    "AT = 0.5*(Ktensor_corr.data - Ktensor_corrT.data)\n",
    "\n",
    "ST = xr.DataArray(ST, coords=Ktensor_corr.coords, dims=Ktensor_corr.dims)\n",
    "AT = xr.DataArray(AT, coords=Ktensor_corr.coords, dims=Ktensor_corr.dims)"
   ]
  },
  {
   "cell_type": "code",
   "execution_count": 12,
   "metadata": {},
   "outputs": [],
   "source": [
    "# make sure the eigen values are arranged by magnitude (instead of the default arrangement)\n",
    "def eigen(A):\n",
    "    eigenValues, eigenVectors = eigh(A)\n",
    "    idx = np.argsort(np.abs(eigenValues))\n",
    "    eigenValues = eigenValues[idx]\n",
    "    eigenVectors = eigenVectors[:,idx]\n",
    "    return (eigenValues, eigenVectors)"
   ]
  },
  {
   "cell_type": "code",
   "execution_count": 13,
   "metadata": {},
   "outputs": [],
   "source": [
    "# calculate the eigenvalues and eigenvectors of symmetric part\n",
    "eigvalsST, eigvecsST = xr.apply_ufunc(eigen, ST, input_core_dims=[['i','j']],\n",
    "                                    vectorize=True, output_core_dims=[['ii'], ['k','ii']])"
   ]
  },
  {
   "cell_type": "code",
   "execution_count": 14,
   "metadata": {},
   "outputs": [],
   "source": [
    "diff_tensor = xr.Dataset()\n",
    "diff_tensor['Kfast'] = Ktensor_fast\n",
    "diff_tensor['Kslow'] = Ktensor_slow\n",
    "diff_tensor['Kcorr'] = Ktensor_corr\n",
    "diff_tensor['ST'] = ST\n",
    "diff_tensor['AT'] = AT\n",
    "diff_tensor['eigvalsST'] = np.real(eigvalsST)\n",
    "diff_tensor['eigvecsST'] = eigvecsST"
   ]
  },
  {
   "cell_type": "code",
   "execution_count": 20,
   "metadata": {},
   "outputs": [],
   "source": [
    "#diff_tensor.to_netcdf('./outputs_ncfiles/diff_tensor_with_diff_'+str(int(Lcoarse//1e3))+'km.nc')"
   ]
  },
  {
   "cell_type": "markdown",
   "metadata": {},
   "source": [
    "# Scrap notes"
   ]
  },
  {
   "cell_type": "code",
   "execution_count": 16,
   "metadata": {},
   "outputs": [],
   "source": [
    "Xcoarse = Trac_coarse.XCcoarse.data\n",
    "Ycoarse = Trac_coarse.YCcoarse.data\n",
    "Z = Trac_coarse.Z.data\n",
    "\n",
    "Ypcol = np.append(Ycoarse, Ycoarse[-1]+Lcoarse)-Lcoarse/2\n",
    "Xpcol = np.append(Xcoarse, Xcoarse[-1]+Lcoarse)-Lcoarse/2\n",
    "Zpcol = np.append(Z, Z[-1])"
   ]
  },
  {
   "cell_type": "code",
   "execution_count": 17,
   "metadata": {},
   "outputs": [
    {
     "ename": "NameError",
     "evalue": "name 'T_coarse' is not defined",
     "output_type": "error",
     "traceback": [
      "\u001b[0;31m---------------------------------------------------------------------------\u001b[0m",
      "\u001b[0;31mNameError\u001b[0m                                 Traceback (most recent call last)",
      "\u001b[0;32m<ipython-input-17-56e9ec47146a>\u001b[0m in \u001b[0;36m<module>\u001b[0;34m\u001b[0m\n\u001b[1;32m      1\u001b[0m \u001b[0mfig\u001b[0m\u001b[0;34m,\u001b[0m \u001b[0max\u001b[0m \u001b[0;34m=\u001b[0m \u001b[0mplt\u001b[0m\u001b[0;34m.\u001b[0m\u001b[0msubplots\u001b[0m\u001b[0;34m(\u001b[0m\u001b[0;36m1\u001b[0m\u001b[0;34m,\u001b[0m\u001b[0;36m3\u001b[0m\u001b[0;34m,\u001b[0m \u001b[0mfigsize\u001b[0m\u001b[0;34m=\u001b[0m\u001b[0;34m(\u001b[0m\u001b[0;36m12\u001b[0m\u001b[0;34m,\u001b[0m\u001b[0;36m3\u001b[0m\u001b[0;34m)\u001b[0m\u001b[0;34m)\u001b[0m\u001b[0;34m\u001b[0m\u001b[0m\n\u001b[1;32m      2\u001b[0m \u001b[0;34m\u001b[0m\u001b[0m\n\u001b[0;32m----> 3\u001b[0;31m im = ax[0].pcolormesh(Xpcol/1e3, Z,diff_tensor.eigvalsST.where(T_coarse.hFacCcoarse==1.).sel(YCcoarse=1000e3, method='nearest').isel(ii=2), \n\u001b[0m\u001b[1;32m      4\u001b[0m                 vmin=-4e4, vmax=4e4, cmap='RdBu_r', rasterized=True)\n\u001b[1;32m      5\u001b[0m ax[0].pcolor(Xpcol/1e3, Z, T_coarse.hFacCcoarse.where(Trac_coarse.YCcoarse>=1900e3).sel(YCcoarse=1000e3, method='nearest'),\n",
      "\u001b[0;31mNameError\u001b[0m: name 'T_coarse' is not defined"
     ]
    },
    {
     "data": {
      "image/png": "[encoded data removed]",
      "text/plain": [
       "<Figure size 864x216 with 3 Axes>"
      ]
     },
     "metadata": {
      "needs_background": "light"
     },
     "output_type": "display_data"
    }
   ],
   "source": [
    "fig, ax = plt.subplots(1,3, figsize=(12,3))\n",
    "\n",
    "im = ax[0].pcolormesh(Xpcol/1e3, Z,diff_tensor.eigvalsST.where(T_coarse.hFacCcoarse==1.).sel(YCcoarse=1000e3, method='nearest').isel(ii=2), \n",
    "                vmin=-4e4, vmax=4e4, cmap='RdBu_r', rasterized=True)\n",
    "#ax[0].pcolor(Xpcol/1e3, Z, T_coarse.hFacCcoarse.where(Trac_coarse.YCcoarse>=1900e3).sel(YCcoarse=1000e3, method='nearest'),\n",
    "#              hatch='x', alpha=0)\n",
    "ax[0].contour(Xcoarse/1e3, Z,diff_tensor.eigvalsST.where(T_coarse.hFacCcoarse==1.).sel(YCcoarse=1000e3, method='nearest').isel(ii=1), \n",
    "             levels=[0.], colors='k')\n",
    "ax[0].set_xlabel('Y (km)')\n",
    "ax[0].set_ylabel('Z (m)')\n",
    "\n",
    "fig.colorbar(im, ax=ax[0])\n",
    "\n",
    "im = ax[1].pcolormesh(Xpcol/1e3, Z,diff_tensor.eigvalsST.where(T_coarse.hFacCcoarse==1.).sel(YCcoarse=1000e3, method='nearest').isel(ii=1), \n",
    "                vmin=-1e4, vmax=1e4, cmap='RdBu_r', rasterized=True)\n",
    "#ax[1].contour(Xcoarse/1e3, Z,diff_tensor.eigvalsST.where(T_coarse.hFacCcoarse==1.).sel(YCcoarse=1000e3, method='nearest').isel(ii=1), \n",
    "             levels=[0], colors='k')\n",
    "ax[1].pcolor(Xpcol/1e3, Z, T_coarse.hFacCcoarse.where(Trac_coarse.YCcoarse>=1900e3).sel(YCcoarse=1000e3, method='nearest'),\n",
    "              hatch='x', alpha=0)\n",
    "ax[1].set_xlabel('Y (km)')\n",
    "ax[1].set_ylabel('Z (m)')\n",
    "fig.colorbar(im, ax=ax[1])\n",
    "\n",
    "\n",
    "im = ax[2].pcolormesh(Xpcol/1e3, Z,diff_tensor.eigvalsST.where(T_coarse.hFacCcoarse==1.).sel(YCcoarse=1000e3, method='nearest').isel(ii=0), \n",
    "                vmin=-1e-2, vmax=1e-2, cmap='RdBu_r', rasterized=True)\n",
    "ax[2].contour(Xcoarse/1e3, Z,diff_tensor.eigvalsST.where(T_coarse.hFacCcoarse==1.).sel(YCcoarse=1000e3, method='nearest').isel(ii=1), \n",
    "             levels=[0.], colors='k')\n",
    "ax[2].pcolor(Xpcol/1e3, Z, T_coarse.hFacCcoarse.where(Trac_coarse.YCcoarse>=1900e3).sel(YCcoarse=1000e3, method='nearest'),\n",
    "              hatch='x', alpha=0)\n",
    "ax[2].set_xlabel('Y (km)')\n",
    "ax[2].set_ylabel('Z (m)')\n",
    "fig.colorbar(im, ax=ax[2])\n",
    "\n",
    "plt.tight_layout()"
   ]
  },
  {
   "cell_type": "code",
   "execution_count": null,
   "metadata": {},
   "outputs": [],
   "source": []
  },
  {
   "cell_type": "code",
   "execution_count": null,
   "metadata": {},
   "outputs": [],
   "source": []
  },
  {
   "cell_type": "code",
   "execution_count": 12,
   "metadata": {},
   "outputs": [
    {
     "data": {
      "text/plain": [
       "<matplotlib.collections.QuadMesh at 0x7fd456b0c208>"
      ]
     },
     "execution_count": 12,
     "metadata": {},
     "output_type": "execute_result"
    },
    {
     "data": {
      "image/png": "[encoded data removed]",
      "text/plain": [
       "<Figure size 432x288 with 2 Axes>"
      ]
     },
     "metadata": {
      "needs_background": "light"
     },
     "output_type": "display_data"
    }
   ],
   "source": [
    "Trac_coarse.TRAC03_Z.sel(XCcoarse=0, method='nearest').plot(vmin=-4e-4)"
   ]
  },
  {
   "cell_type": "code",
   "execution_count": 21,
   "metadata": {},
   "outputs": [
    {
     "data": {
      "text/plain": [
       "<matplotlib.collections.QuadMesh at 0x7fd456545400>"
      ]
     },
     "execution_count": 21,
     "metadata": {},
     "output_type": "execute_result"
    },
    {
     "data": {
      "image/png": "[encoded data removed]",
      "text/plain": [
       "<Figure size 432x288 with 2 Axes>"
      ]
     },
     "metadata": {
      "needs_background": "light"
     },
     "output_type": "display_data"
    }
   ],
   "source": [
    "Trac_coarse.WpTRAC03p.sel(YCcoarse=1000e3, method='nearest').plot(vmin=-1e-7)"
   ]
  },
  {
   "cell_type": "code",
   "execution_count": 23,
   "metadata": {},
   "outputs": [
    {
     "data": {
      "text/plain": [
       "<matplotlib.collections.QuadMesh at 0x7fd453f27198>"
      ]
     },
     "execution_count": 23,
     "metadata": {},
     "output_type": "execute_result"
    },
    {
     "data": {
      "image/png": "[encoded data removed]",
      "text/plain": [
       "<Figure size 432x288 with 2 Axes>"
      ]
     },
     "metadata": {
      "needs_background": "light"
     },
     "output_type": "display_data"
    }
   ],
   "source": [
    "(Trac_coarse.DFrITr03/(5e3*5e3) + Trac_coarse.WpTRAC03p).sel(YCcoarse=1000e3, method='nearest').plot(vmin=-1e-7)"
   ]
  },
  {
   "cell_type": "code",
   "execution_count": null,
   "metadata": {},
   "outputs": [],
   "source": []
  }
 ],
 "metadata": {
  "kernelspec": {
   "display_name": "Pangeo",
   "language": "python",
   "name": "pangeo"
  },
  "language_info": {
   "codemirror_mode": {
    "name": "ipython",
    "version": 3
   },
   "file_extension": ".py",
   "mimetype": "text/x-python",
   "name": "python",
   "nbconvert_exporter": "python",
   "pygments_lexer": "ipython3",
   "version": "3.6.6"
  }
 },
 "nbformat": 4,
 "nbformat_minor": 2
}
