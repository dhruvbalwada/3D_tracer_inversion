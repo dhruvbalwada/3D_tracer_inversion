{
 "cells": [
  {
   "cell_type": "markdown",
   "metadata": {},
   "source": [
    "# Test the sensitivity of the results to 3 factors: \n",
    "\n",
    "- Time scale of restoring source: compare 1year, 6year and corrected values.\n",
    "- Spatial scale of coarsening: 25, 50, 100, 200km\n",
    "- Influence of choosing tracers (this has been put in a separate notebook). \n",
    "- We are assuming that the 20 year average is long, and equilibrated. One could test influence of changing this, but not sure if it matters here. \n",
    "\n",
    "The error will be evaluated by looking at the PDFs of $\\mathbf{u}'b$ and $\\nabla.(\\mathbf{u}'b)$. One could also look at the percentiles (25, 50(median), 75) for getting single numbers. \n",
    "\n",
    "The reason we are looking at buoyancy is because it is the only tracer without an interior source. For the other tracers, obviously, the fast restoring would be more appropriate for tracers that were restored fast, and vice versa. "
   ]
  },
  {
   "cell_type": "code",
   "execution_count": 1,
   "metadata": {},
   "outputs": [],
   "source": [
    "# load modules \n",
    "\n",
    "import numpy as np\n",
    "import xarray as xr\n",
    "from xmitgcm import open_mdsdataset\n",
    "from matplotlib import pyplot as plt\n",
    "from matplotlib import colors, ticker, cm\n",
    "from matplotlib.colors import LogNorm\n",
    "%matplotlib inline\n",
    "from funcs import *\n",
    "import os \n",
    "from xgcm import Grid, generate_grid_ds"
   ]
  },
  {
   "cell_type": "code",
   "execution_count": 2,
   "metadata": {},
   "outputs": [],
   "source": [
    "list_trac = ['TRAC01', 'TRAC02', 'TRAC03', 'TRAC04', 'TRAC05', \n",
    "            'TRAC06', 'TRAC07', 'TRAC08', 'TRAC09', 'TRAC10', \n",
    "            'TRAC11', 'TRAC12', 'TRAC13', 'TRAC14', 'TRAC15', \n",
    "            'TRAC16', 'TRAC17', 'TRAC18', 'TRAC19', 'TRAC20']"
   ]
  },
  {
   "cell_type": "code",
   "execution_count": 3,
   "metadata": {},
   "outputs": [],
   "source": [
    "Model_Tav = xr.open_dataset('./outputs_ncfiles/Model_Tav.nc')"
   ]
  },
  {
   "cell_type": "code",
   "execution_count": 120,
   "metadata": {},
   "outputs": [],
   "source": [
    "def flux_reconstruct(tensor, flux, grads, grid, Lcoarse):\n",
    "\n",
    "    recUflux = -(tensor.sel(i=0, j=0)*grads.dCdx + tensor.sel(i=0, j=1)*grads.dCdy + tensor.sel(i=0, j=2)*grads.dCdz)\n",
    "    recVflux = -(tensor.sel(i=1, j=0)*grads.dCdx + tensor.sel(i=1, j=1)*grads.dCdy + tensor.sel(i=1, j=2)*grads.dCdz)\n",
    "    recWflux = -(tensor.sel(i=2, j=0)*grads.dCdx + tensor.sel(i=2, j=1)*grads.dCdy + tensor.sel(i=2, j=2)*grads.dCdz)\n",
    "    \n",
    "    errU = np.abs(flux.UpCp - recUflux)/np.abs(flux.UpCp)\n",
    "    errV = np.abs(flux.VpCp - recVflux)/np.abs(flux.VpCp)\n",
    "    errW = np.abs(flux.WpCp - recWflux)/np.abs(flux.WpCp)\n",
    "    \n",
    "    divUpCp = grid.interp(grid.diff(flux.UpCp, 'X')/Lcoarse, 'X') + \\\n",
    "              grid.interp(grid.diff(flux.VpCp, 'Y', boundary='extend')/Lcoarse, 'Y', boundary='extend') + \\\n",
    "             -grid.interp(grid.diff(flux.WpCp, 'Z', boundary='extend'), 'Z', boundary='extend')/ flux.drF\n",
    "            \n",
    "    divUpCphor = grid.interp(grid.diff(flux.UpCp, 'X')/Lcoarse, 'X') + \\\n",
    "              grid.interp(grid.diff(flux.VpCp, 'Y', boundary='extend')/Lcoarse, 'Y', boundary='extend')    \n",
    "        \n",
    "    divUpCpver = -grid.interp(grid.diff(flux.WpCp, 'Z', boundary='extend'), 'Z', boundary='extend')/ flux.drF\n",
    "    \n",
    "    dzUpCp = -grid.interp(grid.diff(flux.UpCp, 'Z', boundary='extend'), 'Z', boundary='extend')/flux.drF + \\\n",
    "             -grid.interp(grid.diff(flux.VpCp, 'Z', boundary='extend'), 'Z', boundary='extend')/flux.drF\n",
    "\n",
    "    divrecflux = grid.interp(grid.diff(recUflux, 'X')/Lcoarse, 'X') + \\\n",
    "                 grid.interp(grid.diff(recVflux, 'Y', boundary='extend')/Lcoarse, 'Y', boundary='extend') + \\\n",
    "                -grid.interp(grid.diff(recWflux, 'Z', boundary='extend'), 'Z', boundary='extend')/ flux.drF\n",
    "            \n",
    "    divrecfluxhor = grid.interp(grid.diff(recUflux, 'X')/Lcoarse, 'X') + \\\n",
    "                 grid.interp(grid.diff(recVflux, 'Y', boundary='extend')/Lcoarse, 'Y', boundary='extend') \n",
    "        \n",
    "    divrecfluxver = -grid.interp(grid.diff(recWflux, 'Z', boundary='extend'), 'Z', boundary='extend')/ flux.drF\n",
    "    \n",
    "    dzrecflux = -grid.interp(grid.diff(recUflux, 'Z', boundary='extend'), 'Z', boundary='extend')/flux.drF + \\\n",
    "                -grid.interp(grid.diff(recVflux, 'Z', boundary='extend'), 'Z', boundary='extend')/flux.drF\n",
    "\n",
    "    \n",
    "    errdiv = np.abs(divUpCp - divrecflux)/np.abs(divUpCp)\n",
    "    errdivhor = np.abs(divUpCphor - divrecfluxhor)/np.abs(divUpCphor)    \n",
    "    errdivver = np.abs(divUpCpver - divrecfluxver)/np.abs(divUpCpver)\n",
    "    errdzflux = np.abs(dzUpCp - dzrecflux)/np.abs(dzUpCp)\n",
    "    \n",
    "    flux_rec=xr.Dataset({'UpCp':recUflux, 'VpCp':recVflux, 'WpCp':recWflux,\n",
    "                                'errU':errU, 'errV':errV, 'errW':errW, \n",
    "                         'divrecflux': divrecflux, 'divUpCp': divUpCp, \n",
    "                         'errdiv':errdiv, 'errdivhor':errdivhor,'errdivver':errdivver,'errdzflux':errdzflux})\n",
    "    \n",
    "    return flux_rec"
   ]
  },
  {
   "cell_type": "code",
   "execution_count": 121,
   "metadata": {},
   "outputs": [],
   "source": [
    "Lcoarselist = [25e3, 50e3, 100e3, 200e3]"
   ]
  },
  {
   "cell_type": "code",
   "execution_count": 122,
   "metadata": {},
   "outputs": [],
   "source": [
    "frb_corr = {}\n",
    "frb_fast = {}\n",
    "frb_slow = {}\n",
    "mask = {}"
   ]
  },
  {
   "cell_type": "code",
   "execution_count": 123,
   "metadata": {},
   "outputs": [],
   "source": [
    "for Lcoarse in Lcoarselist:\n",
    "    # load data\n",
    "    diff_tensor = xr.open_dataset('./outputs_ncfiles/diff_tensor_'+str(int(Lcoarse//1e3))+'km.nc')\n",
    "    Trac_coarse = xr.open_dataset('./outputs_ncfiles/Trac_coarse_'+str(int(Lcoarse//1e3))+'km')\n",
    "    Vels_coarse = xr.open_dataset('./outputs_ncfiles/Vels_coarse_'+str(int(Lcoarse//1e3))+'km')\n",
    "    T_coarse    = xr.open_dataset('./outputs_ncfiles/T_coarse_'+str(int(Lcoarse//1e3))+'km')\n",
    "\n",
    "    mask[Lcoarse] = Trac_coarse.hFacCcoarse\n",
    "    # compute fluxes and gradients\n",
    "    [UpCp, VpCp, WpCp] = get_flux_arrays(Trac_coarse, list_trac)\n",
    "    [dCdx, dCdy, dCdz]= get_grad_arrays(Trac_coarse, list_trac)\n",
    "    fluxT = xr.Dataset({'UpCp':T_coarse.UpTp, 'VpCp':T_coarse.VpTp, 'WpCp':T_coarse.WpTp})\n",
    "    gradT = xr.Dataset({'dCdx':T_coarse.T_X, 'dCdy':T_coarse.T_Y, 'dCdz':T_coarse.T_Z})\n",
    "    flux = xr.Dataset({'UpCp':UpCp, 'VpCp':VpCp, 'WpCp':WpCp})\n",
    "    grads = xr.Dataset({'dCdx':dCdx, 'dCdy':dCdy, 'dCdz':dCdz})\n",
    "\n",
    "    # define a grid for taking gradients on coarse grid\n",
    "    grid_ds = xr.Dataset()\n",
    "    grid_ds['TRAC01'] = Trac_coarse['TRAC01']\n",
    "    grid_ds['wVeltave'] = Model_Tav['wVeltave']\n",
    "    grid_ds = grid_ds.drop(['wVeltave','XC','YC']).isel(XC=0, YC=0)\n",
    "    ds = generate_grid_ds(grid_ds, {'X': 'XCcoarse', 'Y':'YCcoarse'})\n",
    "    grid = Grid(ds, periodic='X')\n",
    "\n",
    "    frb_corr[Lcoarse] = flux_reconstruct(diff_tensor.Kcorr, fluxT, gradT, grid, Lcoarse)\n",
    "    frb_fast[Lcoarse] = flux_reconstruct(diff_tensor.Kfast, fluxT, gradT, grid, Lcoarse)\n",
    "    frb_slow[Lcoarse] = flux_reconstruct(diff_tensor.Kslow, fluxT, gradT, grid, Lcoarse)"
   ]
  },
  {
   "cell_type": "code",
   "execution_count": 108,
   "metadata": {},
   "outputs": [],
   "source": [
    "bins = np.linspace(0,30,300)\n",
    "colors = ['R', 'b', 'g', 'k']\n",
    "params = {\n",
    "   'axes.labelsize': 12,\n",
    "   'font.size': 12,\n",
    "   'legend.fontsize': 12,\n",
    "   'xtick.labelsize': 12,\n",
    "   'ytick.labelsize': 12,\n",
    "   'text.usetex': False,\n",
    "   'figure.figsize': [4.5, 4.5]\n",
    "   }\n",
    "plt.rcParams.update(params)"
   ]
  },
  {
   "cell_type": "code",
   "execution_count": 142,
   "metadata": {},
   "outputs": [
    {
     "name": "stderr",
     "output_type": "stream",
     "text": [
      "/home/dbalwada/.conda/envs/pangeo/lib/python3.6/site-packages/matplotlib/axes/_axes.py:6499: MatplotlibDeprecationWarning: \n",
      "The 'normed' kwarg was deprecated in Matplotlib 2.1 and will be removed in 3.1. Use 'density' instead.\n",
      "  alternative=\"'density'\", removal=\"3.1\")\n",
      "/home/dbalwada/.conda/envs/pangeo/lib/python3.6/site-packages/matplotlib/axes/_axes.py:6499: MatplotlibDeprecationWarning: \n",
      "The 'normed' kwarg was deprecated in Matplotlib 2.1 and will be removed in 3.1. Use 'density' instead.\n",
      "  alternative=\"'density'\", removal=\"3.1\")\n",
      "/home/dbalwada/.conda/envs/pangeo/lib/python3.6/site-packages/matplotlib/axes/_axes.py:6499: MatplotlibDeprecationWarning: \n",
      "The 'normed' kwarg was deprecated in Matplotlib 2.1 and will be removed in 3.1. Use 'density' instead.\n",
      "  alternative=\"'density'\", removal=\"3.1\")\n",
      "/home/dbalwada/.conda/envs/pangeo/lib/python3.6/site-packages/matplotlib/axes/_axes.py:6499: MatplotlibDeprecationWarning: \n",
      "The 'normed' kwarg was deprecated in Matplotlib 2.1 and will be removed in 3.1. Use 'density' instead.\n",
      "  alternative=\"'density'\", removal=\"3.1\")\n",
      "/home/dbalwada/.conda/envs/pangeo/lib/python3.6/site-packages/matplotlib/axes/_axes.py:6499: MatplotlibDeprecationWarning: \n",
      "The 'normed' kwarg was deprecated in Matplotlib 2.1 and will be removed in 3.1. Use 'density' instead.\n",
      "  alternative=\"'density'\", removal=\"3.1\")\n",
      "/home/dbalwada/.conda/envs/pangeo/lib/python3.6/site-packages/matplotlib/axes/_axes.py:6499: MatplotlibDeprecationWarning: \n",
      "The 'normed' kwarg was deprecated in Matplotlib 2.1 and will be removed in 3.1. Use 'density' instead.\n",
      "  alternative=\"'density'\", removal=\"3.1\")\n"
     ]
    },
    {
     "data": {
      "image/png": "[encoded data removed]",
      "text/plain": [
       "<Figure size 648x324 with 2 Axes>"
      ]
     },
     "metadata": {
      "needs_background": "light"
     },
     "output_type": "display_data"
    }
   ],
   "source": [
    "plt.figure(figsize=(9,4.5))\n",
    "Lcoarse = 50e3\n",
    "\n",
    "plt.subplot(122)\n",
    "\n",
    "frb_fast[Lcoarse].errdiv.where(mask[Lcoarse]==1).plot.hist(bins=bins, normed=True,\n",
    "             histtype='step',edgecolor= 'g', linewidth=1, fill=False, label = '1 Year')\n",
    "frb_slow[Lcoarse].errdiv.where(mask[Lcoarse]==1).plot.hist(bins=bins, normed=True,\n",
    "             histtype='step',edgecolor= 'r', linewidth=1, fill=False, label = '6 Years')\n",
    "frb_corr[Lcoarse].errdiv.where(mask[Lcoarse]==1).plot.hist(bins=bins, normed=True,\n",
    "             histtype='step',edgecolor= 'b', linewidth=2, fill=False, label = 'Corrected')\n",
    "\n",
    "plt.xlim([0,2])\n",
    "plt.title(r'E($\\nabla.(\\mathbf{u}$b))')\n",
    "plt.xlabel('Error')\n",
    "plt.ylabel('PDF')\n",
    "\n",
    "plt.subplot(121)\n",
    "\n",
    "frb_fast[Lcoarse].errU.where(mask[Lcoarse]==1).plot.hist(bins=bins, normed=True,\n",
    "             histtype='step',edgecolor= 'g', linewidth=1, fill=False, label = '1 Year')\n",
    "frb_slow[Lcoarse].errU.where(mask[Lcoarse]==1).plot.hist(bins=bins, normed=True,\n",
    "             histtype='step',edgecolor= 'r', linewidth=1, fill=False, label = '6 Years')\n",
    "frb_corr[Lcoarse].errU.where(mask[Lcoarse]==1).plot.hist(bins=bins, normed=True,\n",
    "             histtype='step',edgecolor= 'b', linewidth=2, fill=False, label = 'Corrected')\n",
    "\n",
    "plt.xlim([0,2])\n",
    "plt.legend()\n",
    "plt.title(r'E(ub)')\n",
    "plt.xlabel('Error')\n",
    "plt.ylabel('PDF')\n",
    "plt.tight_layout()\n",
    "plt.savefig('fig2c.pdf', dpi=200,bbox_inches='tight')"
   ]
  },
  {
   "cell_type": "code",
   "execution_count": 137,
   "metadata": {},
   "outputs": [
    {
     "name": "stderr",
     "output_type": "stream",
     "text": [
      "/home/dbalwada/.conda/envs/pangeo/lib/python3.6/site-packages/matplotlib/figure.py:98: MatplotlibDeprecationWarning: \n",
      "Adding an axes using the same arguments as a previous axes currently reuses the earlier instance.  In a future version, a new instance will always be created and returned.  Meanwhile, this warning can be suppressed, and the future behavior ensured, by passing a unique label to each axes instance.\n",
      "  \"Adding an axes using the same arguments as a previous axes \"\n",
      "/home/dbalwada/.conda/envs/pangeo/lib/python3.6/site-packages/matplotlib/figure.py:98: MatplotlibDeprecationWarning: \n",
      "Adding an axes using the same arguments as a previous axes currently reuses the earlier instance.  In a future version, a new instance will always be created and returned.  Meanwhile, this warning can be suppressed, and the future behavior ensured, by passing a unique label to each axes instance.\n",
      "  \"Adding an axes using the same arguments as a previous axes \"\n",
      "/home/dbalwada/.conda/envs/pangeo/lib/python3.6/site-packages/matplotlib/figure.py:98: MatplotlibDeprecationWarning: \n",
      "Adding an axes using the same arguments as a previous axes currently reuses the earlier instance.  In a future version, a new instance will always be created and returned.  Meanwhile, this warning can be suppressed, and the future behavior ensured, by passing a unique label to each axes instance.\n",
      "  \"Adding an axes using the same arguments as a previous axes \"\n",
      "/home/dbalwada/.conda/envs/pangeo/lib/python3.6/site-packages/matplotlib/figure.py:98: MatplotlibDeprecationWarning: \n",
      "Adding an axes using the same arguments as a previous axes currently reuses the earlier instance.  In a future version, a new instance will always be created and returned.  Meanwhile, this warning can be suppressed, and the future behavior ensured, by passing a unique label to each axes instance.\n",
      "  \"Adding an axes using the same arguments as a previous axes \"\n",
      "/home/dbalwada/.conda/envs/pangeo/lib/python3.6/site-packages/matplotlib/figure.py:98: MatplotlibDeprecationWarning: \n",
      "Adding an axes using the same arguments as a previous axes currently reuses the earlier instance.  In a future version, a new instance will always be created and returned.  Meanwhile, this warning can be suppressed, and the future behavior ensured, by passing a unique label to each axes instance.\n",
      "  \"Adding an axes using the same arguments as a previous axes \"\n",
      "/home/dbalwada/.conda/envs/pangeo/lib/python3.6/site-packages/matplotlib/figure.py:98: MatplotlibDeprecationWarning: \n",
      "Adding an axes using the same arguments as a previous axes currently reuses the earlier instance.  In a future version, a new instance will always be created and returned.  Meanwhile, this warning can be suppressed, and the future behavior ensured, by passing a unique label to each axes instance.\n",
      "  \"Adding an axes using the same arguments as a previous axes \"\n",
      "/home/dbalwada/.conda/envs/pangeo/lib/python3.6/site-packages/matplotlib/figure.py:98: MatplotlibDeprecationWarning: \n",
      "Adding an axes using the same arguments as a previous axes currently reuses the earlier instance.  In a future version, a new instance will always be created and returned.  Meanwhile, this warning can be suppressed, and the future behavior ensured, by passing a unique label to each axes instance.\n",
      "  \"Adding an axes using the same arguments as a previous axes \"\n"
     ]
    },
    {
     "data": {
      "image/png": "[encoded data removed]",
      "text/plain": [
       "<Figure size 648x324 with 2 Axes>"
      ]
     },
     "metadata": {
      "needs_background": "light"
     },
     "output_type": "display_data"
    }
   ],
   "source": [
    "plt.figure(figsize=(9,4.5))\n",
    "n=0\n",
    "for Lcoarse in Lcoarselist:\n",
    "    plt.subplot(121)\n",
    "    frb_corr[Lcoarse].errdiv.where(mask[Lcoarse]==1).plot.hist(bins=bins, density=True,\n",
    "                         histtype='step',edgecolor= colors[n], linewidth=2, fill=False, label = str('%3.0f' %(Lcoarse/1e3))+'km')\n",
    "\n",
    "    plt.subplot(122)\n",
    "    frb_corr[Lcoarse].errU.where(mask[Lcoarse]==1).plot.hist(bins=bins, density=True,\n",
    "                         histtype='step',edgecolor= colors[n], linewidth=2, fill=False, label = str('%3.0f' %(Lcoarse/1e3))+'km')\n",
    "\n",
    "    n+=1\n",
    "    \n",
    "plt.subplot(121)\n",
    "plt.xlim([-0.2,2])\n",
    "plt.legend()\n",
    "plt.title(r'E($\\nabla.(\\mathbf{u}$b))')\n",
    "plt.xlabel('Error')\n",
    "plt.ylabel('PDF')\n",
    "\n",
    "plt.subplot(122)\n",
    "plt.xlim([-0.2,2])\n",
    "plt.title(r'E(ub))')\n",
    "plt.xlabel('Error')\n",
    "plt.ylabel('PDF')\n",
    "plt.tight_layout()\n"
   ]
  },
  {
   "cell_type": "code",
   "execution_count": 136,
   "metadata": {},
   "outputs": [
    {
     "data": {
      "image/png": "[encoded data removed]",
      "text/plain": [
       "<Figure size 324x324 with 1 Axes>"
      ]
     },
     "metadata": {
      "needs_background": "light"
     },
     "output_type": "display_data"
    }
   ],
   "source": [
    "for Lcoarse in Lcoarselist: \n",
    "    temp = frb_corr[Lcoarse]\n",
    "    hFacCcoarse = mask[Lcoarse]\n",
    "    \n",
    "    if Lcoarse == 25e3 :\n",
    "        \n",
    "        plt.plot(Lcoarse/1e3, temp.errU.where(hFacCcoarse==1.).median(['XCcoarse', 'YCcoarse','Z']),\n",
    "                 'rs', label='E(ub)')\n",
    "        plt.plot(Lcoarse/1e3, temp.errV.where(hFacCcoarse==1.).median(['XCcoarse', 'YCcoarse','Z']), 'kv', label='E(vb)')\n",
    "        plt.plot(Lcoarse/1e3, temp.errW.where(hFacCcoarse==1.).median(['XCcoarse', 'YCcoarse','Z']), 'bP', label='E(wb)')\n",
    "\n",
    "        plt.plot(Lcoarse/1e3, temp.errdiv.where(hFacCcoarse==1.).median(['XCcoarse', 'YCcoarse','Z']), 'rX', label=r'E($\\nabla.\\mathbf{u}$b)')\n",
    "        plt.plot(Lcoarse/1e3, temp.errdzflux.where(hFacCcoarse==1.).median(['XCcoarse', 'YCcoarse','Z']), 'bx', label=r'E($\\frac{d}{dz}\\mathbf{u}_H$b)')        \n",
    "#        plt.plot(Lcoarse/1e3, temp.errdivhor.where(hFacCcoarse==1.).median(['XCcoarse', 'YCcoarse','Z']), 'bx', label=r'E($\\nabla_H.\\mathbf{u}_H$b)')\n",
    "#        plt.plot(Lcoarse/1e3, temp.errdivver.where(hFacCcoarse==1.).median(['XCcoarse', 'YCcoarse','Z']), 'bh', label=r'E($\\nabla_z.\\mathbf{u}_z$b)')\n",
    "    else:\n",
    "        plt.plot(Lcoarse/1e3, temp.errU.where(hFacCcoarse==1.).median(['XCcoarse', 'YCcoarse','Z']), 'rs')\n",
    "        plt.plot(Lcoarse/1e3, temp.errV.where(hFacCcoarse==1.).median(['XCcoarse', 'YCcoarse','Z']), 'kv')\n",
    "        plt.plot(Lcoarse/1e3, temp.errW.where(hFacCcoarse==1.).median(['XCcoarse', 'YCcoarse','Z']), 'bP')\n",
    "\n",
    "        plt.plot(Lcoarse/1e3, temp.errdiv.where(hFacCcoarse==1.).median(['XCcoarse', 'YCcoarse','Z']), 'rX')\n",
    "        plt.plot(Lcoarse/1e3, temp.errdzflux.where(hFacCcoarse==1.).median(['XCcoarse', 'YCcoarse','Z']), 'bx')   \n",
    "#        plt.plot(Lcoarse/1e3, temp.errdivhor.where(hFacCcoarse==1.).median(['XCcoarse', 'YCcoarse','Z']), 'bx')   \n",
    "#        plt.plot(Lcoarse/1e3, temp.errdivver.where(hFacCcoarse==1.).median(['XCcoarse', 'YCcoarse','Z']), 'bh')\n",
    "        \n",
    "        \n",
    "plt.legend(loc='best')    \n",
    "plt.xlabel('Coarsening Scale (km)')\n",
    "plt.ylabel('Median of Error PDF')\n",
    "plt.title('Using all 10 tracers')\n",
    "plt.ylim([0,1])      \n",
    "plt.savefig('fig2b.pdf', dpi=200,bbox_inches='tight')"
   ]
  }
 ],
 "metadata": {
  "kernelspec": {
   "display_name": "Pangeo",
   "language": "python",
   "name": "pangeo"
  },
  "language_info": {
   "codemirror_mode": {
    "name": "ipython",
    "version": 3
   },
   "file_extension": ".py",
   "mimetype": "text/x-python",
   "name": "python",
   "nbconvert_exporter": "python",
   "pygments_lexer": "ipython3",
   "version": "3.6.6"
  }
 },
 "nbformat": 4,
 "nbformat_minor": 2
}
