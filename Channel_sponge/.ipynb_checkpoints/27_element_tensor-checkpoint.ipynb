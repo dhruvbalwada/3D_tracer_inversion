{
 "cells": [
  {
   "cell_type": "markdown",
   "metadata": {},
   "source": [
    "# The 27 Element Tensor \n",
    "\n",
    "The purpose of this notebook is to address the following problem in the 3D simulation: The eigenvalue of the symmetric tensor are negative. \n",
    "\n",
    "I think that this might be associated with variance transport. \n",
    "\n",
    "At the tensor level, it implies that the symmetric tensor is composed of two parts - the local irreversible diffusion and the non-local transport of dispersion. \n",
    "\n",
    "\n",
    "\\begin{equation} \n",
    "\\mathbf{S} =\\frac{1}{2}\\frac{\\partial}{\\partial t}\\overline{\\xi^i \\xi^j} + \\frac{1}{2}\\mathbf{U}. \\nabla \\overline{\\xi^i \\xi^j},\n",
    "\\end{equation}\n",
    "where $\\mathbf{K}= \\mathbf{S}+\\mathbf{A}$. \n",
    "\n",
    "We have the anticipation at that the first of these terms will be positive since locally particles usually disperse from each other in a homogeneous system. However, the second can be positive or negative. "
   ]
  },
  {
   "cell_type": "markdown",
   "metadata": {},
   "source": [
    "Since the second part of $\\mathbf{S}$ depends on the mean flow, which is known, we could attempt to solve the inverse problem to estimate both : $(\\overline{\\xi^i \\xi^j})_t$ and $(\\overline{\\xi^i \\xi^j})_{x_i}$. This makes the problem go from estimating 6 elements of sym tensor to 18 elements. "
   ]
  },
  {
   "cell_type": "markdown",
   "metadata": {},
   "source": [
    "The flux is now represented as \n",
    "\n",
    "\\begin{equation}\n",
    "\\overline{u_i c} = -[K_{ij}C_j + (J_{xj})_x u C_j + (J_{yj})_y v C_j + (J_{zj})_z wC_j]\n",
    "\\end{equation}"
   ]
  },
  {
   "cell_type": "markdown",
   "metadata": {},
   "source": [
    "We can write this as a least squares problem, and solve for the 27 unknowns!!"
   ]
  },
  {
   "cell_type": "code",
   "execution_count": 3,
   "metadata": {},
   "outputs": [],
   "source": [
    "import numpy as np\n",
    "import xarray as xr\n",
    "from funcs import *\n",
    "%matplotlib inline\n",
    "from matplotlib import pyplot as plt\n",
    "from mpl_toolkits.mplot3d import Axes3D\n",
    "from matplotlib import colors, ticker, cm\n",
    "from matplotlib.colors import LogNorm"
   ]
  },
  {
   "cell_type": "code",
   "execution_count": 4,
   "metadata": {},
   "outputs": [],
   "source": [
    "Lcoarse = 50e3"
   ]
  },
  {
   "cell_type": "code",
   "execution_count": 5,
   "metadata": {},
   "outputs": [],
   "source": [
    "Trac_coarse = xr.open_dataset('./outputs_ncfiles/Trac_coarse_'+str(int(Lcoarse//1e3))+'km')\n",
    "Vels_coarse = xr.open_dataset('./outputs_ncfiles/Vels_coarse_'+str(int(Lcoarse//1e3))+'km')\n",
    "T_coarse    = xr.open_dataset('./outputs_ncfiles/T_coarse_'+str(int(Lcoarse//1e3))+'km')\n",
    "diff_tensor = xr.open_dataset('./outputs_ncfiles/diff_tensor_'+str(int(Lcoarse//1e3))+'km.nc')\n",
    "diff_tensor_withKPP = xr.open_dataset('./outputs_ncfiles/diff_tensor_with_diff_'+str(int(Lcoarse//1e3))+'km.nc')\n",
    "\n",
    "list_trac = ['TRAC01', 'TRAC02', 'TRAC03', 'TRAC04', 'TRAC05', \n",
    "            'TRAC06', 'TRAC07', 'TRAC08', 'TRAC09', 'TRAC10', \n",
    "            'TRAC11', 'TRAC12', 'TRAC13', 'TRAC14', 'TRAC15', \n",
    "            'TRAC16', 'TRAC17', 'TRAC18', 'TRAC19', 'TRAC20']\n",
    "\n",
    "[UpCp, VpCp, WpCp] = get_flux_arrays(Trac_coarse, list_trac)\n",
    "[dCdx, dCdy, dCdz]= get_grad_arrays(Trac_coarse, list_trac)"
   ]
  },
  {
   "cell_type": "code",
   "execution_count": 7,
   "metadata": {},
   "outputs": [],
   "source": [
    "# Choose a location to do the analysis \n",
    "xloc= 1700e3\n",
    "yloc = 1000e3\n",
    "zloc =-300"
   ]
  },
  {
   "cell_type": "code",
   "execution_count": 8,
   "metadata": {},
   "outputs": [],
   "source": [
    "def calc_tensor_vec(uc,vc,wc, cx,cy,cz): \n",
    "    \n",
    "    bvec = np.concatenate((uc,vc,wc))\n",
    "    \n",
    "    grad = np.array([cx, cy, cz]).T\n",
    "    \n",
    "    E1vec = np.concatenate((grad, np.zeros_like(grad), np.zeros_like(grad)), axis=1)\n",
    "    E2vec = np.concatenate((np.zeros_like(grad), grad, np.zeros_like(grad)), axis=1)\n",
    "    E3vec = np.concatenate((np.zeros_like(grad), np.zeros_like(grad), grad), axis=1)\n",
    "    \n",
    "    Evec = np.concatenate((E1vec, E2vec, E3vec), axis=0)\n",
    "    \n",
    "    K = -pinv(Evec).dot(bvec)\n",
    "    \n",
    "    K = K.reshape((3,3))\n",
    "    return K"
   ]
  },
  {
   "cell_type": "code",
   "execution_count": 9,
   "metadata": {},
   "outputs": [
    {
     "data": {
      "text/plain": [
       "(-900, 0)"
      ]
     },
     "execution_count": 9,
     "metadata": {},
     "output_type": "execute_result"
    },
    {
     "data": {
      "image/png": "[encoded data removed]",
      "text/plain": [
       "<Figure size 864x288 with 2 Axes>"
      ]
     },
     "metadata": {
      "needs_background": "light"
     },
     "output_type": "display_data"
    }
   ],
   "source": [
    "# A plot of a region where we see large, systematic negative eigenvalues \n",
    "\n",
    "# Where are we in location? \n",
    "X = T_coarse.XCcoarse\n",
    "Y = T_coarse.YCcoarse\n",
    "Z = T_coarse.Z\n",
    "\n",
    "plt.figure(figsize=(12,4))\n",
    "\n",
    "plt.subplot(121)\n",
    "plt.plot(diff_tensor.eigvalsST.sel(XCcoarse=xloc, YCcoarse=yloc, method='nearest').isel(ii=1), Z)\n",
    "plt.plot(diff_tensor_withKPP.eigvalsST.sel(XCcoarse=xloc, YCcoarse=yloc, method='nearest').isel(ii=1), Z,'o')\n",
    "plt.grid()\n",
    "plt.ylabel('Z')\n",
    "# the different between with and without KPP is minor (order 0.002)\n",
    "\n",
    "plt.subplot(122)\n",
    "plt.contourf(Y, Z, T_coarse['T'].sel(XCcoarse=xloc, method='nearest'))\n",
    "plt.plot(yloc, zloc, 'X', color='r')\n",
    "plt.ylim([-900,0])"
   ]
  },
  {
   "cell_type": "code",
   "execution_count": 10,
   "metadata": {},
   "outputs": [],
   "source": [
    "# slow variables\n",
    "yuslow= UpCp.sel(Z=zloc, YCcoarse=yloc, XCcoarse=xloc, method='nearest').sel(tracer_num=slice(2,20,2))\n",
    "yvslow= VpCp.sel(Z=zloc, YCcoarse=yloc, XCcoarse=xloc, method='nearest').sel(tracer_num=slice(2,20,2))\n",
    "ywslow= WpCp.sel(Z=zloc, YCcoarse=yloc, XCcoarse=xloc, method='nearest').sel(tracer_num=slice(2,20,2))\n",
    "# the number in front of E is the column number \n",
    "E1slow = dCdx.sel(Z=zloc, YCcoarse=yloc, XCcoarse=xloc, method='nearest').sel(tracer_num=slice(2,20,2))\n",
    "E2slow = dCdy.sel(Z=zloc, YCcoarse=yloc, XCcoarse=xloc, method='nearest').sel(tracer_num=slice(2,20,2))\n",
    "E3slow = dCdz.sel(Z=zloc, YCcoarse=yloc, XCcoarse=xloc, method='nearest').sel(tracer_num=slice(2,20,2))"
   ]
  },
  {
   "cell_type": "code",
   "execution_count": 11,
   "metadata": {},
   "outputs": [],
   "source": [
    "Kslowvec_noweight = calc_tensor_vec(yuslow, yvslow, ywslow, E1slow, E2slow, E3slow)"
   ]
  },
  {
   "cell_type": "code",
   "execution_count": 12,
   "metadata": {},
   "outputs": [
    {
     "data": {
      "text/plain": [
       "array([[ 1.33975215e+04, -5.56610596e+03,  7.34970570e-02],\n",
       "       [-3.27138013e+03, -1.13545654e+02, -1.13894749e+00],\n",
       "       [-7.71770597e-01, -3.85859942e+00,  2.03111139e-03]], dtype=float32)"
      ]
     },
     "execution_count": 12,
     "metadata": {},
     "output_type": "execute_result"
    }
   ],
   "source": [
    "Kslowvec_noweight"
   ]
  },
  {
   "cell_type": "code",
   "execution_count": 15,
   "metadata": {},
   "outputs": [
    {
     "data": {
      "text/plain": [
       "<xarray.DataArray 'Kslow' (i: 3, j: 3)>\n",
       "array([[ 1.339478e+04, -5.565912e+03,  7.362650e-02],\n",
       "       [-3.271019e+03, -1.136487e+02, -1.138755e+00],\n",
       "       [-7.710190e-01, -3.858836e+00,  2.031260e-03]], dtype=float32)\n",
       "Coordinates:\n",
       "    Z            float32 -327.0\n",
       "    YCcoarse     float32 1025000.0\n",
       "    XCcoarse     float32 1725000.0\n",
       "    hFacCcoarse  float32 ...\n",
       "    PHrefC       float32 ...\n",
       "    drF          float32 ...\n",
       "Dimensions without coordinates: i, j"
      ]
     },
     "execution_count": 15,
     "metadata": {},
     "output_type": "execute_result"
    }
   ],
   "source": [
    "diff_tensor.Kslow.sel(Z=zloc, YCcoarse=yloc, XCcoarse=xloc, method='nearest')"
   ]
  },
  {
   "cell_type": "markdown",
   "metadata": {},
   "source": [
    "#### Check. \n",
    "That the estimate of the tensor using the vector form, and directly using the pinv gives the same result. "
   ]
  },
  {
   "cell_type": "code",
   "execution_count": 16,
   "metadata": {},
   "outputs": [],
   "source": [
    "uc = yuslow\n",
    "vc = yvslow\n",
    "wc = ywslow\n",
    "\n",
    "bvec = np.concatenate((uc, vc, wc))"
   ]
  },
  {
   "cell_type": "code",
   "execution_count": 33,
   "metadata": {},
   "outputs": [],
   "source": [
    "cx = E1slow.T\n",
    "cy = E2slow.T\n",
    "cz = E3slow.T\n",
    "\n",
    "Zeros = np.zeros_like(cx)"
   ]
  },
  {
   "cell_type": "code",
   "execution_count": 28,
   "metadata": {},
   "outputs": [],
   "source": [
    "U = Vels_coarse.U.sel(Z=zloc, YCcoarse=yloc, XCcoarse=xloc, method='nearest')\n",
    "V = Vels_coarse.V.sel(Z=zloc, YCcoarse=yloc, XCcoarse=xloc, method='nearest')\n",
    "W = Vels_coarse.W.sel(Z=zloc, YCcoarse=yloc, XCcoarse=xloc, method='nearest')"
   ]
  },
  {
   "cell_type": "code",
   "execution_count": 38,
   "metadata": {},
   "outputs": [],
   "source": [
    "E1vec = np.array([cx,cy,cz, Zeros, Zeros, Zeros,Zeros, Zeros, Zeros,\n",
    "                  U*cx, U*cy, U*cz, Zeros, Zeros, Zeros,\n",
    "                  V*cx, V*cy, V*cz, Zeros, Zeros, Zeros,\n",
    "                  W*cx, W*cy, W*cz, Zeros, Zeros, Zeros ])"
   ]
  },
  {
   "cell_type": "code",
   "execution_count": 40,
   "metadata": {},
   "outputs": [],
   "source": [
    "E2vec = np.array([Zeros, Zeros, Zeros, \n",
    "                  cx,cy,cz, \n",
    "                  Zeros, Zeros, Zeros, Zeros,\n",
    "                  U*cx, Zeros, U*cy, U*cz,\n",
    "                  Zeros, Zeros, \n",
    "                  V*cx, Zeros, V*cy, V*cz,\n",
    "                  Zeros, Zeros, \n",
    "                  W*cx, Zeros, W*cy, W*cz,\n",
    "                  Zeros])"
   ]
  },
  {
   "cell_type": "code",
   "execution_count": null,
   "metadata": {},
   "outputs": [],
   "source": [
    "E3vec = np.array([Zeros, Zeros, Zeros, Zeros, Zeros, Zeros, \n",
    "                  cx,cy,cz,\n",
    "                  Zeros, Zeros, \n",
    "                  ])"
   ]
  },
  {
   "cell_type": "code",
   "execution_count": 41,
   "metadata": {},
   "outputs": [
    {
     "data": {
      "text/plain": [
       "(27, 10)"
      ]
     },
     "execution_count": 41,
     "metadata": {},
     "output_type": "execute_result"
    }
   ],
   "source": [
    "E2vec.shape"
   ]
  },
  {
   "cell_type": "code",
   "execution_count": 37,
   "metadata": {},
   "outputs": [
    {
     "data": {
      "text/plain": [
       "(20,)"
      ]
     },
     "execution_count": 37,
     "metadata": {},
     "output_type": "execute_result"
    }
   ],
   "source": [
    "np.repeat(Zeros.T,2).shape"
   ]
  },
  {
   "cell_type": "code",
   "execution_count": null,
   "metadata": {},
   "outputs": [],
   "source": [
    "np.array([])"
   ]
  }
 ],
 "metadata": {
  "kernelspec": {
   "display_name": "Pangeo",
   "language": "python",
   "name": "pangeo"
  },
  "language_info": {
   "codemirror_mode": {
    "name": "ipython",
    "version": 3
   },
   "file_extension": ".py",
   "mimetype": "text/x-python",
   "name": "python",
   "nbconvert_exporter": "python",
   "pygments_lexer": "ipython3",
   "version": "3.6.7"
  }
 },
 "nbformat": 4,
 "nbformat_minor": 2
}
