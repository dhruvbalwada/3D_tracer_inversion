{
 "cells": [
  {
   "cell_type": "markdown",
   "metadata": {},
   "source": [
    "# Spatial averaging/ Coarse graining\n",
    "\n",
    "Here we do a coarse graining on the time averaged fields. "
   ]
  },
  {
   "cell_type": "code",
   "execution_count": 1,
   "metadata": {},
   "outputs": [],
   "source": [
    "# load modules\n",
    "\n",
    "import xarray as xr\n",
    "import numpy  as np\n",
    "from xgcm import Grid"
   ]
  },
  {
   "cell_type": "code",
   "execution_count": 2,
   "metadata": {},
   "outputs": [],
   "source": [
    "# Load time averages \n",
    "Model_Tav = xr.open_dataset('Model_Tav.nc')\n",
    "Trac_Tav  = xr.open_dataset('Trac_Tav.nc')"
   ]
  },
  {
   "cell_type": "code",
   "execution_count": 3,
   "metadata": {},
   "outputs": [],
   "source": [
    "grid = Grid(Model_Tav, periodic='X')"
   ]
  },
  {
   "cell_type": "code",
   "execution_count": 4,
   "metadata": {},
   "outputs": [],
   "source": [
    "list_tracers = ['TRAC01', 'TRAC02','TRAC03','TRAC04','TRAC05',\n",
    "                'TRAC06','TRAC07','TRAC08','TRAC09','TRAC10',\n",
    "                'TRAC11', 'TRAC12','TRAC13','TRAC14','TRAC15',\n",
    "                'TRAC16','TRAC17','TRAC18','TRAC19','TRAC20']\n",
    "\n",
    "vels = {'uVeltave':'U', 'vVeltave':'V', 'wVeltave':'W'}"
   ]
  },
  {
   "cell_type": "code",
   "execution_count": 5,
   "metadata": {},
   "outputs": [],
   "source": [
    "Lcoarse = 200e3 # needs to be a multiple of the domain size.\n",
    "idmax   = int( (Model_Tav.dyC[0,0].values * len(Model_Tav.YC))/Lcoarse) # numper of grid points to average over\n",
    "nreps   = int( len(Model_Tav.YC)/idmax )"
   ]
  },
  {
   "cell_type": "code",
   "execution_count": 6,
   "metadata": {},
   "outputs": [],
   "source": [
    "YCicoarse = np.repeat(range(idmax),nreps)\n",
    "XCicoarse = np.repeat(range(idmax),nreps)\n",
    "\n",
    "# Interpolate mean velocities to all be on same point.# Interp \n",
    "Model_Tav['WmeanC'] = grid.interp(Model_Tav.wVeltave, 'Z', boundary='extend')\n",
    "Model_Tav['VmeanC'] = grid.interp(Model_Tav.vVeltave, 'Y', boundary='extend')\n",
    "Model_Tav['UmeanC'] = grid.interp(Model_Tav.uVeltave, 'X')\n",
    "\n",
    "Model_Tav.coords['XCicoarse'] = ('XC', XCicoarse)\n",
    "Model_Tav.coords['YCicoarse'] = ('YC', YCicoarse)\n",
    "\n",
    "# coarse grain mean velocities\n",
    "\n",
    "Vels_coarse = xr.Dataset()\n",
    "\n",
    "for i in vels:\n",
    "    Vels_coarse[vels[i]] = (Model_Tav[vels[i]+'meanC'].groupby('YCicoarse').mean('YC')).groupby('XCicoarse').mean('XC')\n",
    "\n",
    "Vels_coarse.coords['YCcoarse'] = ('YCicoarse', Model_Tav.YC.groupby('YCicoarse').mean('YC'))\n",
    "Vels_coarse.coords['XCcoarse'] = ('XCicoarse', Model_Tav.XC.groupby('XCicoarse').mean('XC'))"
   ]
  },
  {
   "cell_type": "code",
   "execution_count": 7,
   "metadata": {},
   "outputs": [],
   "source": [
    "# Move eddy fluxes to center point\n",
    "\n",
    "for key in list_tracers: \n",
    "        Trac_Tav['V'+key] = grid.interp(Trac_Tav['V'+key], 'Y', boundary='extend')\n",
    "        Trac_Tav['U'+key] = grid.interp(Trac_Tav['U'+key], 'X')\n",
    "        \n",
    "# create coarse grained version of fluxes and mean tracers# create \n",
    "\n",
    "Trac_Tav.coords['YCicoarse'] = ('YC', YCicoarse)\n",
    "Trac_Tav.coords['XCicoarse'] = ('XC', XCicoarse)\n",
    "\n",
    "Trac_coarse = (Trac_Tav.groupby('YCicoarse').mean('YC')).groupby('XCicoarse').mean('XC')\n",
    "\n",
    "Trac_coarse.coords['Ycoarse'] = ('YCicoarse', Trac_Tav.YC.groupby('YCicoarse').mean('YC'))\n",
    "Trac_coarse.coords['Xcoarse'] = ('XCicoarse', Trac_Tav.XC.groupby('XCicoarse').mean('XC'))\n",
    "\n",
    "# flux datasets \n",
    "\n",
    "for i in list_tracers: \n",
    "    Trac_coarse['Up'+i+'p'] = Trac_coarse['U'+i] - Vels_coarse['U'] * Trac_coarse[i]    \n",
    "    Trac_coarse['Vp'+i+'p'] = Trac_coarse['V'+i] - Vels_coarse['V'] * Trac_coarse[i]\n",
    "    Trac_coarse['Wp'+i+'p'] = Trac_coarse['W'+i] - Vels_coarse['W'] * Trac_coarse[i]"
   ]
  },
  {
   "cell_type": "code",
   "execution_count": 8,
   "metadata": {},
   "outputs": [],
   "source": [
    "# To calculate the tracer gradients we need a staggered coordinate\n",
    "\n",
    "# make staggered coordinates\n",
    "temp = np.repeat(idmax, nreps/2)\n",
    "temp2 = np.repeat(idmax-1, nreps/2)\n",
    "YSicoarse = np.concatenate([YCicoarse[int(nreps/2):], temp])\n",
    "XSicoarse = np.concatenate([temp2, XCicoarse[:-int(nreps/2)]])\n",
    "\n",
    "trac_stag = xr.Dataset()\n",
    "\n",
    "for i in list_tracers: \n",
    "    trac_stag[i] = Trac_Tav[i]\n",
    "    \n",
    "trac_stag.coords['XSicoarse'] = ('XC', XSicoarse)\n",
    "trac_stag.coords['YSicoarse'] = ('YC', YSicoarse)\n",
    "\n",
    "# Z grads (don't need staggered grid)\n",
    "\n",
    "for i in list_tracers:\n",
    "    Trac_coarse[i+'_Z'] = -grid.diff(grid.interp(Trac_coarse[i], 'Z', boundary='extend'),\n",
    "                                    'Z', boundary='extend')/Trac_coarse.drF\n",
    "    \n",
    "# Y gradient\n",
    "# only average in Y direction on staggered points to take Y average. \n",
    "# average in X direction is on center points\n",
    "\n",
    "tracsav_stag = (trac_stag.groupby('YSicoarse').mean('YC')).groupby('XCicoarse').mean('XC')\n",
    "\n",
    "for i in list_tracers:\n",
    "    temp = tracsav_stag[i].diff('YSicoarse')/Lcoarse\n",
    "    # dy on the end points in Y direction are not full size\n",
    "    temp[:,0,:] = temp[:,0,:] * 4/3\n",
    "    temp[:,-1,:] = temp[:,-1,:] * 4/3 \n",
    "    \n",
    "    temp = xr.DataArray(temp.data, dims=['XCicoarse', 'YCicoarse', 'Z'],\n",
    "                       coords=[Trac_coarse.XCicoarse, Trac_coarse.YCicoarse, Trac_coarse.Z])\n",
    "    \n",
    "    Trac_coarse[i+'_Y'] = temp\n",
    "    \n",
    "# X grads \n",
    "# only averate in X direction on center points\n",
    "\n",
    "tracsav_stag = (trac_stag.groupby('YCicoarse').mean('YC')).groupby('XSicoarse').mean('XC')\n",
    "\n",
    "for i in list_tracers:\n",
    "    temp = (tracsav_stag[i].data - np.roll(tracsav_stag[i].data,1,axis=0))/Lcoarse\n",
    "    temp = xr.DataArray(temp.data, dims=['XCicoarse', 'YCicoarse', 'Z'],\n",
    "                       coords=[Trac_coarse.XCicoarse, Trac_coarse.YCicoarse, Trac_coarse.Z])\n",
    "        \n",
    "    Trac_coarse[i+'_X'] = temp    "
   ]
  },
  {
   "cell_type": "code",
   "execution_count": 9,
   "metadata": {},
   "outputs": [],
   "source": [
    "Trac_coarse.to_netcdf('Trac_coarse_'+str(int(Lcoarse//1e3))+'km')\n",
    "Vels_coarse.to_netcdf('Vels_coarse_'+str(int(Lcoarse//1e3))+'km')"
   ]
  }
 ],
 "metadata": {
  "kernelspec": {
   "display_name": "Pangeo",
   "language": "python",
   "name": "pangeo"
  },
  "language_info": {
   "codemirror_mode": {
    "name": "ipython",
    "version": 3
   },
   "file_extension": ".py",
   "mimetype": "text/x-python",
   "name": "python",
   "nbconvert_exporter": "python",
   "pygments_lexer": "ipython3",
   "version": "3.6.6"
  }
 },
 "nbformat": 4,
 "nbformat_minor": 2
}
