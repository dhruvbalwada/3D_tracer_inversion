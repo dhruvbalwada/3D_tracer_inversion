{
 "cells": [
  {
   "cell_type": "markdown",
   "metadata": {},
   "source": [
    "# Spatial averaging/ Coarse graining\n",
    "\n",
    "Here we do a coarse graining on the time averaged fields. "
   ]
  },
  {
   "cell_type": "code",
   "execution_count": 1,
   "metadata": {},
   "outputs": [],
   "source": [
    "# load modules\n",
    "import xarray as xr\n",
    "import numpy  as np\n",
    "from xgcm import Grid\n",
    "%matplotlib inline"
   ]
  },
  {
   "cell_type": "code",
   "execution_count": 2,
   "metadata": {},
   "outputs": [],
   "source": [
    "# Load time averages \n",
    "Model_Tav = xr.open_dataset('./outputs_ncfiles/Model_Tav.nc')\n",
    "Trac_Tav  = xr.open_dataset('./outputs_ncfiles/Trac_Tav.nc')"
   ]
  },
  {
   "cell_type": "code",
   "execution_count": 3,
   "metadata": {},
   "outputs": [],
   "source": [
    "grid = Grid(Model_Tav, periodic='X')"
   ]
  },
  {
   "cell_type": "code",
   "execution_count": 4,
   "metadata": {},
   "outputs": [],
   "source": [
    "list_tracers = ['TRAC01', 'TRAC02','TRAC03','TRAC04','TRAC05',\n",
    "                'TRAC06','TRAC07','TRAC08','TRAC09','TRAC10',\n",
    "                'TRAC11', 'TRAC12','TRAC13','TRAC14','TRAC15',\n",
    "                'TRAC16','TRAC17','TRAC18','TRAC19','TRAC20']\n",
    "\n",
    "list_tracers2 = ['Tr01', 'Tr02','Tr03','Tr04','Tr05',\n",
    "                'Tr06','Tr07','Tr08','Tr09','Tr10',\n",
    "                'Tr11', 'Tr12','Tr13','Tr14','Tr15',\n",
    "                'Tr16','Tr17','Tr18','Tr19','Tr20']\n",
    "\n",
    "vels = {'uVeltave':'U', 'vVeltave':'V', 'wVeltave':'W'}"
   ]
  },
  {
   "cell_type": "code",
   "execution_count": 5,
   "metadata": {},
   "outputs": [],
   "source": [
    "Lcoarse = 50e3 # needs to be a multiple of the domain size.\n",
    "idmax   = int( (Model_Tav.dyC[0,0].values * len(Model_Tav.YC))/Lcoarse) # numper of grid points to average over\n",
    "nreps   = int( len(Model_Tav.YC)/idmax )"
   ]
  },
  {
   "cell_type": "code",
   "execution_count": 6,
   "metadata": {},
   "outputs": [],
   "source": [
    "# Coarse grain velocities \n",
    "\n",
    "YCicoarse = np.repeat(range(idmax),nreps)\n",
    "XCicoarse = np.repeat(range(idmax),nreps)\n",
    "\n",
    "# Interpolate mean velocities to all be on same point.# Interp \n",
    "Model_Tav['WmeanC'] = grid.interp(Model_Tav.wVeltave, 'Z', boundary='extend')\n",
    "Model_Tav['VmeanC'] = grid.interp(Model_Tav.vVeltave, 'Y', boundary='extend')\n",
    "Model_Tav['UmeanC'] = grid.interp(Model_Tav.uVeltave, 'X')\n",
    "\n",
    "Model_Tav.coords['XCicoarse'] = ('XC', XCicoarse)\n",
    "Model_Tav.coords['YCicoarse'] = ('YC', YCicoarse)\n",
    "\n",
    "\n",
    "YCcoarse = ('YCicoarse', Model_Tav.YC.groupby('YCicoarse').mean('YC'))\n",
    "XCcoarse = ('XCicoarse', Model_Tav.XC.groupby('XCicoarse').mean('XC'))\n",
    "\n",
    "# coarse grain mean velocities\n",
    "\n",
    "Vels_coarse = xr.Dataset()\n",
    "\n",
    "for i in vels:\n",
    "    temp = (Model_Tav[vels[i]+'meanC'].groupby('YCicoarse').mean('YC')).groupby('XCicoarse').mean('XC')\n",
    "    \n",
    "    temp_array = xr.DataArray(temp.data, coords = [temp.Z, YCcoarse, XCcoarse], \n",
    "                             dims = ['Z', 'YCcoarse', 'XCcoarse'])\n",
    "    \n",
    "    Vels_coarse[vels[i]] = temp_array\n",
    "    \n",
    "hFacCcoarse = ((Model_Tav.hFacC.groupby('YCicoarse').mean('YC')).groupby('XCicoarse').mean('XC'))\n",
    "\n",
    "Vels_coarse.coords['hFacCcoarse'] = (['Z', 'YCcoarse', 'XCcoarse'], hFacCcoarse)"
   ]
  },
  {
   "cell_type": "code",
   "execution_count": 12,
   "metadata": {},
   "outputs": [],
   "source": [
    "# shear calculations \n",
    "\n",
    "Uy = grid.diff(Model_Tav.uVeltave, 'Y', boundary='extend')/5e3\n",
    "Vx = grid.diff(Model_Tav.vVeltave, 'X')/5e3\n",
    "\n",
    "shear = grid.interp(grid.interp(Uy**2 + Vx**2, 'X'), 'Y', boundary='extend')"
   ]
  },
  {
   "cell_type": "code",
   "execution_count": 16,
   "metadata": {},
   "outputs": [],
   "source": [
    "Model_Tav['Shear'] = shear \n",
    "\n",
    "temp = (Model_Tav['Shear'].groupby('YCicoarse').mean('YC')).groupby('XCicoarse').mean('XC')\n",
    "\n",
    "Vels_coarse['Shear'] = temp"
   ]
  },
  {
   "cell_type": "code",
   "execution_count": 17,
   "metadata": {},
   "outputs": [
    {
     "data": {
      "text/plain": [
       "<xarray.Dataset>\n",
       "Dimensions:      (XCcoarse: 40, XCicoarse: 40, YCcoarse: 40, YCicoarse: 40, Z: 40)\n",
       "Coordinates:\n",
       "  * Z            (Z) float32 -5.0 -15.0 -25.0 -36.0 ... -2727.5 -2830.5 -2933.5\n",
       "  * YCcoarse     (YCcoarse) float32 25000.0 75000.0 ... 1925000.0 1975000.0\n",
       "  * XCcoarse     (XCcoarse) float32 25000.0 75000.0 ... 1925000.0 1975000.0\n",
       "    hFacCcoarse  (Z, YCcoarse, XCcoarse) float32 0.9 0.9 0.9 0.9 ... 1.0 1.0 1.0\n",
       "    drF          (Z) float32 ...\n",
       "    PHrefC       (Z) float32 ...\n",
       "  * YCicoarse    (YCicoarse) int64 0 1 2 3 4 5 6 7 8 ... 32 33 34 35 36 37 38 39\n",
       "  * XCicoarse    (XCicoarse) int64 0 1 2 3 4 5 6 7 8 ... 32 33 34 35 36 37 38 39\n",
       "Data variables:\n",
       "    U            (Z, YCcoarse, XCcoarse) float32 -0.08862262 ... 0.011916479\n",
       "    V            (Z, YCcoarse, XCcoarse) float32 0.0016770303 ... -0.0035816599\n",
       "    W            (Z, YCcoarse, XCcoarse) float32 5.699926e-07 ... -1.653045e-06\n",
       "    Shear        (Z, YCicoarse, XCicoarse) float32 4.8104336e-11 ... 4.5824464e-12"
      ]
     },
     "execution_count": 17,
     "metadata": {},
     "output_type": "execute_result"
    }
   ],
   "source": [
    "Vels_coarse"
   ]
  },
  {
   "cell_type": "code",
   "execution_count": null,
   "metadata": {},
   "outputs": [],
   "source": []
  },
  {
   "cell_type": "code",
   "execution_count": 7,
   "metadata": {},
   "outputs": [],
   "source": [
    "# Move eddy fluxes to center point\n",
    "for key in list_tracers2: \n",
    "    Trac_Tav['DFrI'+key] = grid.interp(Trac_Tav['DFrI'+key],'Z', boundary='extend')\n",
    "    \n",
    "for key in list_tracers: \n",
    "        Trac_Tav['V'+key] = grid.interp(Trac_Tav['V'+key], 'Y', boundary='extend')\n",
    "        Trac_Tav['U'+key] = grid.interp(Trac_Tav['U'+key], 'X')\n",
    "        \n",
    "# create coarse grained version of fluxes and mean tracers# create \n",
    "\n",
    "Trac_Tav.coords['YCicoarse'] = ('YC', YCicoarse)\n",
    "Trac_Tav.coords['XCicoarse'] = ('XC', XCicoarse)\n",
    "\n",
    "YCcoarse = ('YCicoarse', Trac_Tav.YC.groupby('YCicoarse').mean('YC'))\n",
    "XCcoarse = ('XCicoarse', Trac_Tav.XC.groupby('XCicoarse').mean('XC'))"
   ]
  },
  {
   "cell_type": "code",
   "execution_count": 8,
   "metadata": {},
   "outputs": [],
   "source": [
    "Trac_coarse = xr.Dataset()\n",
    "\n",
    "for i in Trac_Tav.data_vars:\n",
    "    temp_var = (Trac_Tav[i].groupby('YCicoarse').mean('YC')).groupby('XCicoarse').mean('XC')\n",
    "    temp = xr.DataArray(temp_var.data, coords = [temp_var.Z, YCcoarse, XCcoarse], \n",
    "                             dims = ['Z', 'YCcoarse', 'XCcoarse'] )\n",
    "    Trac_coarse[i] = temp"
   ]
  },
  {
   "cell_type": "code",
   "execution_count": 9,
   "metadata": {},
   "outputs": [],
   "source": [
    "# flux datasets \n",
    "\n",
    "for i in list_tracers: \n",
    "    Trac_coarse['Up'+i+'p'] = Trac_coarse['U'+i] - Vels_coarse['U'] * Trac_coarse[i]    \n",
    "    Trac_coarse['Vp'+i+'p'] = Trac_coarse['V'+i] - Vels_coarse['V'] * Trac_coarse[i]\n",
    "    Trac_coarse['Wp'+i+'p'] = Trac_coarse['W'+i] - Vels_coarse['W'] * Trac_coarse[i]"
   ]
  },
  {
   "cell_type": "code",
   "execution_count": 10,
   "metadata": {},
   "outputs": [],
   "source": [
    "Trac_coarse.coords['drF'] = Trac_Tav.drF\n",
    "Trac_coarse.coords['hFacCcoarse'] = (['Z', 'YCcoarse', 'XCcoarse'], hFacCcoarse)"
   ]
  },
  {
   "cell_type": "code",
   "execution_count": 11,
   "metadata": {},
   "outputs": [],
   "source": [
    "# Calculate gradients \n",
    "\n",
    "# Z grads (don't need staggered grid)\n",
    "for i in list_tracers:\n",
    "    Trac_coarse[i+'_Z'] = -grid.diff(grid.interp(Trac_coarse[i], 'Z', boundary='extend'),\n",
    "                                    'Z', boundary='extend')/Trac_coarse.drF"
   ]
  },
  {
   "cell_type": "code",
   "execution_count": 12,
   "metadata": {},
   "outputs": [],
   "source": [
    "# To calculate the tracer gradients we need a staggered coordinate\n",
    "\n",
    "# make staggered coordinates\n",
    "temp = np.repeat(idmax, nreps/2)\n",
    "temp2 = np.repeat(idmax-1, nreps/2)\n",
    "YSicoarse = np.concatenate([YCicoarse[int(nreps/2):], temp])\n",
    "XSicoarse = np.concatenate([temp2, XCicoarse[:-int(nreps/2)]])\n",
    "\n",
    "trac_stag = xr.Dataset()\n",
    "\n",
    "for i in list_tracers: \n",
    "    trac_stag[i] = Trac_Tav[i]\n",
    "    \n",
    "trac_stag.coords['XSicoarse'] = ('XC', XSicoarse)\n",
    "trac_stag.coords['YSicoarse'] = ('YC', YSicoarse)"
   ]
  },
  {
   "cell_type": "code",
   "execution_count": 13,
   "metadata": {},
   "outputs": [],
   "source": [
    "# Y gradient\n",
    "# only average in Y direction on staggered points to take Y average. \n",
    "# average in X direction is on center points\n",
    "tracsav_stag = xr.Dataset()\n",
    "for i in list_tracers:\n",
    "    tracsav_stag[i] = (trac_stag[i].groupby('YSicoarse').mean('YC')).groupby('XCicoarse').mean('XC')\n",
    "    \n",
    "for i in list_tracers:\n",
    "    temp = tracsav_stag[i].diff('YSicoarse')/Lcoarse\n",
    "    # dy on the end points in Y direction are not full size\n",
    "    temp[:,0,:] = temp[:,0,:] * 4/3\n",
    "    temp[:,-1,:] = temp[:,-1,:] * 4/3 \n",
    "    \n",
    "    temp = xr.DataArray(temp.data, coords=[Trac_coarse.Z, Trac_coarse.YCcoarse, Trac_coarse.XCcoarse, ], \n",
    "                       dims=['Z', 'YCcoarse', 'XCcoarse'])\n",
    "    Trac_coarse[i+'_Y'] = temp\n",
    "    "
   ]
  },
  {
   "cell_type": "code",
   "execution_count": 14,
   "metadata": {},
   "outputs": [],
   "source": [
    "# X grads \n",
    "# only averate in X direction on center points\n",
    "tracsav_stag = xr.Dataset()\n",
    "for i in list_tracers:\n",
    "    tracsav_stag[i] = (trac_stag[i].groupby('YCicoarse').mean('YC')).groupby('XSicoarse').mean('XC')\n",
    "\n",
    "for i in list_tracers:\n",
    "    \n",
    "    temp = (tracsav_stag[i].data - np.roll(tracsav_stag[i].data,1,axis=2))/Lcoarse\n",
    "    \n",
    "    temp = xr.DataArray(temp.data, coords=[Trac_coarse.Z, Trac_coarse.YCcoarse, Trac_coarse.XCcoarse, ], \n",
    "                       dims=['Z', 'YCcoarse', 'XCcoarse'])\n",
    "        \n",
    "    Trac_coarse[i+'_X'] = temp    "
   ]
  },
  {
   "cell_type": "code",
   "execution_count": 15,
   "metadata": {},
   "outputs": [],
   "source": [
    "Trac_coarse.to_netcdf('outputs_ncfiles/Trac_coarse_'+str(int(Lcoarse//1e3))+'km.nc')\n"
   ]
  },
  {
   "cell_type": "code",
   "execution_count": 18,
   "metadata": {},
   "outputs": [],
   "source": [
    "Vels_coarse.to_netcdf('outputs_ncfiles/Vels_coarse_'+str(int(Lcoarse//1e3))+'km.nc')"
   ]
  },
  {
   "cell_type": "markdown",
   "metadata": {},
   "source": [
    "## Spatial Averaging the Temperature Fields"
   ]
  },
  {
   "cell_type": "code",
   "execution_count": 16,
   "metadata": {},
   "outputs": [],
   "source": [
    "# Temperature fields\n",
    "\n",
    "Tmean = Model_Tav.Ttave\n",
    "Tmean.coords['YCicoarse'] = ('YC', YCicoarse)\n",
    "Tmean.coords['XCicoarse'] = ('XC', XCicoarse)\n",
    "\n",
    "T_coarse = xr.Dataset()\n",
    "\n",
    "YCcoarse = ('YCicoarse', Tmean.YC.groupby('YCicoarse').mean('YC'))\n",
    "XCcoarse = ('XCicoarse', Tmean.XC.groupby('XCicoarse').mean('XC'))\n",
    "# coarse grain mean velocities\n",
    "\n",
    "\n",
    "temp = (Tmean.groupby('YCicoarse').mean('YC')).groupby('XCicoarse').mean('XC')\n",
    "    \n",
    "temp_array = xr.DataArray(temp.data, coords = [temp.Z, YCcoarse, XCcoarse], \n",
    "                            dims = ['Z', 'YCcoarse', 'XCcoarse'])\n",
    "    \n",
    "T_coarse['T'] = temp_array"
   ]
  },
  {
   "cell_type": "code",
   "execution_count": 17,
   "metadata": {},
   "outputs": [],
   "source": [
    "T_coarse.coords['hFacCcoarse'] = (['Z', 'YCcoarse', 'XCcoarse'], hFacCcoarse)"
   ]
  },
  {
   "cell_type": "code",
   "execution_count": 18,
   "metadata": {},
   "outputs": [],
   "source": [
    "# Z grads\n",
    "T_coarse['T_Z'] = -grid.diff(grid.interp(T_coarse['T'], 'Z', boundary='extend'),\n",
    "                                    'Z', boundary='extend')/Tmean.drF"
   ]
  },
  {
   "cell_type": "code",
   "execution_count": 19,
   "metadata": {},
   "outputs": [],
   "source": [
    "Tstag = Tmean\n",
    "Tstag.coords['YSicoarse'] = ('YC', YSicoarse)\n",
    "Tstag.coords['XSicoarse'] = ('XC', XSicoarse)\n",
    "\n",
    "# Y grads \n",
    "Tstag_sav = (Tstag.groupby('YSicoarse').mean('YC')).groupby('XCicoarse').mean('XC')\n",
    "\n",
    "temp = Tstag_sav.diff('YSicoarse')/Lcoarse\n",
    "temp[:,0,:] = temp[:,0,:] * 4/3\n",
    "temp[:,-1,:] = temp[:,-1,:] * 4/3   \n",
    "    \n",
    "temp = xr.DataArray(temp.data, dims=['Z', 'YCcoarse', 'XCcoarse'],\n",
    "                    coords=[ T_coarse.Z, T_coarse.YCcoarse,T_coarse.XCcoarse])\n",
    "    \n",
    "T_coarse['T_Y'] = temp"
   ]
  },
  {
   "cell_type": "code",
   "execution_count": 20,
   "metadata": {},
   "outputs": [],
   "source": [
    "# X grads \n",
    "# only averate in X direction on center points\n",
    "Tstag_sav = (Tstag.groupby('YCicoarse').mean('YC')).groupby('XSicoarse').mean('XC')\n",
    "\n",
    "temp = (Tstag_sav.data - np.roll(Tstag_sav.data,1,axis=2))/Lcoarse\n",
    "temp = xr.DataArray(temp.data, dims=['Z', 'YCcoarse', 'XCcoarse'],\n",
    "                    coords=[T_coarse.Z ,T_coarse.YCcoarse, T_coarse.XCcoarse])\n",
    "        \n",
    "T_coarse['T_X'] = temp"
   ]
  },
  {
   "cell_type": "code",
   "execution_count": 21,
   "metadata": {},
   "outputs": [
    {
     "data": {
      "text/plain": [
       "<xarray.Dataset>\n",
       "Dimensions:              (XC: 400, XG: 400, YC: 400, YG: 400, Z: 40, Zl: 40, Zp1: 41, Zu: 40, layer_1TH_bounds: 43, layer_1TH_center: 42, layer_1TH_interface: 41)\n",
       "Coordinates:\n",
       "  * XC                   (XC) float32 2500.0 7500.0 ... 1992500.0 1997500.0\n",
       "  * YC                   (YC) float32 2500.0 7500.0 ... 1992500.0 1997500.0\n",
       "  * XG                   (XG) float32 0.0 5000.0 10000.0 ... 1990000.0 1995000.0\n",
       "  * YG                   (YG) float32 0.0 5000.0 10000.0 ... 1990000.0 1995000.0\n",
       "  * Z                    (Z) float32 -5.0 -15.0 -25.0 ... -2830.5 -2933.5\n",
       "  * Zp1                  (Zp1) float32 0.0 -10.0 -20.0 ... -2882.0 -2985.0\n",
       "  * Zu                   (Zu) float32 -10.0 -20.0 -30.0 ... -2882.0 -2985.0\n",
       "  * Zl                   (Zl) float32 0.0 -10.0 -20.0 ... -2779.0 -2882.0\n",
       "    rA                   (YC, XC) float32 ...\n",
       "    dxG                  (YG, XC) float32 ...\n",
       "    dyG                  (YC, XG) float32 ...\n",
       "    Depth                (YC, XC) float32 ...\n",
       "    rAz                  (YG, XG) float32 ...\n",
       "    dxC                  (YC, XG) float32 ...\n",
       "    dyC                  (YG, XC) float32 ...\n",
       "    rAw                  (YC, XG) float32 ...\n",
       "    rAs                  (YG, XC) float32 ...\n",
       "    drC                  (Zp1) float32 ...\n",
       "    drF                  (Z) float32 ...\n",
       "    PHrefC               (Z) float32 ...\n",
       "    PHrefF               (Zp1) float32 ...\n",
       "    hFacC                (Z, YC, XC) float32 ...\n",
       "    hFacW                (Z, YC, XG) float32 ...\n",
       "    hFacS                (Z, YG, XC) float32 ...\n",
       "  * layer_1TH_bounds     (layer_1TH_bounds) float32 -0.2 0.0 0.2 ... 7.8 8.0 8.2\n",
       "  * layer_1TH_center     (layer_1TH_center) float32 -0.1 0.1 0.3 ... 7.7 7.9 8.1\n",
       "  * layer_1TH_interface  (layer_1TH_interface) float32 0.0 0.2 0.4 ... 7.8 8.0\n",
       "    XCicoarse            (XC) int64 0 0 0 0 0 0 0 0 ... 39 39 39 39 39 39 39 39\n",
       "    YCicoarse            (YC) int64 0 0 0 0 0 0 0 0 ... 39 39 39 39 39 39 39 39\n",
       "Data variables:\n",
       "    UVtave               (Z, YG, XG) float32 ...\n",
       "    TTtave               (Z, YC, XC) float32 ...\n",
       "    VTtave               (Z, YG, XC) float32 ...\n",
       "    WTtave               (Zl, YC, XC) float32 ...\n",
       "    vVeltave             (Z, YG, XC) float32 0.0 0.0 ... -0.0013772323\n",
       "    wVeltave             (Zl, YC, XC) float32 0.0 0.0 ... -2.3903782e-05\n",
       "    Ttave                (Z, YC, XC) float32 ...\n",
       "    UTtave               (Z, YC, XG) float32 ...\n",
       "    ETAtave              (YC, XC) float32 ...\n",
       "    VVtave               (Z, YG, XC) float32 ...\n",
       "    UUtave               (Z, YC, XG) float32 ...\n",
       "    uVeltave             (Z, YC, XG) float32 0.0 0.0 ... -0.015223471\n",
       "    WmeanC               (Z, YC, XC) float32 0.0 0.0 ... -2.3903782e-05\n",
       "    VmeanC               (Z, YC, XC) float32 0.0 0.0 ... -0.0013772323\n",
       "    UmeanC               (Z, YC, XC) float32 0.0 0.0 ... -0.015331898"
      ]
     },
     "execution_count": 21,
     "metadata": {},
     "output_type": "execute_result"
    }
   ],
   "source": [
    "Model_Tav"
   ]
  },
  {
   "cell_type": "code",
   "execution_count": 22,
   "metadata": {},
   "outputs": [],
   "source": [
    "Model_Tav['UTtave'] = grid.interp(Model_Tav.UTtave, 'X')\n",
    "Model_Tav['VTtave'] = grid.interp(Model_Tav.VTtave, 'Y', boundary='extend')\n",
    "Model_Tav['WTtave'] = grid.interp(Model_Tav.WTtave, 'Z', boundary='extend')\n",
    "\n",
    "Model_Tav.coords['YCicoarse'] = ('YC', YCicoarse)\n",
    "Model_Tav.coords['XCicoarse'] = ('XC', XCicoarse)\n",
    "\n",
    "for i in ['UT','VT','WT','TT']: \n",
    "    temp = (Model_Tav[i+'tave'].groupby('YCicoarse').mean('YC')).groupby('XCicoarse').mean('XC') \n",
    "    temp = xr.DataArray(temp.data, dims=['Z', 'YCcoarse', 'XCcoarse'],\n",
    "                    coords=[T_coarse.Z ,T_coarse.YCcoarse, T_coarse.XCcoarse])\n",
    "    T_coarse[i] = temp\n",
    "    \n",
    "T_coarse['UpTp'] = T_coarse['UT'] - Vels_coarse['U'] *T_coarse['T']\n",
    "T_coarse['VpTp'] = T_coarse['VT'] - Vels_coarse['V'] *T_coarse['T']\n",
    "T_coarse['WpTp'] = T_coarse['WT'] - Vels_coarse['W'] *T_coarse['T']\n",
    "T_coarse['TpTp'] = T_coarse['TT'] - T_coarse['T']**2"
   ]
  },
  {
   "cell_type": "code",
   "execution_count": 23,
   "metadata": {},
   "outputs": [
    {
     "data": {
      "text/plain": [
       "<xarray.Dataset>\n",
       "Dimensions:      (XCcoarse: 40, YCcoarse: 40, Z: 40)\n",
       "Coordinates:\n",
       "  * Z            (Z) float32 -5.0 -15.0 -25.0 -36.0 ... -2727.5 -2830.5 -2933.5\n",
       "  * YCcoarse     (YCcoarse) float32 25000.0 75000.0 ... 1925000.0 1975000.0\n",
       "  * XCcoarse     (XCcoarse) float32 25000.0 75000.0 ... 1925000.0 1975000.0\n",
       "    hFacCcoarse  (Z, YCcoarse, XCcoarse) float32 0.9 0.9 0.9 0.9 ... 1.0 1.0 1.0\n",
       "    drF          (Z) float32 ...\n",
       "    PHrefC       (Z) float32 ...\n",
       "Data variables:\n",
       "    T            (Z, YCcoarse, XCcoarse) float32 1.5441839 ... -0.03519777\n",
       "    T_Z          (Z, YCcoarse, XCcoarse) float32 -9.644032e-06 ... -0.0\n",
       "    T_Y          (Z, YCcoarse, XCcoarse) float32 1.0436083e-05 ... 1.0691871e-07\n",
       "    T_X          (Z, YCcoarse, XCcoarse) float32 4.2653086e-09 ... -1.227498e-08\n",
       "    UT           (Z, YCcoarse, XCcoarse) float32 -0.1473918 ... -0.000111298716\n",
       "    VT           (Z, YCcoarse, XCcoarse) float32 0.0023602122 ... 9.170374e-05\n",
       "    WT           (Z, YCcoarse, XCcoarse) float32 1.3497022e-06 ... -1.9541619e-07\n",
       "    TT           (Z, YCcoarse, XCcoarse) float32 2.6668506 ... 0.0014445989\n",
       "    UpTp         (Z, YCcoarse, XCcoarse) float32 -0.010542169 ... 0.00030813474\n",
       "    VpTp         (Z, YCcoarse, XCcoarse) float32 -0.00022943108 ... -3.436269e-05\n",
       "    WpTp         (Z, YCcoarse, XCcoarse) float32 4.695288e-07 ... -2.535997e-07\n",
       "    TpTp         (Z, YCcoarse, XCcoarse) float32 0.28234673 ... 0.000205716"
      ]
     },
     "execution_count": 23,
     "metadata": {},
     "output_type": "execute_result"
    }
   ],
   "source": [
    "T_coarse"
   ]
  },
  {
   "cell_type": "code",
   "execution_count": 24,
   "metadata": {},
   "outputs": [],
   "source": [
    "T_coarse.to_netcdf('outputs_ncfiles/T_coarse_'+str(int(Lcoarse//1e3))+'km')"
   ]
  },
  {
   "cell_type": "code",
   "execution_count": null,
   "metadata": {},
   "outputs": [],
   "source": []
  }
 ],
 "metadata": {
  "kernelspec": {
   "display_name": "Pangeo",
   "language": "python",
   "name": "pangeo"
  },
  "language_info": {
   "codemirror_mode": {
    "name": "ipython",
    "version": 3
   },
   "file_extension": ".py",
   "mimetype": "text/x-python",
   "name": "python",
   "nbconvert_exporter": "python",
   "pygments_lexer": "ipython3",
   "version": "3.6.7"
  }
 },
 "nbformat": 4,
 "nbformat_minor": 2
}
