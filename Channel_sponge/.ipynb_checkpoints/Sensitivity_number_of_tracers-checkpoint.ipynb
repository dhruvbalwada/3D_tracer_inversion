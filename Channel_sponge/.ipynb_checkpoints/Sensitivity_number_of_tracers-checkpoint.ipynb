{
 "cells": [
  {
   "cell_type": "markdown",
   "metadata": {},
   "source": [
    "# Sensitivity to tracers used\n",
    "\n",
    "Look at how the errors in ub change based on different choices of tracers. \n",
    "Continued of the notebook \"Sensitivity_coarsening_scales\""
   ]
  },
  {
   "cell_type": "code",
   "execution_count": 17,
   "metadata": {},
   "outputs": [],
   "source": [
    "import numpy as np\n",
    "import xarray as xr\n",
    "from funcs import *\n",
    "%matplotlib inline\n",
    "from matplotlib import pyplot as plt\n",
    "from matplotlib import colors, ticker, cm\n",
    "from matplotlib.colors import LogNorm\n",
    "from xgcm import Grid, generate_grid_ds"
   ]
  },
  {
   "cell_type": "code",
   "execution_count": 78,
   "metadata": {},
   "outputs": [],
   "source": [
    "def flux_reconstruct(tensor, flux, grads, grid, Lcoarse):\n",
    "\n",
    "    recUflux = -(tensor.sel(i=0, j=0)*grads.dCdx + tensor.sel(i=0, j=1)*grads.dCdy + tensor.sel(i=0, j=2)*grads.dCdz)\n",
    "    recVflux = -(tensor.sel(i=1, j=0)*grads.dCdx + tensor.sel(i=1, j=1)*grads.dCdy + tensor.sel(i=1, j=2)*grads.dCdz)\n",
    "    recWflux = -(tensor.sel(i=2, j=0)*grads.dCdx + tensor.sel(i=2, j=1)*grads.dCdy + tensor.sel(i=2, j=2)*grads.dCdz)\n",
    "    \n",
    "    errU = np.abs(flux.UpCp - recUflux)/np.abs(flux.UpCp)\n",
    "    errV = np.abs(flux.VpCp - recVflux)/np.abs(flux.VpCp)\n",
    "    errW = np.abs(flux.WpCp - recWflux)/np.abs(flux.WpCp)\n",
    "    \n",
    "    divUpCp = grid.interp(grid.diff(flux.UpCp, 'X')/Lcoarse, 'X') + \\\n",
    "              grid.interp(grid.diff(flux.VpCp, 'Y', boundary='extend')/Lcoarse, 'Y', boundary='extend') + \\\n",
    "             -grid.interp(grid.diff(flux.WpCp, 'Z', boundary='extend'), 'Z', boundary='extend')/ flux.drF\n",
    "            \n",
    "    divUpCphor = grid.interp(grid.diff(flux.UpCp, 'X')/Lcoarse, 'X') + \\\n",
    "              grid.interp(grid.diff(flux.VpCp, 'Y', boundary='extend')/Lcoarse, 'Y', boundary='extend')             \n",
    "    \n",
    "    divrecflux = grid.interp(grid.diff(recUflux, 'X')/Lcoarse, 'X') + \\\n",
    "                 grid.interp(grid.diff(recVflux, 'Y', boundary='extend')/Lcoarse, 'Y', boundary='extend') + \\\n",
    "                -grid.interp(grid.diff(recWflux, 'Z', boundary='extend'), 'Z', boundary='extend')/ flux.drF\n",
    "            \n",
    "    divrecfluxhor = grid.interp(grid.diff(recUflux, 'X')/Lcoarse, 'X') + \\\n",
    "                 grid.interp(grid.diff(recVflux, 'Y', boundary='extend')/Lcoarse, 'Y', boundary='extend') \n",
    "    \n",
    "    errdiv = np.abs(divUpCp - divrecflux)/np.abs(divUpCp)\n",
    "    errdivhor = np.abs(divUpCphor - divrecfluxhor)/np.abs(divUpCphor)    \n",
    "    \n",
    "    flux_rec=xr.Dataset({'UpCp':recUflux, 'VpCp':recVflux, 'WpCp':recWflux,\n",
    "                                'errU':errU, 'errV':errV, 'errW':errW, \n",
    "                         'divrecflux': divrecflux, 'divUpCp': divUpCp, 'errdiv':errdiv, 'errdivhor':errdivhor})\n",
    "    \n",
    "    return flux_rec"
   ]
  },
  {
   "cell_type": "code",
   "execution_count": 13,
   "metadata": {},
   "outputs": [],
   "source": [
    "Model_Tav = xr.open_dataset('./outputs_ncfiles/Model_Tav.nc')"
   ]
  },
  {
   "cell_type": "code",
   "execution_count": 3,
   "metadata": {},
   "outputs": [],
   "source": [
    "Lcoarse = 50e3"
   ]
  },
  {
   "cell_type": "code",
   "execution_count": 4,
   "metadata": {},
   "outputs": [],
   "source": [
    "Trac_coarse = xr.open_dataset('./outputs_ncfiles/Trac_coarse_'+str(int(Lcoarse//1e3))+'km')\n",
    "Vels_coarse = xr.open_dataset('./outputs_ncfiles/Vels_coarse_'+str(int(Lcoarse//1e3))+'km')\n",
    "T_coarse    = xr.open_dataset('./outputs_ncfiles/T_coarse_'+str(int(Lcoarse//1e3))+'km')"
   ]
  },
  {
   "cell_type": "code",
   "execution_count": 5,
   "metadata": {},
   "outputs": [],
   "source": [
    "list_trac = ['TRAC01', 'TRAC02', 'TRAC03', 'TRAC04', 'TRAC05', \n",
    "            'TRAC06', 'TRAC07', 'TRAC08', 'TRAC09', 'TRAC10', \n",
    "            'TRAC11', 'TRAC12', 'TRAC13', 'TRAC14', 'TRAC15', \n",
    "            'TRAC16', 'TRAC17', 'TRAC18', 'TRAC19', 'TRAC20']"
   ]
  },
  {
   "cell_type": "code",
   "execution_count": 6,
   "metadata": {},
   "outputs": [],
   "source": [
    "[UpCp, VpCp, WpCp] = get_flux_arrays(Trac_coarse, list_trac)\n",
    "[dCdx, dCdy, dCdz]= get_grad_arrays(Trac_coarse, list_trac)"
   ]
  },
  {
   "cell_type": "markdown",
   "metadata": {},
   "source": [
    "# Tracers for 3D setup (with ridge in the middle.)\n",
    "$$C1 = yg/Lx$$\n",
    "$$C2 = (-zg)/H$$\n",
    "$$C3 = cos(2*np.pi*xg/Lx)$$\n",
    "$$C4 = sin(2*np.pi*xg/Lx)$$\n",
    "$$C5 = sin(4*np.pi*xg/Lx)$$\n",
    "$$C6 = sin(np.pi*yg/Lx)$$\n",
    "$$C7 = cos(2*np.pi*yg/Lx)$$\n",
    "$$C8 = sin(2*np.pi*yg/Lx)$$\n",
    "$$C9 = cos(np.pi*zg/H)$$\n",
    "$$C10 = sin(np.pi*zg/H)$$"
   ]
  },
  {
   "cell_type": "code",
   "execution_count": 83,
   "metadata": {},
   "outputs": [],
   "source": [
    "tfast1 = [1,3,5] # 1 of each\n",
    "tfast2 = [1,3,5,7,11,17] # 2 of each\n",
    "tfast3 = [1,3,5,7,9,11,13,17,19] # 3 of each\n",
    "tfast4 = [1,3,5,7,9,11,13,15,17,19] # all\n",
    "tsets = {'3':tfast1, '6':tfast2, '9':tfast3, '10':tfast4}\n"
   ]
  },
  {
   "cell_type": "code",
   "execution_count": 84,
   "metadata": {},
   "outputs": [],
   "source": [
    "fluxT = xr.Dataset({'UpCp':T_coarse.UpTp, 'VpCp':T_coarse.VpTp, 'WpCp':T_coarse.WpTp})\n",
    "gradT = xr.Dataset({'dCdx':T_coarse.T_X, 'dCdy':T_coarse.T_Y, 'dCdz':T_coarse.T_Z})\n",
    "\n",
    "# define a grid for taking gradients on coarse grid\n",
    "grid_ds = xr.Dataset()\n",
    "grid_ds['TRAC01'] = Trac_coarse['TRAC01']\n",
    "grid_ds['wVeltave'] = Model_Tav['wVeltave']\n",
    "grid_ds = grid_ds.drop(['wVeltave','XC','YC']).isel(XC=0, YC=0)\n",
    "ds = generate_grid_ds(grid_ds, {'X': 'XCcoarse', 'Y':'YCcoarse'})\n",
    "grid = Grid(ds, periodic='X')"
   ]
  },
  {
   "cell_type": "code",
   "execution_count": 85,
   "metadata": {},
   "outputs": [],
   "source": [
    "Ktensor_corr ={}"
   ]
  },
  {
   "cell_type": "code",
   "execution_count": 86,
   "metadata": {},
   "outputs": [],
   "source": [
    "for key in tsets.keys():\n",
    "# Calculate the tensor\n",
    "    tfast = tsets[key]\n",
    "    tslow = [x+1 for x in tfast]\n",
    "    Ktensor_fast = xr.apply_ufunc(calc_tensor, \n",
    "                           UpCp.sel(tracer_num=tfast),\n",
    "                           VpCp.sel(tracer_num=tfast),\n",
    "                           WpCp.sel(tracer_num=tfast),\n",
    "                           dCdx.sel(tracer_num=tfast),\n",
    "                           dCdy.sel(tracer_num=tfast),\n",
    "                           dCdz.sel(tracer_num=tfast),\n",
    "                           input_core_dims=[['tracer_num'], ['tracer_num'], ['tracer_num'], ['tracer_num'], ['tracer_num'], ['tracer_num']],\n",
    "                           vectorize=True, output_core_dims=[['i','j']], dask='parallelized', \n",
    "                           output_dtypes=['float32'], output_sizes={'i':3,'j':3})\n",
    "\n",
    "    Ktensor_fast.load() # need to load because we will take transpose and a\n",
    "\n",
    "\n",
    "    Ktensor_slow = xr.apply_ufunc(calc_tensor, \n",
    "                           UpCp.sel(tracer_num=tslow),\n",
    "                           VpCp.sel(tracer_num=tslow),\n",
    "                           WpCp.sel(tracer_num=tslow),\n",
    "                           dCdx.sel(tracer_num=tslow),\n",
    "                           dCdy.sel(tracer_num=tslow),\n",
    "                           dCdz.sel(tracer_num=tslow),\n",
    "                           input_core_dims=[['tracer_num'], ['tracer_num'], ['tracer_num'], ['tracer_num'], ['tracer_num'], ['tracer_num']],\n",
    "                           vectorize=True, output_core_dims=[['i','j']], dask='parallelized', \n",
    "                           output_dtypes=['float32'], output_sizes={'i':3,'j':3})\n",
    "\n",
    "    Ktensor_slow.load() # need to load because we will take transpose and a\n",
    "    \n",
    "    lam1 = 1/31104000.\n",
    "    lam2 = 1/186624000.\n",
    "\n",
    "    Ktensor_corr[key] = (lam2*Ktensor_fast - lam1*Ktensor_slow)/(lam2 - lam1)"
   ]
  },
  {
   "cell_type": "code",
   "execution_count": 63,
   "metadata": {},
   "outputs": [],
   "source": [
    "colors = ['Red', 'Blue', 'Green','Purple']"
   ]
  },
  {
   "cell_type": "code",
   "execution_count": 71,
   "metadata": {},
   "outputs": [
    {
     "name": "stderr",
     "output_type": "stream",
     "text": [
      "/home/dbalwada/.conda/envs/pangeo/lib/python3.6/site-packages/matplotlib/figure.py:98: MatplotlibDeprecationWarning: \n",
      "Adding an axes using the same arguments as a previous axes currently reuses the earlier instance.  In a future version, a new instance will always be created and returned.  Meanwhile, this warning can be suppressed, and the future behavior ensured, by passing a unique label to each axes instance.\n",
      "  \"Adding an axes using the same arguments as a previous axes \"\n",
      "/home/dbalwada/.conda/envs/pangeo/lib/python3.6/site-packages/matplotlib/figure.py:98: MatplotlibDeprecationWarning: \n",
      "Adding an axes using the same arguments as a previous axes currently reuses the earlier instance.  In a future version, a new instance will always be created and returned.  Meanwhile, this warning can be suppressed, and the future behavior ensured, by passing a unique label to each axes instance.\n",
      "  \"Adding an axes using the same arguments as a previous axes \"\n",
      "/home/dbalwada/.conda/envs/pangeo/lib/python3.6/site-packages/matplotlib/figure.py:98: MatplotlibDeprecationWarning: \n",
      "Adding an axes using the same arguments as a previous axes currently reuses the earlier instance.  In a future version, a new instance will always be created and returned.  Meanwhile, this warning can be suppressed, and the future behavior ensured, by passing a unique label to each axes instance.\n",
      "  \"Adding an axes using the same arguments as a previous axes \"\n",
      "/home/dbalwada/.conda/envs/pangeo/lib/python3.6/site-packages/matplotlib/figure.py:98: MatplotlibDeprecationWarning: \n",
      "Adding an axes using the same arguments as a previous axes currently reuses the earlier instance.  In a future version, a new instance will always be created and returned.  Meanwhile, this warning can be suppressed, and the future behavior ensured, by passing a unique label to each axes instance.\n",
      "  \"Adding an axes using the same arguments as a previous axes \"\n",
      "/home/dbalwada/.conda/envs/pangeo/lib/python3.6/site-packages/matplotlib/figure.py:98: MatplotlibDeprecationWarning: \n",
      "Adding an axes using the same arguments as a previous axes currently reuses the earlier instance.  In a future version, a new instance will always be created and returned.  Meanwhile, this warning can be suppressed, and the future behavior ensured, by passing a unique label to each axes instance.\n",
      "  \"Adding an axes using the same arguments as a previous axes \"\n",
      "/home/dbalwada/.conda/envs/pangeo/lib/python3.6/site-packages/matplotlib/figure.py:98: MatplotlibDeprecationWarning: \n",
      "Adding an axes using the same arguments as a previous axes currently reuses the earlier instance.  In a future version, a new instance will always be created and returned.  Meanwhile, this warning can be suppressed, and the future behavior ensured, by passing a unique label to each axes instance.\n",
      "  \"Adding an axes using the same arguments as a previous axes \"\n"
     ]
    },
    {
     "data": {
      "image/png": "[encoded data removed]",
      "text/plain": [
       "<Figure size 432x288 with 2 Axes>"
      ]
     },
     "metadata": {
      "needs_background": "light"
     },
     "output_type": "display_data"
    }
   ],
   "source": [
    "for key in tsets.keys():\n",
    "    frb_corr = flux_reconstruct(Ktensor_corr[key], fluxT, gradT, grid, Lcoarse)\n",
    "    \n",
    "    plt.subplot(121)\n",
    "    [_,_,_] = frb_corr.errU.where(Trac_coarse.hFacCcoarse==1.).plot.hist(bins=bins,\n",
    "                         histtype='step',edgecolor= colors[int(key)-1], linewidth=2, fill=False)\n",
    "    plt.subplot(122)\n",
    "    [_,_,_] = frb_corr.errdiv.where(Trac_coarse.hFacCcoarse==1.).plot.hist(bins=bins,\n",
    "                         histtype='step',edgecolor= colors[int(key)-1], linewidth=2, fill=False)\n",
    "plt.tight_layout()"
   ]
  },
  {
   "cell_type": "code",
   "execution_count": 93,
   "metadata": {},
   "outputs": [],
   "source": [
    "params = {\n",
    "   'axes.labelsize': 12,\n",
    "   'font.size': 12,\n",
    "   'legend.fontsize': 12,\n",
    "   'xtick.labelsize': 12,\n",
    "   'ytick.labelsize': 12,\n",
    "   'text.usetex': False,\n",
    "   'figure.figsize': [4.5, 4.5]\n",
    "   }\n",
    "plt.rcParams.update(params)"
   ]
  },
  {
   "cell_type": "code",
   "execution_count": 102,
   "metadata": {},
   "outputs": [
    {
     "data": {
      "image/png": "[encoded data removed]",
      "text/plain": [
       "<Figure size 324x324 with 1 Axes>"
      ]
     },
     "metadata": {
      "needs_background": "light"
     },
     "output_type": "display_data"
    }
   ],
   "source": [
    "for key in tsets.keys():\n",
    "    frb_corr = flux_reconstruct(Ktensor_corr[key], fluxT, gradT, grid, Lcoarse)\n",
    "    if key=='3':\n",
    "        plt.plot(int(key), frb_corr.errU.where(Trac_coarse.hFacCcoarse==1.).median(['XCcoarse', 'YCcoarse','Z']),\n",
    "                 'rs', label='E(ub)')\n",
    "        plt.plot(int(key), frb_corr.errV.where(Trac_coarse.hFacCcoarse==1.).median(['XCcoarse', 'YCcoarse','Z']), 'kv', label='E(vb)')\n",
    "        plt.plot(int(key), frb_corr.errW.where(Trac_coarse.hFacCcoarse==1.).median(['XCcoarse', 'YCcoarse','Z']), 'bP', label='E(wb)')\n",
    "\n",
    "        plt.plot(int(key), frb_corr.errdiv.where(Trac_coarse.hFacCcoarse==1.).median(['XCcoarse', 'YCcoarse','Z']), 'rX', label=r'E($\\nabla.\\mathbf{u}$b)')\n",
    "        #plt.plot(int(key), frb_corr.errdivhor.where(Trac_coarse.hFacCcoarse==1.).median(['XCcoarse', 'YCcoarse','Z']), 'bx', label=r'E($\\nabla_H.\\mathbf{u}_H$b)')\n",
    "    else:\n",
    "        plt.plot(int(key), frb_corr.errU.where(Trac_coarse.hFacCcoarse==1.).median(['XCcoarse', 'YCcoarse','Z']),\n",
    "                 'rs')\n",
    "        plt.plot(int(key), frb_corr.errV.where(Trac_coarse.hFacCcoarse==1.).median(['XCcoarse', 'YCcoarse','Z']), 'kv')\n",
    "        plt.plot(int(key), frb_corr.errW.where(Trac_coarse.hFacCcoarse==1.).median(['XCcoarse', 'YCcoarse','Z']), 'bP')\n",
    "\n",
    "        plt.plot(int(key), frb_corr.errdiv.where(Trac_coarse.hFacCcoarse==1.).median(['XCcoarse', 'YCcoarse','Z']), 'rX')\n",
    "        #plt.plot(int(key), frb_corr.errdivhor.where(Trac_coarse.hFacCcoarse==1.).median(['XCcoarse', 'YCcoarse','Z']), 'bx')\n",
    "    \n",
    "plt.legend()    \n",
    "plt.xlabel('Number of Tracers')\n",
    "plt.ylabel('Median of Error PDF')\n",
    "plt.title('50km Coarsen')\n",
    "plt.xlim([1,11])\n",
    "plt.ylim([0,1])\n",
    "plt.savefig('fig2a.pdf', dpi=200,bbox_inches='tight')\n"
   ]
  },
  {
   "cell_type": "code",
   "execution_count": null,
   "metadata": {},
   "outputs": [],
   "source": []
  }
 ],
 "metadata": {
  "kernelspec": {
   "display_name": "Pangeo",
   "language": "python",
   "name": "pangeo"
  },
  "language_info": {
   "codemirror_mode": {
    "name": "ipython",
    "version": 3
   },
   "file_extension": ".py",
   "mimetype": "text/x-python",
   "name": "python",
   "nbconvert_exporter": "python",
   "pygments_lexer": "ipython3",
   "version": "3.6.6"
  }
 },
 "nbformat": 4,
 "nbformat_minor": 2
}
