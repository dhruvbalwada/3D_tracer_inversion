{
 "cells": [
  {
   "cell_type": "markdown",
   "metadata": {},
   "source": [
    "# Diffusivity tensor for any resolution - Analysis in Zonally Averaged Sense"
   ]
  },
  {
   "cell_type": "code",
   "execution_count": 1,
   "metadata": {},
   "outputs": [],
   "source": [
    "import numpy as np\n",
    "import xarray as xr\n",
    "from funcs import *\n",
    "%matplotlib inline\n",
    "from matplotlib import pyplot as plt\n",
    "from matplotlib import colors, ticker, cm\n",
    "from matplotlib.colors import LogNorm"
   ]
  },
  {
   "cell_type": "code",
   "execution_count": 2,
   "metadata": {},
   "outputs": [],
   "source": [
    "Lcoarse = 50e3"
   ]
  },
  {
   "cell_type": "code",
   "execution_count": 3,
   "metadata": {},
   "outputs": [],
   "source": [
    "Trac_coarse = xr.open_dataset('./outputs_ncfiles/Trac_coarse_'+str(int(Lcoarse//1e3))+'km')\n",
    "Vels_coarse = xr.open_dataset('./outputs_ncfiles/Vels_coarse_'+str(int(Lcoarse//1e3))+'km')"
   ]
  },
  {
   "cell_type": "code",
   "execution_count": 4,
   "metadata": {},
   "outputs": [],
   "source": [
    "Trac_coarse_2D = Trac_coarse.mean(['XCcoarse'])"
   ]
  },
  {
   "cell_type": "code",
   "execution_count": 5,
   "metadata": {},
   "outputs": [],
   "source": [
    "list_trac = ['TRAC01', 'TRAC02', 'TRAC03', 'TRAC04', 'TRAC05', \n",
    "            'TRAC06', 'TRAC07', 'TRAC08', 'TRAC09', 'TRAC10', \n",
    "            'TRAC11', 'TRAC12', 'TRAC13', 'TRAC14', 'TRAC15', \n",
    "            'TRAC16', 'TRAC17', 'TRAC18', 'TRAC19', 'TRAC20']"
   ]
  },
  {
   "cell_type": "code",
   "execution_count": 6,
   "metadata": {},
   "outputs": [],
   "source": [
    "[UpCp, VpCp, WpCp] = get_flux_arrays(Trac_coarse_2D, list_trac)\n",
    "[dCdx, dCdy, dCdz]= get_grad_arrays(Trac_coarse_2D, list_trac)"
   ]
  },
  {
   "cell_type": "code",
   "execution_count": 7,
   "metadata": {},
   "outputs": [
    {
     "name": "stdout",
     "output_type": "stream",
     "text": [
      "CPU times: user 417 ms, sys: 5.46 ms, total: 423 ms\n",
      "Wall time: 585 ms\n"
     ]
    }
   ],
   "source": [
    "%%time\n",
    "# Calculate the tensor\n",
    "# This is slow (can take over an hour)\n",
    "\n",
    "Ktensor_fast = xr.apply_ufunc(calc_tensor_2D, \n",
    "                       VpCp.sel(tracer_num=slice(1,19,2)),\n",
    "                       WpCp.sel(tracer_num=slice(1,19,2)),\n",
    "                       dCdy.sel(tracer_num=slice(1,19,2)),\n",
    "                       dCdz.sel(tracer_num=slice(1,19,2)),\n",
    "                       input_core_dims=[['tracer_num'], ['tracer_num'], ['tracer_num'], ['tracer_num']],\n",
    "                       vectorize=True, output_core_dims=[['i','j']], dask='parallelized', \n",
    "                       output_dtypes=['float32'], output_sizes={'i':2,'j':2})\n",
    "\n",
    "Ktensor_fast.load() # need to load because we will take transpose and a"
   ]
  },
  {
   "cell_type": "code",
   "execution_count": 8,
   "metadata": {},
   "outputs": [
    {
     "data": {
      "text/plain": [
       "<xarray.DataArray (Z: 40, YCcoarse: 40, i: 2, j: 2)>\n",
       "array([[[[-3.704796e+01,  5.906994e+01],\n",
       "         [ 8.586311e-02, -1.482910e-02]],\n",
       "\n",
       "        ...,\n",
       "\n",
       "        [[ 3.288968e+02, -2.398665e+01],\n",
       "         [ 1.019514e-02,  3.944825e-02]]],\n",
       "\n",
       "\n",
       "       ...,\n",
       "\n",
       "\n",
       "       [[[ 3.029082e+01, -0.000000e+00],\n",
       "         [-9.230444e-03, -0.000000e+00]],\n",
       "\n",
       "        ...,\n",
       "\n",
       "        [[ 2.134442e+02, -0.000000e+00],\n",
       "         [ 1.624459e-01, -0.000000e+00]]]], dtype=float32)\n",
       "Coordinates:\n",
       "  * Z         (Z) float32 -5.0 -15.0 -25.0 -36.0 ... -2727.5 -2830.5 -2933.5\n",
       "  * YCcoarse  (YCcoarse) float32 25000.0 75000.0 ... 1925000.0 1975000.0\n",
       "    PHrefC    (Z) float32 49.05 147.15 245.25 ... 26756.775 27767.205 28777.635\n",
       "    drF       (Z) float32 10.0 10.0 10.0 12.0 14.0 ... 103.0 103.0 103.0 103.0\n",
       "Dimensions without coordinates: i, j"
      ]
     },
     "execution_count": 8,
     "metadata": {},
     "output_type": "execute_result"
    }
   ],
   "source": [
    "Ktensor_fast"
   ]
  },
  {
   "cell_type": "code",
   "execution_count": 9,
   "metadata": {},
   "outputs": [
    {
     "name": "stdout",
     "output_type": "stream",
     "text": [
      "CPU times: user 394 ms, sys: 3.05 ms, total: 397 ms\n",
      "Wall time: 394 ms\n"
     ]
    }
   ],
   "source": [
    "%%time\n",
    "# Calculate the tensor\n",
    "# This is slow (can take over an hour)\n",
    "\n",
    "Ktensor_slow = xr.apply_ufunc(calc_tensor_2D, \n",
    "                       VpCp.sel(tracer_num=slice(2,20,2)),\n",
    "                       WpCp.sel(tracer_num=slice(2,20,2)),\n",
    "                       dCdy.sel(tracer_num=slice(2,20,2)),\n",
    "                       dCdz.sel(tracer_num=slice(2,20,2)),\n",
    "                       input_core_dims=[['tracer_num'], ['tracer_num'], ['tracer_num'], ['tracer_num']],\n",
    "                       vectorize=True, output_core_dims=[['i','j']], dask='parallelized', \n",
    "                       output_dtypes=['float32'], output_sizes={'i':2,'j':2})\n",
    "\n",
    "Ktensor_slow.load() # need to load because we will take transpose and a"
   ]
  },
  {
   "cell_type": "code",
   "execution_count": 10,
   "metadata": {},
   "outputs": [],
   "source": [
    "lam1 = 1/31104000.\n",
    "lam2 = 1/186624000.\n",
    "\n",
    "Ktensor_corr = (lam2*Ktensor_fast - lam1*Ktensor_slow)/(lam2 - lam1)"
   ]
  },
  {
   "cell_type": "code",
   "execution_count": 13,
   "metadata": {},
   "outputs": [],
   "source": [
    "Ktensor_corrT = Ktensor_corr.transpose('Z','YCcoarse','j','i')\n",
    "\n",
    "ST = 0.5*(Ktensor_corr.data + Ktensor_corrT.data)\n",
    "AT = 0.5*(Ktensor_corr.data - Ktensor_corrT.data)\n",
    "\n",
    "ST = xr.DataArray(ST, coords=Ktensor_corr.coords, dims=Ktensor_corr.dims)\n",
    "AT = xr.DataArray(AT, coords=Ktensor_corr.coords, dims=Ktensor_corr.dims)"
   ]
  },
  {
   "cell_type": "code",
   "execution_count": 14,
   "metadata": {},
   "outputs": [],
   "source": [
    "Ktensor_fastT = Ktensor_fast.transpose('Z','YCcoarse','j','i')\n",
    "\n",
    "STfast = 0.5*(Ktensor_fast.data + Ktensor_fastT.data)\n",
    "ATfast = 0.5*(Ktensor_fast.data - Ktensor_fastT.data)\n",
    "\n",
    "STfast = xr.DataArray(STfast, coords=Ktensor_fast.coords, dims=Ktensor_fast.dims)\n",
    "ATfast = xr.DataArray(ATfast, coords=Ktensor_fast.coords, dims=Ktensor_fast.dims)"
   ]
  },
  {
   "cell_type": "code",
   "execution_count": 15,
   "metadata": {},
   "outputs": [],
   "source": [
    "Ktensor_slowT = Ktensor_slow.transpose('Z','YCcoarse','j','i')\n",
    "\n",
    "STslow = 0.5*(Ktensor_slow.data + Ktensor_slowT.data)\n",
    "ATslow = 0.5*(Ktensor_slow.data - Ktensor_slowT.data)\n",
    "\n",
    "STslow = xr.DataArray(STslow, coords=Ktensor_slow.coords, dims=Ktensor_slow.dims)\n",
    "ATslow = xr.DataArray(ATslow, coords=Ktensor_slow.coords, dims=Ktensor_slow.dims)"
   ]
  },
  {
   "cell_type": "code",
   "execution_count": 16,
   "metadata": {},
   "outputs": [],
   "source": [
    "# make sure the eigen values are arranged by magnitude (instead of the default arrangement)\n",
    "def eigen(A):\n",
    "    eigenValues, eigenVectors = eigh(A)\n",
    "    idx = np.argsort(np.abs(eigenValues))\n",
    "    eigenValues = eigenValues[idx]\n",
    "    eigenVectors = eigenVectors[:,idx]\n",
    "    return (eigenValues, eigenVectors)"
   ]
  },
  {
   "cell_type": "code",
   "execution_count": 17,
   "metadata": {},
   "outputs": [],
   "source": [
    "# calculate the eigenvalues and eigenvectors of symmetric part\n",
    "eigvalsST, eigvecsST = xr.apply_ufunc(eigen, ST, input_core_dims=[['i','j']],\n",
    "                                    vectorize=True, output_core_dims=[['ii'], ['k','ii']])"
   ]
  },
  {
   "cell_type": "code",
   "execution_count": 18,
   "metadata": {},
   "outputs": [],
   "source": [
    "# calculate the eigenvalues and eigenvectors of symmetric part\n",
    "eigvalsSTslow, eigvecsSTslow = xr.apply_ufunc(eigen, STslow, input_core_dims=[['i','j']],\n",
    "                                    vectorize=True, output_core_dims=[['ii'], ['k','ii']])"
   ]
  },
  {
   "cell_type": "code",
   "execution_count": 19,
   "metadata": {},
   "outputs": [],
   "source": [
    "# calculate the eigenvalues and eigenvectors of symmetric part\n",
    "eigvalsSTfast, eigvecsSTfast = xr.apply_ufunc(eigen, STfast, input_core_dims=[['i','j']],\n",
    "                                    vectorize=True, output_core_dims=[['ii'], ['k','ii']])"
   ]
  },
  {
   "cell_type": "code",
   "execution_count": 20,
   "metadata": {},
   "outputs": [],
   "source": [
    "diff_tensor = xr.Dataset()\n",
    "diff_tensor['Kfast'] = Ktensor_fast\n",
    "diff_tensor['Kslow'] = Ktensor_slow\n",
    "diff_tensor['Kcorr'] = Ktensor_corr\n",
    "diff_tensor['ST'] = ST\n",
    "diff_tensor['AT'] = AT\n",
    "diff_tensor['eigvalsST'] = np.real(eigvalsST)\n",
    "diff_tensor['eigvecsST'] = eigvecsST\n",
    "diff_tensor['STfast'] = STfast\n",
    "diff_tensor['ATfast'] = ATfast\n",
    "diff_tensor['eigvalsSTfast'] = np.real(eigvalsSTfast)\n",
    "diff_tensor['eigvecsSTfast'] = eigvecsSTfast\n",
    "diff_tensor['STslow'] = STslow\n",
    "diff_tensor['ATslow'] = ATslow\n",
    "diff_tensor['eigvalsSTslow'] = np.real(eigvalsSTslow)\n",
    "diff_tensor['eigvecsSTslow'] = eigvecsSTslow"
   ]
  },
  {
   "cell_type": "code",
   "execution_count": 22,
   "metadata": {},
   "outputs": [],
   "source": [
    "diff_tensor.to_netcdf('./outputs_ncfiles/diff_tensor_2D_'+str(int(Lcoarse//1e3))+'km.nc')"
   ]
  },
  {
   "cell_type": "code",
   "execution_count": 26,
   "metadata": {},
   "outputs": [
    {
     "data": {
      "text/plain": [
       "<matplotlib.contour.QuadContourSet at 0x7fc430b40390>"
      ]
     },
     "execution_count": 26,
     "metadata": {},
     "output_type": "execute_result"
    },
    {
     "data": {
      "image/png": "[encoded data removed]",
      "text/plain": [
       "<Figure size 432x288 with 2 Axes>"
      ]
     },
     "metadata": {
      "needs_background": "light"
     },
     "output_type": "display_data"
    }
   ],
   "source": [
    "ATfast.isel(i=1,j=0).plot.contourf(vmin=-3)"
   ]
  },
  {
   "cell_type": "code",
   "execution_count": 24,
   "metadata": {},
   "outputs": [
    {
     "data": {
      "text/plain": [
       "<matplotlib.contour.QuadContourSet at 0x7fc430cca4a8>"
      ]
     },
     "execution_count": 24,
     "metadata": {},
     "output_type": "execute_result"
    },
    {
     "data": {
      "image/png": "[encoded data removed]",
      "text/plain": [
       "<Figure size 432x288 with 2 Axes>"
      ]
     },
     "metadata": {
      "needs_background": "light"
     },
     "output_type": "display_data"
    }
   ],
   "source": [
    "eigvalsST.isel(ii=1).plot.contourf(levels=10, vmin=-5000)"
   ]
  },
  {
   "cell_type": "code",
   "execution_count": 52,
   "metadata": {},
   "outputs": [
    {
     "data": {
      "text/plain": [
       "<matplotlib.contour.QuadContourSet at 0x7f5d6e712fd0>"
      ]
     },
     "execution_count": 52,
     "metadata": {},
     "output_type": "execute_result"
    },
    {
     "data": {
      "image/png": "[encoded data removed]",
      "text/plain": [
       "<Figure size 432x288 with 2 Axes>"
      ]
     },
     "metadata": {
      "needs_background": "light"
     },
     "output_type": "display_data"
    }
   ],
   "source": [
    "eigvalsST.isel(ii=0).plot.contourf(vmin=-1e-3)"
   ]
  },
  {
   "cell_type": "code",
   "execution_count": null,
   "metadata": {},
   "outputs": [],
   "source": []
  }
 ],
 "metadata": {
  "kernelspec": {
   "display_name": "Pangeo",
   "language": "python",
   "name": "pangeo"
  },
  "language_info": {
   "codemirror_mode": {
    "name": "ipython",
    "version": 3
   },
   "file_extension": ".py",
   "mimetype": "text/x-python",
   "name": "python",
   "nbconvert_exporter": "python",
   "pygments_lexer": "ipython3",
   "version": "3.6.7"
  }
 },
 "nbformat": 4,
 "nbformat_minor": 2
}
