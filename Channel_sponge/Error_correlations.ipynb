{
 "cells": [
  {
   "cell_type": "markdown",
   "metadata": {},
   "source": [
    "# Test the sensitivity of the results to 3 factors: \n",
    "\n",
    "- Time scale of restoring source: compare 1year, 6year and corrected values.\n",
    "- Spatial scale of coarsening: 25, 50, 100, 200km\n",
    "- Influence of choosing tracers (this has been put in a separate notebook). \n",
    "- We are assuming that the 20 year average is long, and equilibrated. One could test influence of changing this, but not sure if it matters here. \n",
    "\n",
    "The error will be evaluated by looking at the PDFs of $\\mathbf{u}'b$ and $\\nabla.(\\mathbf{u}'b)$. One could also look at the percentiles (25, 50(median), 75) for getting single numbers. \n",
    "\n",
    "The reason we are looking at buoyancy is because it is the only tracer without an interior source. For the other tracers, obviously, the fast restoring would be more appropriate for tracers that were restored fast, and vice versa. "
   ]
  },
  {
   "cell_type": "code",
   "execution_count": 1,
   "metadata": {},
   "outputs": [],
   "source": [
    "# load modules \n",
    "\n",
    "import numpy as np\n",
    "import xarray as xr\n",
    "from xmitgcm import open_mdsdataset\n",
    "from matplotlib import pyplot as plt\n",
    "from matplotlib import colors, ticker, cm\n",
    "from matplotlib.colors import LogNorm\n",
    "%matplotlib inline\n",
    "from funcs import *\n",
    "import os \n",
    "from xgcm import Grid, generate_grid_ds"
   ]
  },
  {
   "cell_type": "code",
   "execution_count": 152,
   "metadata": {},
   "outputs": [],
   "source": [
    "colors = ['R', 'b', 'g', 'k']\n",
    "params = {\n",
    "   'axes.labelsize': 12,\n",
    "   'font.size': 12,\n",
    "   'legend.fontsize': 12,\n",
    "   'xtick.labelsize': 12,\n",
    "   'ytick.labelsize': 12,\n",
    "   'text.usetex': False,\n",
    "   'figure.figsize': [4.5, 4.5]\n",
    "   }\n",
    "plt.rcParams.update(params)"
   ]
  },
  {
   "cell_type": "code",
   "execution_count": 2,
   "metadata": {},
   "outputs": [],
   "source": [
    "list_trac = ['TRAC01', 'TRAC02', 'TRAC03', 'TRAC04', 'TRAC05', \n",
    "            'TRAC06', 'TRAC07', 'TRAC08', 'TRAC09', 'TRAC10', \n",
    "            'TRAC11', 'TRAC12', 'TRAC13', 'TRAC14', 'TRAC15', \n",
    "            'TRAC16', 'TRAC17', 'TRAC18', 'TRAC19', 'TRAC20']"
   ]
  },
  {
   "cell_type": "code",
   "execution_count": 3,
   "metadata": {},
   "outputs": [],
   "source": [
    "Model_Tav = xr.open_dataset('./outputs_ncfiles/Model_Tav.nc')"
   ]
  },
  {
   "cell_type": "code",
   "execution_count": 63,
   "metadata": {},
   "outputs": [],
   "source": [
    "def flux_reconstruct(tensor, flux, grads, grid, Lcoarse):\n",
    "\n",
    "    recUflux = -(tensor.sel(i=0, j=0)*grads.dCdx + tensor.sel(i=0, j=1)*grads.dCdy + tensor.sel(i=0, j=2)*grads.dCdz)\n",
    "    recVflux = -(tensor.sel(i=1, j=0)*grads.dCdx + tensor.sel(i=1, j=1)*grads.dCdy + tensor.sel(i=1, j=2)*grads.dCdz)\n",
    "    recWflux = -(tensor.sel(i=2, j=0)*grads.dCdx + tensor.sel(i=2, j=1)*grads.dCdy + tensor.sel(i=2, j=2)*grads.dCdz)\n",
    "    \n",
    "    errU = np.abs(flux.UpCp - recUflux)/np.abs(flux.UpCp)\n",
    "    errV = np.abs(flux.VpCp - recVflux)/np.abs(flux.VpCp)\n",
    "    errW = np.abs(flux.WpCp - recWflux)/np.abs(flux.WpCp)\n",
    "    \n",
    "    divUpCp = grid.interp(grid.diff(flux.UpCp, 'X')/Lcoarse, 'X') + \\\n",
    "              grid.interp(grid.diff(flux.VpCp, 'Y', boundary='extend')/Lcoarse, 'Y', boundary='extend') + \\\n",
    "             -grid.interp(grid.diff(flux.WpCp, 'Z', boundary='extend'), 'Z', boundary='extend')/ flux.drF\n",
    "            \n",
    "    divUpCphor = grid.interp(grid.diff(flux.UpCp, 'X')/Lcoarse, 'X') + \\\n",
    "              grid.interp(grid.diff(flux.VpCp, 'Y', boundary='extend')/Lcoarse, 'Y', boundary='extend')    \n",
    "        \n",
    "    divUpCpver = -grid.interp(grid.diff(flux.WpCp, 'Z', boundary='extend'), 'Z', boundary='extend')/ flux.drF\n",
    "    \n",
    "    dzUpCp = -grid.interp(grid.diff(flux.UpCp, 'Z', boundary='extend'), 'Z', boundary='extend')/flux.drF + \\\n",
    "             -grid.interp(grid.diff(flux.VpCp, 'Z', boundary='extend'), 'Z', boundary='extend')/flux.drF\n",
    "\n",
    "    divrecflux = grid.interp(grid.diff(recUflux, 'X')/Lcoarse, 'X') + \\\n",
    "                 grid.interp(grid.diff(recVflux, 'Y', boundary='extend')/Lcoarse, 'Y', boundary='extend') + \\\n",
    "                -grid.interp(grid.diff(recWflux, 'Z', boundary='extend'), 'Z', boundary='extend')/ flux.drF\n",
    "            \n",
    "    divrecfluxhor = grid.interp(grid.diff(recUflux, 'X')/Lcoarse, 'X') + \\\n",
    "                 grid.interp(grid.diff(recVflux, 'Y', boundary='extend')/Lcoarse, 'Y', boundary='extend') \n",
    "        \n",
    "    divrecfluxver = -grid.interp(grid.diff(recWflux, 'Z', boundary='extend'), 'Z', boundary='extend')/ flux.drF\n",
    "    \n",
    "    dzrecflux = -grid.interp(grid.diff(recUflux, 'Z', boundary='extend'), 'Z', boundary='extend')/flux.drF + \\\n",
    "                -grid.interp(grid.diff(recVflux, 'Z', boundary='extend'), 'Z', boundary='extend')/flux.drF\n",
    "        \n",
    "    \n",
    "\n",
    "    \n",
    "    errdiv = np.abs(divUpCp - divrecflux)/np.abs(divUpCp)\n",
    "    errdivhor = np.abs(divUpCphor - divrecfluxhor)/np.abs(divUpCphor)    \n",
    "    errdivver = np.abs(divUpCpver - divrecfluxver)/np.abs(divUpCpver)\n",
    "    errdzflux = np.abs(dzUpCp - dzrecflux)/np.abs(dzUpCp)\n",
    "    \n",
    "    flux_rec=xr.Dataset({'UpCp':recUflux, 'VpCp':recVflux, 'WpCp':recWflux,\n",
    "                                'errU':errU, 'errV':errV, 'errW':errW, \n",
    "                         'divrecflux': divrecflux, 'divUpCp': divUpCp, \n",
    "                         'errdiv':errdiv, 'errdivhor':errdivhor,'errdivver':errdivver,'errdzflux':errdzflux})\n",
    "    \n",
    "    return flux_rec"
   ]
  },
  {
   "cell_type": "code",
   "execution_count": 64,
   "metadata": {},
   "outputs": [],
   "source": [
    "Lcoarselist = [25e3, 50e3, 100e3, 200e3]"
   ]
  },
  {
   "cell_type": "code",
   "execution_count": 129,
   "metadata": {},
   "outputs": [],
   "source": [
    "frb_temp = {}\n",
    "frb_fast = {}\n",
    "frb_slow = {}\n",
    "mask = {}"
   ]
  },
  {
   "cell_type": "code",
   "execution_count": 130,
   "metadata": {},
   "outputs": [],
   "source": [
    "Lcoarse = 50e3"
   ]
  },
  {
   "cell_type": "code",
   "execution_count": 261,
   "metadata": {},
   "outputs": [],
   "source": [
    "# load data\n",
    "diff_tensor = xr.open_dataset('./outputs_ncfiles/diff_tensor_'+str(int(Lcoarse//1e3))+'km.nc')\n",
    "Trac_coarse = xr.open_dataset('./outputs_ncfiles/Trac_coarse_'+str(int(Lcoarse//1e3))+'km.nc')\n",
    "Vels_coarse = xr.open_dataset('./outputs_ncfiles/Vels_coarse_'+str(int(Lcoarse//1e3))+'km.nc')\n",
    "T_coarse    = xr.open_dataset('./outputs_ncfiles/T_coarse_'+str(int(Lcoarse//1e3))+'km.nc')\n",
    "\n",
    "mask[Lcoarse] = Trac_coarse.hFacCcoarse\n",
    "# compute fluxes and gradients\n",
    "[UpCp, VpCp, WpCp] = get_flux_arrays(Trac_coarse, list_trac)\n",
    "[dCdx, dCdy, dCdz]= get_grad_arrays(Trac_coarse, list_trac)\n",
    "fluxT = xr.Dataset({'UpCp':T_coarse.UpTp, 'VpCp':T_coarse.VpTp, 'WpCp':T_coarse.WpTp})\n",
    "gradT = xr.Dataset({'dCdx':T_coarse.T_X, 'dCdy':T_coarse.T_Y, 'dCdz':T_coarse.T_Z})\n",
    "flux = xr.Dataset({'UpCp':UpCp, 'VpCp':VpCp, 'WpCp':WpCp})\n",
    "grads = xr.Dataset({'dCdx':dCdx, 'dCdy':dCdy, 'dCdz':dCdz})\n",
    "\n",
    "# define a grid for taking gradients on coarse grid\n",
    "grid_ds = xr.Dataset()\n",
    "grid_ds['TRAC01'] = Trac_coarse['TRAC01']\n",
    "grid_ds['wVeltave'] = Model_Tav['wVeltave']\n",
    "grid_ds = grid_ds.drop(['wVeltave','XC','YC']).isel(XC=0, YC=0)\n",
    "ds = generate_grid_ds(grid_ds, {'X': 'XCcoarse', 'Y':'YCcoarse'})\n",
    "grid = Grid(ds, periodic='X')\n",
    "\n",
    "frb_temp[Lcoarse] = flux_reconstruct(diff_tensor.Kcorr.where(mask[Lcoarse]==1), fluxT.where(mask[Lcoarse]==1), \n",
    "                                     gradT.where(mask[Lcoarse]==1), grid, Lcoarse)\n",
    "frb_fast[Lcoarse] = flux_reconstruct(diff_tensor.Kfast.where(mask[Lcoarse]==1), \n",
    "                                     flux.where(mask[Lcoarse]==1).sel(tracer_num=slice(1,19,2)), \n",
    "                                     grads.where(mask[Lcoarse]==1).sel(tracer_num=slice(1,19,2)), grid, Lcoarse)\n",
    "frb_slow[Lcoarse] = flux_reconstruct(diff_tensor.Kslow, flux.where(mask[Lcoarse]==1).sel(tracer_num=slice(2,20,2)), \n",
    "                                     grads.where(mask[Lcoarse]==1).sel(tracer_num=slice(2,20,2)), grid, Lcoarse)"
   ]
  },
  {
   "cell_type": "code",
   "execution_count": 262,
   "metadata": {},
   "outputs": [],
   "source": [
    "frb_tracer = {}\n",
    "frb_tracer[1] = flux_reconstruct(diff_tensor.Kfast.where(mask[Lcoarse]==1), \n",
    "                                 flux.where(mask[Lcoarse]==1).sel(tracer_num=1),\n",
    "                                 grads.where(mask[Lcoarse]==1).sel(tracer_num=1), grid, Lcoarse)"
   ]
  },
  {
   "cell_type": "code",
   "execution_count": 263,
   "metadata": {},
   "outputs": [
    {
     "name": "stdout",
     "output_type": "stream",
     "text": [
      "1\n",
      "3\n",
      "5\n",
      "7\n",
      "9\n",
      "11\n",
      "13\n",
      "15\n",
      "17\n",
      "19\n",
      "2\n",
      "4\n",
      "6\n",
      "8\n",
      "10\n",
      "12\n",
      "14\n",
      "16\n",
      "18\n",
      "20\n"
     ]
    }
   ],
   "source": [
    "for i in range(1,21,2):\n",
    "    print(i)\n",
    "    frb_tracer[i] = flux_reconstruct(diff_tensor.Kfast.where(mask[Lcoarse]==1),\n",
    "                                     flux.where(mask[Lcoarse]==1).sel(tracer_num=i), \n",
    "                                     grads.where(mask[Lcoarse]==1).sel(tracer_num=i), grid, Lcoarse)\n",
    "    \n",
    "for i in range(2,22,2):\n",
    "    print(i)\n",
    "    frb_tracer[i] = flux_reconstruct(diff_tensor.Kslow.where(mask[Lcoarse]==1), \n",
    "                                     flux.where(mask[Lcoarse]==1).sel(tracer_num=i), \n",
    "                                     grads.where(mask[Lcoarse]==1).sel(tracer_num=i), grid, Lcoarse)"
   ]
  },
  {
   "cell_type": "code",
   "execution_count": 264,
   "metadata": {},
   "outputs": [
    {
     "data": {
      "image/png": "[encoded data removed]",
      "text/plain": [
       "<Figure size 720x288 with 2 Axes>"
      ]
     },
     "metadata": {
      "needs_background": "light"
     },
     "output_type": "display_data"
    }
   ],
   "source": [
    "plt.figure(figsize=(10,4))\n",
    "plt.subplot(121)\n",
    "bins= np.linspace(0,5,20)\n",
    "[_,_,_] = frb_fast[50e3].errU.sel(tracer_num=1).plot.hist(bins=bins)\n",
    "[_,_,_] = frb_temp[50e3].errU.plot.hist(bins=bins, alpha=0.5)\n",
    "\n",
    "plt.subplot(122)\n",
    "bins= np.linspace(0,5,20)\n",
    "[_,_,_] = frb_fast[50e3].errV.sel(tracer_num=1).plot.hist(bins=bins)\n",
    "[_,_,_] = frb_temp[50e3].errV.plot.hist(bins=bins, alpha=0.5)\n",
    "\n",
    "plt.tight_layout()"
   ]
  },
  {
   "cell_type": "code",
   "execution_count": 265,
   "metadata": {},
   "outputs": [
    {
     "data": {
      "text/plain": [
       "<xarray.DataArray 'errdiv' ()>\n",
       "array(0.21089286, dtype=float32)\n",
       "Coordinates:\n",
       "    tracer_num  int64 1"
      ]
     },
     "execution_count": 265,
     "metadata": {},
     "output_type": "execute_result"
    }
   ],
   "source": [
    "frb_tracer[1].errdiv.sel(YCcoarse=slice(0,1800e3)).median()"
   ]
  },
  {
   "cell_type": "code",
   "execution_count": 266,
   "metadata": {},
   "outputs": [
    {
     "data": {
      "text/plain": [
       "(0, 24)"
      ]
     },
     "execution_count": 266,
     "metadata": {},
     "output_type": "execute_result"
    },
    {
     "data": {
      "image/png": "[encoded data removed]",
      "text/plain": [
       "<Figure size 360x288 with 1 Axes>"
      ]
     },
     "metadata": {
      "needs_background": "light"
     },
     "output_type": "display_data"
    }
   ],
   "source": [
    "plt.figure(figsize=(5,4))\n",
    "plt.plot(i, frb_tracer[i].errU.sel(YCcoarse=slice(0,1800e3)).median(), 's', color='k', label=r'$\\overline{u^\\prime c^\\prime}$')\n",
    "plt.plot(i, frb_tracer[i].errV.sel(YCcoarse=slice(0,1800e3)).median(), 'o', color='r', label=r'$\\overline{v^\\prime c^\\prime}$')\n",
    "plt.plot(i, frb_tracer[i].errW.sel(YCcoarse=slice(0,1800e3)).median(), '.', color='b', label=r'$\\overline{w^\\prime c^\\prime}$')\n",
    "plt.plot(i, frb_tracer[i].errdiv.sel(YCcoarse=slice(0,1800e3)).median(), 'x', color='g', label=r'$\\nabla \\cdot \\overline{\\mathbf{u}^\\prime c^\\prime}$')\n",
    "plt.legend()\n",
    "\n",
    "for i in range(1,21,1):\n",
    "    plt.plot(i, frb_tracer[i].errU.sel(YCcoarse=slice(0,1800e3)).median(), 's', color='k')\n",
    "    plt.plot(i, frb_tracer[i].errV.sel(YCcoarse=slice(0,1800e3)).median(), 'o', color='r')\n",
    "    plt.plot(i, frb_tracer[i].errW.sel(YCcoarse=slice(0,1800e3)).median(), '.', color='b')\n",
    "    plt.plot(i, frb_tracer[i].errdiv.sel(YCcoarse=slice(0,1800e3)).median(), 'x', color='g')\n",
    "\n",
    "\n",
    "\n",
    "plt.plot(23, frb_temp[50e3].errU.sel(YCcoarse=slice(0,1800e3), Z=slice(-50, -3000)).median(), 's', color='k')\n",
    "plt.plot(23, frb_temp[50e3].errV.sel(YCcoarse=slice(0,1800e3), Z=slice(-50, -3000)).median(), 'o', color='r', label='v')\n",
    "plt.plot(23, frb_temp[50e3].errW.sel(YCcoarse=slice(0,1800e3), Z=slice(-50, -3000)).median(), '.', color='b', label='w')\n",
    "plt.plot(23, frb_temp[50e3].errdiv.sel(YCcoarse=slice(0,1800e3), Z=slice(-50, -3000)).median(), 'x', color='g', label='w')\n",
    "plt.text(23, -0.015, 'Temp', fontsize=12)    \n",
    "    \n",
    "plt.xlabel('Tracer')\n",
    "plt.ylabel('Median Error PDF')\n",
    "plt.xlim([0,24])\n"
   ]
  },
  {
   "cell_type": "markdown",
   "metadata": {},
   "source": [
    "## Volume integrated error"
   ]
  },
  {
   "cell_type": "code",
   "execution_count": 288,
   "metadata": {},
   "outputs": [],
   "source": [
    "def flux_reconstruct_volume(tensor, flux, grads, grid, Lcoarse):\n",
    "\n",
    "    recUflux = -(tensor.sel(i=0, j=0)*grads.dCdx + tensor.sel(i=0, j=1)*grads.dCdy + tensor.sel(i=0, j=2)*grads.dCdz)\n",
    "    recVflux = -(tensor.sel(i=1, j=0)*grads.dCdx + tensor.sel(i=1, j=1)*grads.dCdy + tensor.sel(i=1, j=2)*grads.dCdz)\n",
    "    recWflux = -(tensor.sel(i=2, j=0)*grads.dCdx + tensor.sel(i=2, j=1)*grads.dCdy + tensor.sel(i=2, j=2)*grads.dCdz)\n",
    "    \n",
    "    errU = np.abs(flux.UpCp - recUflux)/np.abs(flux.UpCp)\n",
    "    errV = np.abs(flux.VpCp - recVflux)/np.abs(flux.VpCp)\n",
    "    errW = np.abs(flux.WpCp - recWflux)/np.abs(flux.WpCp)\n",
    "    \n",
    "    divUpCp = grid.interp(grid.diff(flux.UpCp, 'X')/Lcoarse, 'X') + \\\n",
    "              grid.interp(grid.diff(flux.VpCp, 'Y', boundary='extend')/Lcoarse, 'Y', boundary='extend') + \\\n",
    "             -grid.interp(grid.diff(flux.WpCp, 'Z', boundary='extend'), 'Z', boundary='extend')/ flux.drF\n",
    "        \n",
    "    divrecflux = grid.interp(grid.diff(recUflux, 'X')/Lcoarse, 'X') + \\\n",
    "                 grid.interp(grid.diff(recVflux, 'Y', boundary='extend')/Lcoarse, 'Y', boundary='extend') + \\\n",
    "                -grid.interp(grid.diff(recWflux, 'Z', boundary='extend'), 'Z', boundary='extend')/ flux.drF\n",
    "                    \n",
    "    errdiv_vol = np.abs( (divUpCp - divrecflux).sum(['XCcoarse', 'YCcoarse'])*flux.drF )/np.abs(divUpCp.sum(['XCcoarse', 'YCcoarse'])*flux.drF)\n",
    "    diffdiv_vol = np.abs((divUpCp - divrecflux).mean(['XCcoarse', 'YCcoarse']))\n",
    "    \n",
    "    flux_rec=xr.Dataset({'errdiv_vol':errdiv_vol, 'diffdiv_vol':diffdiv_vol})\n",
    "    \n",
    "    return flux_rec"
   ]
  },
  {
   "cell_type": "code",
   "execution_count": 289,
   "metadata": {},
   "outputs": [],
   "source": [
    "frb_temp_vol = flux_reconstruct_volume(diff_tensor.Kcorr.where(mask[Lcoarse]==1).sel(YCcoarse=slice(0,1800e3)),\n",
    "                                        fluxT.where(mask[Lcoarse]==1).sel(YCcoarse=slice(0,1800e3)), \n",
    "                                       gradT.where(mask[Lcoarse]==1).sel(YCcoarse=slice(0,1800e3)), grid_small, Lcoarse)"
   ]
  },
  {
   "cell_type": "code",
   "execution_count": 290,
   "metadata": {},
   "outputs": [
    {
     "data": {
      "image/png": "[encoded data removed]",
      "text/plain": [
       "<Figure size 324x324 with 1 Axes>"
      ]
     },
     "metadata": {
      "needs_background": "light"
     },
     "output_type": "display_data"
    }
   ],
   "source": [
    "plt.plot(frb_temp_vol.errdiv_vol, frb_temp_vol.Z)\n",
    "plt.xscale('log')"
   ]
  },
  {
   "cell_type": "code",
   "execution_count": 314,
   "metadata": {},
   "outputs": [
    {
     "data": {
      "image/png": "[encoded data removed]",
      "text/plain": [
       "<Figure size 324x324 with 1 Axes>"
      ]
     },
     "metadata": {
      "needs_background": "light"
     },
     "output_type": "display_data"
    }
   ],
   "source": [
    "plt.plot(frb_temp_vol.diffdiv_vol, frb_temp_vol.Z)\n",
    "plt.xscale('log')\n",
    "plt.xlim([1e-13, 5e-7])\n",
    "plt.xlabel(r'$ < \\nabla .(\\mathbf{u}^\\prime T^\\prime) - \\nabla .(\\mathbf{K} \\nabla T)>$')\n",
    "plt.ylabel('Depth (m)')\n",
    "plt.grid()"
   ]
  },
  {
   "cell_type": "code",
   "execution_count": 315,
   "metadata": {},
   "outputs": [
    {
     "data": {
      "text/plain": [
       "0.6430041152263375"
      ]
     },
     "execution_count": 315,
     "metadata": {},
     "output_type": "execute_result"
    }
   ],
   "source": [
    "0.1/5e-9/24/3600/360"
   ]
  },
  {
   "cell_type": "code",
   "execution_count": 312,
   "metadata": {},
   "outputs": [
    {
     "data": {
      "text/plain": [
       "321.5020576131688"
      ]
     },
     "execution_count": 312,
     "metadata": {},
     "output_type": "execute_result"
    }
   ],
   "source": [
    "0.1/1e-11/24/3600/360"
   ]
  },
  {
   "cell_type": "code",
   "execution_count": 310,
   "metadata": {},
   "outputs": [
    {
     "data": {
      "text/plain": [
       "Text(0, 0.5, 'Depth (m)')"
      ]
     },
     "execution_count": 310,
     "metadata": {},
     "output_type": "execute_result"
    },
    {
     "data": {
      "image/png": "[encoded data removed]",
      "text/plain": [
       "<Figure size 324x324 with 1 Axes>"
      ]
     },
     "metadata": {
      "needs_background": "light"
     },
     "output_type": "display_data"
    }
   ],
   "source": [
    "plt.plot(0.1/frb_temp_vol.diffdiv_vol/24/3600/360, frb_temp_vol.Z)\n",
    "plt.xscale('log')\n",
    "#plt.xlim([1e-13, 5e-7])\n",
    "plt.xlabel(r'$Tscale to change temp by 0.1C$')\n",
    "plt.ylabel('Depth (m)')"
   ]
  },
  {
   "cell_type": "code",
   "execution_count": 281,
   "metadata": {},
   "outputs": [
    {
     "name": "stdout",
     "output_type": "stream",
     "text": [
      "<xarray.DataArray ()>\n",
      "array(0.27960667, dtype=float32)\n",
      "<xarray.DataArray ()>\n",
      "array(0.28967878, dtype=float32)\n"
     ]
    }
   ],
   "source": [
    "print((frb_temp_vol.errdiv_vol*flux.drF).sel(Z=slice(-50,-3000)).sum()/ (flux.drF).sel(Z=slice(-50,-3000)).sum())\n",
    "print((frb_temp_vol.errdiv_vol*flux.drF).sel().sum()/ (flux.drF).sel().sum())"
   ]
  },
  {
   "cell_type": "code",
   "execution_count": 298,
   "metadata": {},
   "outputs": [
    {
     "data": {
      "text/plain": [
       "<xarray.DataArray 'diffdiv_vol' ()>\n",
       "array(9.415392e-09, dtype=float32)"
      ]
     },
     "execution_count": 298,
     "metadata": {},
     "output_type": "execute_result"
    }
   ],
   "source": [
    "frb_temp_vol.diffdiv_vol.mean()"
   ]
  },
  {
   "cell_type": "code",
   "execution_count": 297,
   "metadata": {},
   "outputs": [
    {
     "name": "stdout",
     "output_type": "stream",
     "text": [
      "<xarray.DataArray ()>\n",
      "array(3.9332324e-10, dtype=float32)\n"
     ]
    }
   ],
   "source": [
    "print((frb_temp_vol.diffdiv_vol*flux.drF).sel(Z=slice(-50,-3000)).sum()/ (flux.drF).sel(Z=slice(-50,-3000)).sum())"
   ]
  },
  {
   "cell_type": "markdown",
   "metadata": {},
   "source": [
    "# Correlations "
   ]
  },
  {
   "cell_type": "code",
   "execution_count": 35,
   "metadata": {},
   "outputs": [],
   "source": [
    "def flux_reconstruct_corrs(tensor, flux, grads):\n",
    "\n",
    "    recUflux = -(tensor.sel(i=0, j=0)*grads.dCdx + tensor.sel(i=0, j=1)*grads.dCdy + tensor.sel(i=0, j=2)*grads.dCdz)\n",
    "    recVflux = -(tensor.sel(i=1, j=0)*grads.dCdx + tensor.sel(i=1, j=1)*grads.dCdy + tensor.sel(i=1, j=2)*grads.dCdz)\n",
    "    recWflux = -(tensor.sel(i=2, j=0)*grads.dCdx + tensor.sel(i=2, j=1)*grads.dCdy + tensor.sel(i=2, j=2)*grads.dCdz)\n",
    "    \n",
    "    corrU = (flux.UpCp * recUflux).mean() / ((flux.UpCp**2).mean() * (recUflux**2).mean())**0.5\n",
    "    corrV = (flux.VpCp * recVflux).mean() / ((flux.VpCp**2).mean() * (recVflux**2).mean())**0.5\n",
    "    corrW = (flux.WpCp * recWflux).mean() / ((flux.WpCp**2).mean() * (recWflux**2).mean())**0.5\n",
    "    \n",
    "    corrU_pearson = ((flux.UpCp-flux.UpCp.mean()) * (recUflux-recUflux.mean())\n",
    "                    ).mean() / (((flux.UpCp-flux.UpCp.mean())**2).mean() * ((recUflux-recUflux.mean())**2).mean())**0.5\n",
    "    \n",
    "    corrV_pearson = ((flux.VpCp-flux.VpCp.mean()) * (recVflux-recVflux.mean())\n",
    "                    ).mean() / (((flux.VpCp-flux.VpCp.mean())**2).mean() * ((recVflux-recVflux.mean())**2).mean())**0.5\n",
    "    \n",
    "    corrW_pearson = ((flux.WpCp-flux.WpCp.mean()) * (recWflux-recWflux.mean())\n",
    "                    ).mean() / (((flux.WpCp-flux.WpCp.mean())**2).mean() * ((recWflux-recWflux.mean())**2).mean())**0.5\n",
    "    \n",
    "    \n",
    "    \n",
    "    #flux_rec=xr.Dataset({'UpCp':recUflux, 'VpCp':recVflux, 'WpCp':recWflux,\n",
    "    #                            'errU':errU, 'errV':errV, 'errW':errW, \n",
    "    #                     'divrecflux': divrecflux, 'divUpCp': divUpCp, \n",
    "    #                     'errdiv':errdiv, 'errdivhor':errdivhor,'errdivver':errdivver,'errdzflux':errdzflux})\n",
    "    \n",
    "    corrs = xr.Dataset({'corrU':corrU, 'corrV':corrV, 'corrW':corrW, \n",
    "                      'corrU_pearson':corrU_pearson, 'corrV_pearson':corrV_pearson, 'corrW_pearson':corrW_pearson})\n",
    "    \n",
    "    return corrs"
   ]
  },
  {
   "cell_type": "code",
   "execution_count": 196,
   "metadata": {},
   "outputs": [],
   "source": [
    "def fluxdiv_reconstruct_corrs(tensor, flux, grads, grid, Lcoarse):\n",
    "\n",
    "    recUflux = -(tensor.sel(i=0, j=0)*grads.dCdx + tensor.sel(i=0, j=1)*grads.dCdy + tensor.sel(i=0, j=2)*grads.dCdz)\n",
    "    recVflux = -(tensor.sel(i=1, j=0)*grads.dCdx + tensor.sel(i=1, j=1)*grads.dCdy + tensor.sel(i=1, j=2)*grads.dCdz)\n",
    "    recWflux = -(tensor.sel(i=2, j=0)*grads.dCdx + tensor.sel(i=2, j=1)*grads.dCdy + tensor.sel(i=2, j=2)*grads.dCdz)\n",
    "        \n",
    "    divUpCp = grid.interp(grid.diff(flux.UpCp, 'X')/Lcoarse, 'X') + \\\n",
    "              grid.interp(grid.diff(flux.VpCp, 'Y', boundary='extend')/Lcoarse, 'Y', boundary='extend') + \\\n",
    "             -grid.interp(grid.diff(flux.WpCp, 'Z', boundary='extend'), 'Z', boundary='extend')/ flux.drF\n",
    "            \n",
    "    divrecflux = grid.interp(grid.diff(recUflux, 'X')/Lcoarse, 'X') + \\\n",
    "                 grid.interp(grid.diff(recVflux, 'Y', boundary='extend')/Lcoarse, 'Y', boundary='extend') + \\\n",
    "                -grid.interp(grid.diff(recWflux, 'Z', boundary='extend'), 'Z', boundary='extend')/ flux.drF\n",
    "            \n",
    "    corrdiv_pearson = ((divUpCp-divUpCp.mean()) * (divrecflux-divrecflux.mean())\n",
    "                    ).mean() / (((divUpCp-divUpCp.mean())**2).mean() * ((divrecflux-divrecflux.mean())**2).mean())**0.5\n",
    "    \n",
    "    \n",
    "    corrs = xr.Dataset({'corrdiv':corrdiv_pearson})\n",
    "    \n",
    "    return corrs"
   ]
  },
  {
   "cell_type": "code",
   "execution_count": 197,
   "metadata": {},
   "outputs": [],
   "source": [
    "Lcoarse = 50e3\n",
    "diff_tensor = xr.open_dataset('./outputs_ncfiles/diff_tensor_'+str(int(Lcoarse//1e3))+'km.nc')\n",
    "Trac_coarse = xr.open_dataset('./outputs_ncfiles/Trac_coarse_'+str(int(Lcoarse//1e3))+'km.nc')\n",
    "Vels_coarse = xr.open_dataset('./outputs_ncfiles/Vels_coarse_'+str(int(Lcoarse//1e3))+'km.nc')\n",
    "T_coarse    = xr.open_dataset('./outputs_ncfiles/T_coarse_'+str(int(Lcoarse//1e3))+'km.nc')\n",
    "\n",
    "mask[Lcoarse] = Trac_coarse.hFacCcoarse\n",
    "# compute fluxes and gradients\n",
    "[UpCp, VpCp, WpCp] = get_flux_arrays(Trac_coarse, list_trac)\n",
    "[dCdx, dCdy, dCdz]= get_grad_arrays(Trac_coarse, list_trac)\n",
    "fluxT = xr.Dataset({'UpCp':T_coarse.UpTp, 'VpCp':T_coarse.VpTp, 'WpCp':T_coarse.WpTp})\n",
    "gradT = xr.Dataset({'dCdx':T_coarse.T_X, 'dCdy':T_coarse.T_Y, 'dCdz':T_coarse.T_Z})\n",
    "flux = xr.Dataset({'UpCp':UpCp, 'VpCp':VpCp, 'WpCp':WpCp})\n",
    "grads = xr.Dataset({'dCdx':dCdx, 'dCdy':dCdy, 'dCdz':dCdz})"
   ]
  },
  {
   "cell_type": "code",
   "execution_count": 198,
   "metadata": {},
   "outputs": [],
   "source": [
    "# define a grid for taking gradients on coarse grid\n",
    "grid_ds = xr.Dataset()\n",
    "grid_ds['TRAC01'] = Trac_coarse['TRAC01']\n",
    "grid_ds['wVeltave'] = Model_Tav['wVeltave']\n",
    "grid_ds = grid_ds.drop(['wVeltave','XC','YC']).isel(XC=0, YC=0)\n",
    "ds = generate_grid_ds(grid_ds.sel(YCcoarse=slice(0,1800e3)), {'X': 'XCcoarse', 'Y':'YCcoarse'})\n",
    "grid_small = Grid(ds, periodic='X')"
   ]
  },
  {
   "cell_type": "code",
   "execution_count": 232,
   "metadata": {},
   "outputs": [],
   "source": [
    "corrs = {}\n",
    "corrs_div = {}\n",
    "\n",
    "i=1\n",
    "corrs[i] = flux_reconstruct_corrs(diff_tensor.Kfast.sel(YCcoarse=slice(0,1800e3)),\n",
    "                                  flux.sel(tracer_num=i).sel(YCcoarse=slice(0,1800e3)),\n",
    "                                  grads.sel(tracer_num=i).sel(YCcoarse=slice(0,1800e3)))\n",
    "corrs_div[i] = fluxdiv_reconstruct_corrs(diff_tensor.Kfast.sel(YCcoarse=slice(0,1800e3)),\n",
    "                                flux.sel(tracer_num=i).sel(YCcoarse=slice(0,1800e3)), \n",
    "                                grads.sel(tracer_num=i).sel(YCcoarse=slice(0,1800e3)), grid_small, Lcoarse)"
   ]
  },
  {
   "cell_type": "code",
   "execution_count": 233,
   "metadata": {},
   "outputs": [
    {
     "name": "stdout",
     "output_type": "stream",
     "text": [
      "1\n",
      "3\n",
      "5\n",
      "7\n",
      "9\n",
      "11\n",
      "13\n",
      "15\n",
      "17\n",
      "19\n",
      "2\n",
      "4\n",
      "6\n",
      "8\n",
      "10\n",
      "12\n",
      "14\n",
      "16\n",
      "18\n",
      "20\n"
     ]
    }
   ],
   "source": [
    "for i in range(1,21,2):\n",
    "    print(i)\n",
    "    corrs[i] = flux_reconstruct_corrs(diff_tensor.Kfast.sel(YCcoarse=slice(0,1800e3)), \n",
    "                                      flux.sel(tracer_num=i).sel(YCcoarse=slice(0,1800e3)), \n",
    "                                      grads.sel(tracer_num=i).sel(YCcoarse=slice(0,1800e3)))\n",
    "    corrs_div[i] = fluxdiv_reconstruct_corrs(diff_tensor.Kfast.sel(YCcoarse=slice(0,1800e3)),\n",
    "                                flux.sel(tracer_num=i).sel(YCcoarse=slice(0,1800e3)), \n",
    "                                grads.sel(tracer_num=i).sel(YCcoarse=slice(0,1800e3)), grid_small, Lcoarse)\n",
    "    \n",
    "for i in range(2,22,2):\n",
    "    print(i)\n",
    "    corrs[i] = flux_reconstruct_corrs(diff_tensor.Kslow.sel(YCcoarse=slice(0,1800e3)),\n",
    "                                      flux.sel(tracer_num=i).sel(YCcoarse=slice(0,1800e3)), \n",
    "                                      grads.sel(tracer_num=i).sel(YCcoarse=slice(0,1800e3)))\n",
    "    corrs_div[i] = fluxdiv_reconstruct_corrs(diff_tensor.Kfast.sel(YCcoarse=slice(0,1800e3)),\n",
    "                                flux.sel(tracer_num=i).sel(YCcoarse=slice(0,1800e3)), \n",
    "                                grads.sel(tracer_num=i).sel(YCcoarse=slice(0,1800e3)), grid_small, Lcoarse)"
   ]
  },
  {
   "cell_type": "code",
   "execution_count": 234,
   "metadata": {},
   "outputs": [
    {
     "data": {
      "text/plain": [
       "(0, 21)"
      ]
     },
     "execution_count": 234,
     "metadata": {},
     "output_type": "execute_result"
    },
    {
     "data": {
      "image/png": "[encoded data removed]",
      "text/plain": [
       "<Figure size 324x324 with 1 Axes>"
      ]
     },
     "metadata": {
      "needs_background": "light"
     },
     "output_type": "display_data"
    }
   ],
   "source": [
    "\n",
    "plt.plot(i, corrs[i].corrU_pearson, 's', color='k', label='u')\n",
    "plt.plot(i, corrs[i].corrV_pearson, 'o', color='r', label='v')\n",
    "plt.plot(i, corrs[i].corrW_pearson, '.', color='b', label='w')\n",
    "plt.plot(i, corrs_div[i].corrdiv, 'x', color='g', label='w')\n",
    "plt.legend()\n",
    "\n",
    "for i in range(1,21,1):\n",
    "    plt.plot(i, corrs[i].corrU_pearson, 's', color='k')\n",
    "    plt.plot(i, corrs[i].corrV_pearson, 'o', color='r')\n",
    "    plt.plot(i, corrs[i].corrW_pearson, '.', color='b')\n",
    "    plt.plot(i, corrs_div[i].corrdiv, 'x', color='g', label='w')\n",
    "\n",
    "\n",
    "plt.xlabel('Tracer Number')\n",
    "plt.ylabel('Correlation')\n",
    "plt.xlim([0,21])\n"
   ]
  },
  {
   "cell_type": "code",
   "execution_count": null,
   "metadata": {},
   "outputs": [],
   "source": []
  },
  {
   "cell_type": "code",
   "execution_count": 211,
   "metadata": {},
   "outputs": [],
   "source": [
    "# define a grid for taking gradients on coarse grid\n",
    "grid_ds = xr.Dataset()\n",
    "grid_ds['TRAC01'] = Trac_coarse['TRAC01']\n",
    "grid_ds['wVeltave'] = Model_Tav['wVeltave']\n",
    "grid_ds = grid_ds.drop(['wVeltave','XC','YC']).isel(XC=0, YC=0)\n",
    "ds_small_nosurf = generate_grid_ds(grid_ds.sel(YCcoarse=slice(0,1800e3), Z=slice(-50, -3000), Zl=slice(-50, -3000)), {'X': 'XCcoarse', 'Y':'YCcoarse'})\n",
    "grid_small_nosurf = Grid(ds_small_nosurf, periodic='X')"
   ]
  },
  {
   "cell_type": "code",
   "execution_count": 213,
   "metadata": {},
   "outputs": [],
   "source": [
    "corrs_temp = flux_reconstruct_corrs(diff_tensor.Kcorr.sel(YCcoarse=slice(0,1800e3), Z=slice(-50, -3000)),\n",
    "                                    fluxT.sel(YCcoarse=slice(0,1800e3), Z=slice(-50, -3000)), \n",
    "                                    gradT.sel(YCcoarse=slice(0,1800e3), Z=slice(-50, -3000)))\n",
    "corrs_temp_div = fluxdiv_reconstruct_corrs(diff_tensor.Kcorr.sel(YCcoarse=slice(0,1800e3), Z=slice(-50, -3000)),\n",
    "                                fluxT.sel(YCcoarse=slice(0,1800e3), Z=slice(-50, -3000)), \n",
    "                                gradT.sel(YCcoarse=slice(0,1800e3), Z=slice(-50, -3000)), grid_small_nosurf, Lcoarse)"
   ]
  },
  {
   "cell_type": "code",
   "execution_count": 248,
   "metadata": {},
   "outputs": [
    {
     "data": {
      "image/png": "[encoded data removed]",
      "text/plain": [
       "<Figure size 648x252 with 2 Axes>"
      ]
     },
     "metadata": {
      "needs_background": "light"
     },
     "output_type": "display_data"
    }
   ],
   "source": [
    "plt.figure(figsize=(9,3.5))\n",
    "i=1\n",
    "plt.subplot(121)\n",
    "plt.plot(i, frb_tracer[i].errU.sel(YCcoarse=slice(0,1800e3)).median(), 's', color='k', label=r'$\\overline{u^\\prime c^\\prime}$')\n",
    "plt.plot(i, frb_tracer[i].errV.sel(YCcoarse=slice(0,1800e3)).median(), 'o', color='r', label=r'$\\overline{v^\\prime c^\\prime}$')\n",
    "plt.plot(i, frb_tracer[i].errW.sel(YCcoarse=slice(0,1800e3)).median(), '.', color='b', label=r'$\\overline{w^\\prime c^\\prime}$')\n",
    "plt.plot(i, frb_tracer[i].errdiv.sel(YCcoarse=slice(0,1800e3)).median(), 'x', color='g', label=r'$\\nabla \\cdot \\overline{\\mathbf{u}^\\prime c^\\prime}$')\n",
    "plt.legend()\n",
    "\n",
    "for i in range(1,21,1):\n",
    "    plt.plot(i, frb_tracer[i].errU.sel(YCcoarse=slice(0,1800e3)).median(), 's', color='k')\n",
    "    plt.plot(i, frb_tracer[i].errV.sel(YCcoarse=slice(0,1800e3)).median(), 'o', color='r')\n",
    "    plt.plot(i, frb_tracer[i].errW.sel(YCcoarse=slice(0,1800e3)).median(), '.', color='b')\n",
    "    plt.plot(i, frb_tracer[i].errdiv.sel(YCcoarse=slice(0,1800e3)).median(), 'x', color='g')\n",
    "\n",
    "\n",
    "\n",
    "plt.plot(23, frb_temp[50e3].errU.sel(YCcoarse=slice(0,1800e3)).median(), 's', color='k', label='u')\n",
    "plt.plot(23, frb_temp[50e3].errV.sel(YCcoarse=slice(0,1800e3)).median(), 'o', color='r', label='v')\n",
    "plt.plot(23, frb_temp[50e3].errW.sel(YCcoarse=slice(0,1800e3)).median(), '.', color='b', label='w')\n",
    "plt.plot(23, frb_temp[50e3].errdiv.sel(YCcoarse=slice(0,1800e3)).median(), 'x', color='g')\n",
    "plt.text(23, -0.07, 'T', fontsize=12)    \n",
    "    \n",
    "plt.xlabel('Tracer')\n",
    "plt.ylabel('Median of Error PDF')\n",
    "plt.xlim([0,24])\n",
    "plt.ylim([0,1])\n",
    "\n",
    "plt.subplot(122)\n",
    "\n",
    "for i in range(1,21,1):\n",
    "    plt.plot(i, corrs[i].corrU_pearson, 's', color='k')\n",
    "    plt.plot(i, corrs[i].corrV_pearson, 'o', color='r')\n",
    "    plt.plot(i, corrs[i].corrW_pearson, '.', color='b')\n",
    "    plt.plot(i, corrs_div[i].corrdiv, 'x', color='g')\n",
    "\n",
    "plt.plot(23, corrs_temp.corrU_pearson, 's', color='k')\n",
    "plt.plot(23, corrs_temp.corrV_pearson, 'o', color='r')\n",
    "plt.plot(23, corrs_temp.corrW_pearson, '.', color='b')\n",
    "plt.plot(23, corrs_temp_div.corrdiv, 'x', color='g')\n",
    "plt.text(23, 0.73, 'T', fontsize=12)    \n",
    "\n",
    "plt.xlabel('Tracer')\n",
    "plt.ylabel('r')\n",
    "plt.xlim([0,24])\n",
    "plt.ylim([0.75, 1])\n",
    "\n",
    "plt.tight_layout()\n",
    "\n",
    "plt.savefig('errors.pdf')"
   ]
  },
  {
   "cell_type": "code",
   "execution_count": 8,
   "metadata": {},
   "outputs": [],
   "source": [
    "bins = np.linspace(0,30,300)\n",
    "colors = ['R', 'b', 'g', 'k']\n",
    "params = {\n",
    "   'axes.labelsize': 12,\n",
    "   'font.size': 12,\n",
    "   'legend.fontsize': 12,\n",
    "   'xtick.labelsize': 12,\n",
    "   'ytick.labelsize': 12,\n",
    "   'text.usetex': False,\n",
    "   'figure.figsize': [4.5, 4.5]\n",
    "   }\n",
    "plt.rcParams.update(params)"
   ]
  },
  {
   "cell_type": "code",
   "execution_count": 13,
   "metadata": {},
   "outputs": [
    {
     "name": "stderr",
     "output_type": "stream",
     "text": [
      "/home/dbalwada/.conda/envs/pangeo/lib/python3.6/site-packages/matplotlib/axes/_axes.py:6499: MatplotlibDeprecationWarning: \n",
      "The 'normed' kwarg was deprecated in Matplotlib 2.1 and will be removed in 3.1. Use 'density' instead.\n",
      "  alternative=\"'density'\", removal=\"3.1\")\n",
      "/home/dbalwada/.conda/envs/pangeo/lib/python3.6/site-packages/matplotlib/axes/_axes.py:6499: MatplotlibDeprecationWarning: \n",
      "The 'normed' kwarg was deprecated in Matplotlib 2.1 and will be removed in 3.1. Use 'density' instead.\n",
      "  alternative=\"'density'\", removal=\"3.1\")\n",
      "/home/dbalwada/.conda/envs/pangeo/lib/python3.6/site-packages/matplotlib/axes/_axes.py:6499: MatplotlibDeprecationWarning: \n",
      "The 'normed' kwarg was deprecated in Matplotlib 2.1 and will be removed in 3.1. Use 'density' instead.\n",
      "  alternative=\"'density'\", removal=\"3.1\")\n",
      "/home/dbalwada/.conda/envs/pangeo/lib/python3.6/site-packages/matplotlib/axes/_axes.py:6499: MatplotlibDeprecationWarning: \n",
      "The 'normed' kwarg was deprecated in Matplotlib 2.1 and will be removed in 3.1. Use 'density' instead.\n",
      "  alternative=\"'density'\", removal=\"3.1\")\n",
      "/home/dbalwada/.conda/envs/pangeo/lib/python3.6/site-packages/matplotlib/axes/_axes.py:6499: MatplotlibDeprecationWarning: \n",
      "The 'normed' kwarg was deprecated in Matplotlib 2.1 and will be removed in 3.1. Use 'density' instead.\n",
      "  alternative=\"'density'\", removal=\"3.1\")\n",
      "/home/dbalwada/.conda/envs/pangeo/lib/python3.6/site-packages/matplotlib/axes/_axes.py:6499: MatplotlibDeprecationWarning: \n",
      "The 'normed' kwarg was deprecated in Matplotlib 2.1 and will be removed in 3.1. Use 'density' instead.\n",
      "  alternative=\"'density'\", removal=\"3.1\")\n"
     ]
    },
    {
     "data": {
      "image/png": "[encoded data removed]",
      "text/plain": [
       "<Figure size 648x324 with 2 Axes>"
      ]
     },
     "metadata": {
      "needs_background": "light"
     },
     "output_type": "display_data"
    }
   ],
   "source": [
    "plt.figure(figsize=(9,4.5))\n",
    "Lcoarse = 50e3\n",
    "\n",
    "plt.subplot(122)\n",
    "\n",
    "frb_fast[Lcoarse].errdiv.where(mask[Lcoarse]==1).sel(YCcoarse=slice(0,1800e3)).plot.hist(bins=bins, normed=True,\n",
    "             histtype='step',edgecolor= 'g', linewidth=1, fill=False, label = '1 Year')\n",
    "frb_slow[Lcoarse].errdiv.where(mask[Lcoarse]==1).sel(YCcoarse=slice(0,1800e3)).plot.hist(bins=bins, normed=True,\n",
    "             histtype='step',edgecolor= 'r', linewidth=1, fill=False, label = '6 Years')\n",
    "frb_corr[Lcoarse].errdiv.where(mask[Lcoarse]==1).sel(YCcoarse=slice(0,1800e3)).plot.hist(bins=bins, normed=True,\n",
    "             histtype='step',edgecolor= 'b', linewidth=2, fill=False, label = 'Corrected')\n",
    "\n",
    "plt.xlim([0,2])\n",
    "plt.title(r'E($\\nabla.(\\mathbf{u}$b))')\n",
    "plt.xlabel('Error')\n",
    "plt.ylabel('PDF')\n",
    "\n",
    "plt.subplot(121)\n",
    "\n",
    "frb_fast[Lcoarse].errU.where(mask[Lcoarse]==1).sel(YCcoarse=slice(0,1800e3)).plot.hist(bins=bins, normed=True,\n",
    "             histtype='step',edgecolor= 'g', linewidth=1, fill=False, label = '1 Year')\n",
    "frb_slow[Lcoarse].errU.where(mask[Lcoarse]==1).sel(YCcoarse=slice(0,1800e3)).plot.hist(bins=bins, normed=True,\n",
    "             histtype='step',edgecolor= 'r', linewidth=1, fill=False, label = '6 Years')\n",
    "frb_corr[Lcoarse].errU.where(mask[Lcoarse]==1).sel(YCcoarse=slice(0,1800e3)).plot.hist(bins=bins, normed=True,\n",
    "             histtype='step',edgecolor= 'b', linewidth=2, fill=False, label = 'Corrected')\n",
    "\n",
    "plt.xlim([0,2])\n",
    "plt.legend()\n",
    "plt.title(r'E(ub)')\n",
    "plt.xlabel('Error')\n",
    "plt.ylabel('PDF')\n",
    "plt.tight_layout()\n",
    "plt.savefig('fig2c.pdf', dpi=200,bbox_inches='tight')"
   ]
  },
  {
   "cell_type": "code",
   "execution_count": 137,
   "metadata": {},
   "outputs": [
    {
     "name": "stderr",
     "output_type": "stream",
     "text": [
      "/home/dbalwada/.conda/envs/pangeo/lib/python3.6/site-packages/matplotlib/figure.py:98: MatplotlibDeprecationWarning: \n",
      "Adding an axes using the same arguments as a previous axes currently reuses the earlier instance.  In a future version, a new instance will always be created and returned.  Meanwhile, this warning can be suppressed, and the future behavior ensured, by passing a unique label to each axes instance.\n",
      "  \"Adding an axes using the same arguments as a previous axes \"\n",
      "/home/dbalwada/.conda/envs/pangeo/lib/python3.6/site-packages/matplotlib/figure.py:98: MatplotlibDeprecationWarning: \n",
      "Adding an axes using the same arguments as a previous axes currently reuses the earlier instance.  In a future version, a new instance will always be created and returned.  Meanwhile, this warning can be suppressed, and the future behavior ensured, by passing a unique label to each axes instance.\n",
      "  \"Adding an axes using the same arguments as a previous axes \"\n",
      "/home/dbalwada/.conda/envs/pangeo/lib/python3.6/site-packages/matplotlib/figure.py:98: MatplotlibDeprecationWarning: \n",
      "Adding an axes using the same arguments as a previous axes currently reuses the earlier instance.  In a future version, a new instance will always be created and returned.  Meanwhile, this warning can be suppressed, and the future behavior ensured, by passing a unique label to each axes instance.\n",
      "  \"Adding an axes using the same arguments as a previous axes \"\n",
      "/home/dbalwada/.conda/envs/pangeo/lib/python3.6/site-packages/matplotlib/figure.py:98: MatplotlibDeprecationWarning: \n",
      "Adding an axes using the same arguments as a previous axes currently reuses the earlier instance.  In a future version, a new instance will always be created and returned.  Meanwhile, this warning can be suppressed, and the future behavior ensured, by passing a unique label to each axes instance.\n",
      "  \"Adding an axes using the same arguments as a previous axes \"\n",
      "/home/dbalwada/.conda/envs/pangeo/lib/python3.6/site-packages/matplotlib/figure.py:98: MatplotlibDeprecationWarning: \n",
      "Adding an axes using the same arguments as a previous axes currently reuses the earlier instance.  In a future version, a new instance will always be created and returned.  Meanwhile, this warning can be suppressed, and the future behavior ensured, by passing a unique label to each axes instance.\n",
      "  \"Adding an axes using the same arguments as a previous axes \"\n",
      "/home/dbalwada/.conda/envs/pangeo/lib/python3.6/site-packages/matplotlib/figure.py:98: MatplotlibDeprecationWarning: \n",
      "Adding an axes using the same arguments as a previous axes currently reuses the earlier instance.  In a future version, a new instance will always be created and returned.  Meanwhile, this warning can be suppressed, and the future behavior ensured, by passing a unique label to each axes instance.\n",
      "  \"Adding an axes using the same arguments as a previous axes \"\n",
      "/home/dbalwada/.conda/envs/pangeo/lib/python3.6/site-packages/matplotlib/figure.py:98: MatplotlibDeprecationWarning: \n",
      "Adding an axes using the same arguments as a previous axes currently reuses the earlier instance.  In a future version, a new instance will always be created and returned.  Meanwhile, this warning can be suppressed, and the future behavior ensured, by passing a unique label to each axes instance.\n",
      "  \"Adding an axes using the same arguments as a previous axes \"\n"
     ]
    },
    {
     "data": {
      "image/png": "[encoded data removed]",
      "text/plain": [
       "<Figure size 648x324 with 2 Axes>"
      ]
     },
     "metadata": {
      "needs_background": "light"
     },
     "output_type": "display_data"
    }
   ],
   "source": [
    "plt.figure(figsize=(9,4.5))\n",
    "n=0\n",
    "for Lcoarse in Lcoarselist:\n",
    "    plt.subplot(121)\n",
    "    frb_corr[Lcoarse].errdiv.where(mask[Lcoarse]==1).plot.hist(bins=bins, density=True,\n",
    "                         histtype='step',edgecolor= colors[n], linewidth=2, fill=False, label = str('%3.0f' %(Lcoarse/1e3))+'km')\n",
    "\n",
    "    plt.subplot(122)\n",
    "    frb_corr[Lcoarse].errU.where(mask[Lcoarse]==1).plot.hist(bins=bins, density=True,\n",
    "                         histtype='step',edgecolor= colors[n], linewidth=2, fill=False, label = str('%3.0f' %(Lcoarse/1e3))+'km')\n",
    "\n",
    "    n+=1\n",
    "    \n",
    "plt.subplot(121)\n",
    "plt.xlim([-0.2,2])\n",
    "plt.legend()\n",
    "plt.title(r'E($\\nabla.(\\mathbf{u}$b))')\n",
    "plt.xlabel('Error')\n",
    "plt.ylabel('PDF')\n",
    "\n",
    "plt.subplot(122)\n",
    "plt.xlim([-0.2,2])\n",
    "plt.title(r'E(ub))')\n",
    "plt.xlabel('Error')\n",
    "plt.ylabel('PDF')\n",
    "plt.tight_layout()\n"
   ]
  },
  {
   "cell_type": "code",
   "execution_count": 9,
   "metadata": {},
   "outputs": [
    {
     "data": {
      "image/png": "[encoded data removed]",
      "text/plain": [
       "<Figure size 324x324 with 1 Axes>"
      ]
     },
     "metadata": {
      "needs_background": "light"
     },
     "output_type": "display_data"
    }
   ],
   "source": [
    "for Lcoarse in Lcoarselist: \n",
    "    temp = frb_corr[Lcoarse]\n",
    "    hFacCcoarse = mask[Lcoarse]\n",
    "    \n",
    "    if Lcoarse == 25e3 :\n",
    "        \n",
    "        plt.plot(Lcoarse/1e3, temp.errU.where(hFacCcoarse==1.).median(['XCcoarse', 'YCcoarse','Z']),\n",
    "                 'rs', label='E(ub)')\n",
    "        plt.plot(Lcoarse/1e3, temp.errV.where(hFacCcoarse==1.).median(['XCcoarse', 'YCcoarse','Z']), 'kv', label='E(vb)')\n",
    "        plt.plot(Lcoarse/1e3, temp.errW.where(hFacCcoarse==1.).median(['XCcoarse', 'YCcoarse','Z']), 'bP', label='E(wb)')\n",
    "\n",
    "        plt.plot(Lcoarse/1e3, temp.errdiv.where(hFacCcoarse==1.).median(['XCcoarse', 'YCcoarse','Z']), 'rX', label=r'E($\\nabla.\\mathbf{u}$b)')\n",
    "        plt.plot(Lcoarse/1e3, temp.errdzflux.where(hFacCcoarse==1.).median(['XCcoarse', 'YCcoarse','Z']), 'bx', label=r'E($\\frac{d}{dz}\\mathbf{u}_H$b)')        \n",
    "#        plt.plot(Lcoarse/1e3, temp.errdivhor.where(hFacCcoarse==1.).median(['XCcoarse', 'YCcoarse','Z']), 'bx', label=r'E($\\nabla_H.\\mathbf{u}_H$b)')\n",
    "#        plt.plot(Lcoarse/1e3, temp.errdivver.where(hFacCcoarse==1.).median(['XCcoarse', 'YCcoarse','Z']), 'bh', label=r'E($\\nabla_z.\\mathbf{u}_z$b)')\n",
    "    else:\n",
    "        plt.plot(Lcoarse/1e3, temp.errU.where(hFacCcoarse==1.).median(['XCcoarse', 'YCcoarse','Z']), 'rs')\n",
    "        plt.plot(Lcoarse/1e3, temp.errV.where(hFacCcoarse==1.).median(['XCcoarse', 'YCcoarse','Z']), 'kv')\n",
    "        plt.plot(Lcoarse/1e3, temp.errW.where(hFacCcoarse==1.).median(['XCcoarse', 'YCcoarse','Z']), 'bP')\n",
    "\n",
    "        plt.plot(Lcoarse/1e3, temp.errdiv.where(hFacCcoarse==1.).median(['XCcoarse', 'YCcoarse','Z']), 'rX')\n",
    "        plt.plot(Lcoarse/1e3, temp.errdzflux.where(hFacCcoarse==1.).median(['XCcoarse', 'YCcoarse','Z']), 'bx')   \n",
    "#        plt.plot(Lcoarse/1e3, temp.errdivhor.where(hFacCcoarse==1.).median(['XCcoarse', 'YCcoarse','Z']), 'bx')   \n",
    "#        plt.plot(Lcoarse/1e3, temp.errdivver.where(hFacCcoarse==1.).median(['XCcoarse', 'YCcoarse','Z']), 'bh')\n",
    "        \n",
    "        \n",
    "plt.legend(loc='best')    \n",
    "plt.xlabel('Coarsening Scale (km)')\n",
    "plt.ylabel('Median of Error PDF')\n",
    "plt.title('Using all 10 tracers')\n",
    "plt.ylim([0,1])      \n",
    "#plt.savefig('fig2b.pdf', dpi=200,bbox_inches='tight')"
   ]
  },
  {
   "cell_type": "code",
   "execution_count": 139,
   "metadata": {},
   "outputs": [
    {
     "ename": "KeyError",
     "evalue": "25000.0",
     "output_type": "error",
     "traceback": [
      "\u001b[0;31m---------------------------------------------------------------------------\u001b[0m",
      "\u001b[0;31mKeyError\u001b[0m                                  Traceback (most recent call last)",
      "\u001b[0;32m<ipython-input-139-bf827bf4ddb2>\u001b[0m in \u001b[0;36m<module>\u001b[0;34m\u001b[0m\n\u001b[1;32m      1\u001b[0m \u001b[0;32mfor\u001b[0m \u001b[0mLcoarse\u001b[0m \u001b[0;32min\u001b[0m \u001b[0mLcoarselist\u001b[0m\u001b[0;34m:\u001b[0m\u001b[0;34m\u001b[0m\u001b[0;34m\u001b[0m\u001b[0m\n\u001b[0;32m----> 2\u001b[0;31m     \u001b[0mtemp\u001b[0m \u001b[0;34m=\u001b[0m \u001b[0mfrb_corr\u001b[0m\u001b[0;34m[\u001b[0m\u001b[0mLcoarse\u001b[0m\u001b[0;34m]\u001b[0m\u001b[0;34m\u001b[0m\u001b[0;34m\u001b[0m\u001b[0m\n\u001b[0m\u001b[1;32m      3\u001b[0m     \u001b[0mhFacCcoarse\u001b[0m \u001b[0;34m=\u001b[0m \u001b[0mmask\u001b[0m\u001b[0;34m[\u001b[0m\u001b[0mLcoarse\u001b[0m\u001b[0;34m]\u001b[0m\u001b[0;34m\u001b[0m\u001b[0;34m\u001b[0m\u001b[0m\n\u001b[1;32m      4\u001b[0m \u001b[0;34m\u001b[0m\u001b[0m\n\u001b[1;32m      5\u001b[0m     \u001b[0;32mif\u001b[0m \u001b[0mLcoarse\u001b[0m \u001b[0;34m==\u001b[0m \u001b[0;36m25e3\u001b[0m \u001b[0;34m:\u001b[0m\u001b[0;34m\u001b[0m\u001b[0;34m\u001b[0m\u001b[0m\n",
      "\u001b[0;31mKeyError\u001b[0m: 25000.0"
     ]
    }
   ],
   "source": [
    "for Lcoarse in Lcoarselist: \n",
    "    temp = frb_corr[Lcoarse]\n",
    "    hFacCcoarse = mask[Lcoarse]\n",
    "    \n",
    "    if Lcoarse == 25e3 :\n",
    "        \n",
    "        plt.plot(Lcoarse/1e3, temp.errU.where(hFacCcoarse==1.).sel(YCcoarse=slice(0,1800e3)).median(['XCcoarse', 'YCcoarse','Z']),\n",
    "                 'rs', label='E(ub)')\n",
    "        plt.plot(Lcoarse/1e3, temp.errV.where(hFacCcoarse==1.).sel(YCcoarse=slice(0,1800e3)).median(['XCcoarse', 'YCcoarse','Z']), 'kv', label='E(vb)')\n",
    "        plt.plot(Lcoarse/1e3, temp.errW.where(hFacCcoarse==1.).sel(YCcoarse=slice(0,1800e3)).median(['XCcoarse', 'YCcoarse','Z']), 'bP', label='E(wb)')\n",
    "\n",
    "        plt.plot(Lcoarse/1e3, temp.errdiv.where(hFacCcoarse==1.).sel(YCcoarse=slice(0,1800e3)).median(['XCcoarse', 'YCcoarse','Z']), 'rX', label=r'E($\\nabla.\\mathbf{u}$b)')\n",
    "        plt.plot(Lcoarse/1e3, temp.errdzflux.where(hFacCcoarse==1.).sel(YCcoarse=slice(0,1800e3)).median(['XCcoarse', 'YCcoarse','Z']), 'bx', label=r'E($\\frac{d}{dz}\\mathbf{u}_H$b)')        \n",
    "#        plt.plot(Lcoarse/1e3, temp.errdivhor.where(hFacCcoarse==1.).median(['XCcoarse', 'YCcoarse','Z']), 'bx', label=r'E($\\nabla_H.\\mathbf{u}_H$b)')\n",
    "#        plt.plot(Lcoarse/1e3, temp.errdivver.where(hFacCcoarse==1.).median(['XCcoarse', 'YCcoarse','Z']), 'bh', label=r'E($\\nabla_z.\\mathbf{u}_z$b)')\n",
    "    else:\n",
    "        plt.plot(Lcoarse/1e3, temp.errU.where(hFacCcoarse==1.).sel(YCcoarse=slice(0,1800e3)).median(['XCcoarse', 'YCcoarse','Z']), 'rs')\n",
    "        plt.plot(Lcoarse/1e3, temp.errV.where(hFacCcoarse==1.).sel(YCcoarse=slice(0,1800e3)).median(['XCcoarse', 'YCcoarse','Z']), 'kv')\n",
    "        plt.plot(Lcoarse/1e3, temp.errW.where(hFacCcoarse==1.).sel(YCcoarse=slice(0,1800e3)).median(['XCcoarse', 'YCcoarse','Z']), 'bP')\n",
    "\n",
    "        plt.plot(Lcoarse/1e3, temp.errdiv.where(hFacCcoarse==1.).sel(YCcoarse=slice(0,1800e3)).median(['XCcoarse', 'YCcoarse','Z']), 'rX')\n",
    "        plt.plot(Lcoarse/1e3, temp.errdzflux.where(hFacCcoarse==1.).sel(YCcoarse=slice(0,1800e3)).median(['XCcoarse', 'YCcoarse','Z']), 'bx')   \n",
    "#        plt.plot(Lcoarse/1e3, temp.errdivhor.where(hFacCcoarse==1.).median(['XCcoarse', 'YCcoarse','Z']), 'bx')   \n",
    "#        plt.plot(Lcoarse/1e3, temp.errdivver.where(hFacCcoarse==1.).median(['XCcoarse', 'YCcoarse','Z']), 'bh')\n",
    "        \n",
    "        \n",
    "plt.legend(loc='best')    \n",
    "plt.xlabel('Coarsening Scale (km)')\n",
    "plt.ylabel('Median of Error PDF')\n",
    "plt.title('Using all 10 tracers')\n",
    "plt.ylim([0,1])      \n",
    "#plt.savefig('fig2b.pdf', dpi=200,bbox_inches='tight')"
   ]
  },
  {
   "cell_type": "code",
   "execution_count": null,
   "metadata": {},
   "outputs": [],
   "source": []
  }
 ],
 "metadata": {
  "kernelspec": {
   "display_name": "Pangeo",
   "language": "python",
   "name": "pangeo"
  },
  "language_info": {
   "codemirror_mode": {
    "name": "ipython",
    "version": 3
   },
   "file_extension": ".py",
   "mimetype": "text/x-python",
   "name": "python",
   "nbconvert_exporter": "python",
   "pygments_lexer": "ipython3",
   "version": "3.6.7"
  }
 },
 "nbformat": 4,
 "nbformat_minor": 2
}
