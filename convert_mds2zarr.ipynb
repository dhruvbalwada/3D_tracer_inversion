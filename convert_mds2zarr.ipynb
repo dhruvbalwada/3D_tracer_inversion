{
 "cells": [
  {
   "cell_type": "markdown",
   "metadata": {},
   "source": [
    "# Convert data to zarr format\n",
    "\n",
    "Details on method here: \n",
    "https://pangeo.io/data.html#data-in-the-cloud"
   ]
  },
  {
   "cell_type": "code",
   "execution_count": 4,
   "metadata": {},
   "outputs": [],
   "source": [
    "from xmitgcm import open_mdsdataset\n",
    "import xarray as xr\n"
   ]
  },
  {
   "cell_type": "code",
   "execution_count": 2,
   "metadata": {},
   "outputs": [],
   "source": [
    "data_dir = '/swot/SUM05/dbalwada/channel_model_output/varying_res/05km/multi_tracer_montly_restored/multi_tracer/'"
   ]
  },
  {
   "cell_type": "code",
   "execution_count": null,
   "metadata": {},
   "outputs": [
    {
     "name": "stderr",
     "output_type": "stream",
     "text": [
      "/home/dbalwada/miniconda/envs/dhruvenv/lib/python3.5/site-packages/xmitgcm-0.2.1-py3.5.egg/xmitgcm/utils.py:314: UserWarning: Not sure what to do with rlev = L\n",
      "  warnings.warn(\"Not sure what to do with rlev = \" + rlev)\n"
     ]
    }
   ],
   "source": [
    "iters = range(10473120, 10473120+518400*4, 1440)\n",
    "model_vars = ['uVeltave','vVeltave','wVeltave', 'Ttave']\n",
    "dd_model = open_mdsdataset(data_dir , delta_t=300, iters=iters, \n",
    "                          prefix=model_vars,\n",
    "                          ignore_unknown_vars=True, geometry='cartesian')"
   ]
  },
  {
   "cell_type": "code",
   "execution_count": null,
   "metadata": {},
   "outputs": [],
   "source": [
    "iters = range(10473120, 10473120+518400*4, 1440)\n",
    "tracer_vars = ['tracer1_diag', 'tracer2_diag', 'tracer3_diag', \n",
    "               'tracer4_diag', 'tracer5_diag', 'tracer6_diag',\n",
    "               'tracer7_diag', 'tracer8_diag', 'tracer9_diag',\n",
    "               'tracer10_diag']\n",
    "\n",
    "dd_tracer = open_mdsdataset(data_dir , iters= iters, delta_t=300,\n",
    "                          prefix=tracer_vars,\n",
    "                          ignore_unknown_vars=True, geometry='cartesian')"
   ]
  },
  {
   "cell_type": "code",
   "execution_count": 10,
   "metadata": {},
   "outputs": [
    {
     "data": {
      "text/plain": [
       "<xarray.Dataset>\n",
       "Dimensions:  (XC: 400, XG: 400, YC: 400, YG: 400, Z: 40, Zl: 40, Zp1: 41, Zu: 40, time: 1440)\n",
       "Coordinates:\n",
       "  * YC       (YC) >f4 2500.0 7500.0 12500.0 ... 1987500.0 1992500.0 1997500.0\n",
       "  * XG       (XG) >f4 0.0 5000.0 10000.0 ... 1985000.0 1990000.0 1995000.0\n",
       "  * YG       (YG) >f4 0.0 5000.0 10000.0 ... 1985000.0 1990000.0 1995000.0\n",
       "  * XC       (XC) >f4 2500.0 7500.0 12500.0 ... 1987500.0 1992500.0 1997500.0\n",
       "  * Zl       (Zl) >f4 0.0 -10.0 -20.0 -30.0 ... -2573.0 -2676.0 -2779.0 -2882.0\n",
       "  * Z        (Z) >f4 -5.0 -15.0 -25.0 -36.0 ... -2624.5 -2727.5 -2830.5 -2933.5\n",
       "  * Zu       (Zu) >f4 -10.0 -20.0 -30.0 -42.0 ... -2779.0 -2882.0 -2985.0\n",
       "  * Zp1      (Zp1) >f4 0.0 -10.0 -20.0 -30.0 ... -2676.0 -2779.0 -2882.0 -2985.0\n",
       "    dxC      (YC, XG) >f4 dask.array<shape=(400, 400), chunksize=(400, 400)>\n",
       "    rAz      (YG, XG) >f4 dask.array<shape=(400, 400), chunksize=(400, 400)>\n",
       "    Depth    (YC, XC) >f4 dask.array<shape=(400, 400), chunksize=(400, 400)>\n",
       "    rAw      (YC, XG) >f4 dask.array<shape=(400, 400), chunksize=(400, 400)>\n",
       "    dxG      (YG, XC) >f4 dask.array<shape=(400, 400), chunksize=(400, 400)>\n",
       "    rAs      (YG, XC) >f4 dask.array<shape=(400, 400), chunksize=(400, 400)>\n",
       "    rA       (YC, XC) >f4 dask.array<shape=(400, 400), chunksize=(400, 400)>\n",
       "    dyC      (YG, XC) >f4 dask.array<shape=(400, 400), chunksize=(400, 400)>\n",
       "    dyG      (YC, XG) >f4 dask.array<shape=(400, 400), chunksize=(400, 400)>\n",
       "    PHrefC   (Z) >f4 dask.array<shape=(40,), chunksize=(40,)>\n",
       "    PHrefF   (Zp1) >f4 dask.array<shape=(41,), chunksize=(41,)>\n",
       "    drC      (Zp1) >f4 dask.array<shape=(41,), chunksize=(41,)>\n",
       "    drF      (Z) >f4 dask.array<shape=(40,), chunksize=(40,)>\n",
       "    hFacC    (Z, YC, XC) >f4 dask.array<shape=(40, 400, 400), chunksize=(40, 400, 400)>\n",
       "    hFacW    (Z, YC, XG) >f4 dask.array<shape=(40, 400, 400), chunksize=(40, 400, 400)>\n",
       "    hFacS    (Z, YG, XC) >f4 dask.array<shape=(40, 400, 400), chunksize=(40, 400, 400)>\n",
       "    iter     (time) int64 dask.array<shape=(1440,), chunksize=(1,)>\n",
       "  * time     (time) int64 3141936000 3142368000 ... 3763152000 3763584000\n",
       "Data variables:\n",
       "    WTRAC07  (time, Z, YC, XC) float32 dask.array<shape=(1440, 40, 400, 400), chunksize=(1, 40, 400, 400)>\n",
       "    TRAC07   (time, Z, YC, XC) float32 dask.array<shape=(1440, 40, 400, 400), chunksize=(1, 40, 400, 400)>\n",
       "    UTRAC07  (time, Z, YC, XG) float32 dask.array<shape=(1440, 40, 400, 400), chunksize=(1, 40, 400, 400)>\n",
       "    VTRAC07  (time, Z, YG, XC) float32 dask.array<shape=(1440, 40, 400, 400), chunksize=(1, 40, 400, 400)>\n",
       "    UTRAC04  (time, Z, YC, XG) float32 dask.array<shape=(1440, 40, 400, 400), chunksize=(1, 40, 400, 400)>\n",
       "    WTRAC04  (time, Z, YC, XC) float32 dask.array<shape=(1440, 40, 400, 400), chunksize=(1, 40, 400, 400)>\n",
       "    VTRAC04  (time, Z, YG, XC) float32 dask.array<shape=(1440, 40, 400, 400), chunksize=(1, 40, 400, 400)>\n",
       "    TRAC04   (time, Z, YC, XC) float32 dask.array<shape=(1440, 40, 400, 400), chunksize=(1, 40, 400, 400)>\n",
       "    WTRAC08  (time, Z, YC, XC) float32 dask.array<shape=(1440, 40, 400, 400), chunksize=(1, 40, 400, 400)>\n",
       "    UTRAC08  (time, Z, YC, XG) float32 dask.array<shape=(1440, 40, 400, 400), chunksize=(1, 40, 400, 400)>\n",
       "    TRAC08   (time, Z, YC, XC) float32 dask.array<shape=(1440, 40, 400, 400), chunksize=(1, 40, 400, 400)>\n",
       "    VTRAC08  (time, Z, YG, XC) float32 dask.array<shape=(1440, 40, 400, 400), chunksize=(1, 40, 400, 400)>\n",
       "    TRAC02   (time, Z, YC, XC) float32 dask.array<shape=(1440, 40, 400, 400), chunksize=(1, 40, 400, 400)>\n",
       "    WTRAC02  (time, Z, YC, XC) float32 dask.array<shape=(1440, 40, 400, 400), chunksize=(1, 40, 400, 400)>\n",
       "    UTRAC02  (time, Z, YC, XG) float32 dask.array<shape=(1440, 40, 400, 400), chunksize=(1, 40, 400, 400)>\n",
       "    VTRAC02  (time, Z, YG, XC) float32 dask.array<shape=(1440, 40, 400, 400), chunksize=(1, 40, 400, 400)>\n",
       "    UTRAC05  (time, Z, YC, XG) float32 dask.array<shape=(1440, 40, 400, 400), chunksize=(1, 40, 400, 400)>\n",
       "    TRAC05   (time, Z, YC, XC) float32 dask.array<shape=(1440, 40, 400, 400), chunksize=(1, 40, 400, 400)>\n",
       "    VTRAC05  (time, Z, YG, XC) float32 dask.array<shape=(1440, 40, 400, 400), chunksize=(1, 40, 400, 400)>\n",
       "    WTRAC05  (time, Z, YC, XC) float32 dask.array<shape=(1440, 40, 400, 400), chunksize=(1, 40, 400, 400)>\n",
       "    WTRAC01  (time, Z, YC, XC) float32 dask.array<shape=(1440, 40, 400, 400), chunksize=(1, 40, 400, 400)>\n",
       "    UTRAC01  (time, Z, YC, XG) float32 dask.array<shape=(1440, 40, 400, 400), chunksize=(1, 40, 400, 400)>\n",
       "    VTRAC01  (time, Z, YG, XC) float32 dask.array<shape=(1440, 40, 400, 400), chunksize=(1, 40, 400, 400)>\n",
       "    TRAC01   (time, Z, YC, XC) float32 dask.array<shape=(1440, 40, 400, 400), chunksize=(1, 40, 400, 400)>\n",
       "    WTRAC06  (time, Z, YC, XC) float32 dask.array<shape=(1440, 40, 400, 400), chunksize=(1, 40, 400, 400)>\n",
       "    VTRAC06  (time, Z, YG, XC) float32 dask.array<shape=(1440, 40, 400, 400), chunksize=(1, 40, 400, 400)>\n",
       "    UTRAC06  (time, Z, YC, XG) float32 dask.array<shape=(1440, 40, 400, 400), chunksize=(1, 40, 400, 400)>\n",
       "    TRAC06   (time, Z, YC, XC) float32 dask.array<shape=(1440, 40, 400, 400), chunksize=(1, 40, 400, 400)>\n",
       "    UTRAC09  (time, Z, YC, XG) float32 dask.array<shape=(1440, 40, 400, 400), chunksize=(1, 40, 400, 400)>\n",
       "    TRAC09   (time, Z, YC, XC) float32 dask.array<shape=(1440, 40, 400, 400), chunksize=(1, 40, 400, 400)>\n",
       "    VTRAC09  (time, Z, YG, XC) float32 dask.array<shape=(1440, 40, 400, 400), chunksize=(1, 40, 400, 400)>\n",
       "    WTRAC09  (time, Z, YC, XC) float32 dask.array<shape=(1440, 40, 400, 400), chunksize=(1, 40, 400, 400)>\n",
       "    VTRAC10  (time, Z, YG, XC) float32 dask.array<shape=(1440, 40, 400, 400), chunksize=(1, 40, 400, 400)>\n",
       "    TRAC10   (time, Z, YC, XC) float32 dask.array<shape=(1440, 40, 400, 400), chunksize=(1, 40, 400, 400)>\n",
       "    WTRAC10  (time, Z, YC, XC) float32 dask.array<shape=(1440, 40, 400, 400), chunksize=(1, 40, 400, 400)>\n",
       "    UTRAC10  (time, Z, YC, XG) float32 dask.array<shape=(1440, 40, 400, 400), chunksize=(1, 40, 400, 400)>\n",
       "    VTRAC03  (time, Z, YG, XC) float32 dask.array<shape=(1440, 40, 400, 400), chunksize=(1, 40, 400, 400)>\n",
       "    TRAC03   (time, Z, YC, XC) float32 dask.array<shape=(1440, 40, 400, 400), chunksize=(1, 40, 400, 400)>\n",
       "    WTRAC03  (time, Z, YC, XC) float32 dask.array<shape=(1440, 40, 400, 400), chunksize=(1, 40, 400, 400)>\n",
       "    UTRAC03  (time, Z, YC, XG) float32 dask.array<shape=(1440, 40, 400, 400), chunksize=(1, 40, 400, 400)>"
      ]
     },
     "execution_count": 10,
     "metadata": {},
     "output_type": "execute_result"
    }
   ],
   "source": [
    "dd_tracer"
   ]
  },
  {
   "cell_type": "code",
   "execution_count": 15,
   "metadata": {},
   "outputs": [
    {
     "data": {
      "text/plain": [
       "<xarray.backends.zarr.ZarrStore at 0x7f96210faf60>"
      ]
     },
     "execution_count": 15,
     "metadata": {},
     "output_type": "execute_result"
    }
   ],
   "source": [
    "dd_model.to_zarr('/swot/SUM05/dbalwada/channel_model_output/varying_res/05km/multi_tracer_montly_restored/model_vars_5day_av_zarr')"
   ]
  },
  {
   "cell_type": "code",
   "execution_count": null,
   "metadata": {},
   "outputs": [],
   "source": [
    "dd_tracer.to_zarr('/swot/SUM05/dbalwada/channel_model_output/varying_res/05km/multi_tracer_montly_restored/tracer_vars_5day_av_zarr')"
   ]
  }
 ],
 "metadata": {
  "kernelspec": {
   "display_name": "Python 3 (dhruvenv)",
   "language": "python",
   "name": "dhruvenv"
  },
  "language_info": {
   "codemirror_mode": {
    "name": "ipython",
    "version": 3
   },
   "file_extension": ".py",
   "mimetype": "text/x-python",
   "name": "python",
   "nbconvert_exporter": "python",
   "pygments_lexer": "ipython3",
   "version": "3.5.5"
  }
 },
 "nbformat": 4,
 "nbformat_minor": 2
}
