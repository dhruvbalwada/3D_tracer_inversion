{
 "cells": [
  {
   "cell_type": "markdown",
   "metadata": {},
   "source": [
    "# Tracer flux convergence\n",
    "\n",
    "We run the simulations for different times from the initial tracer condition. As the time passes more tracer variance is generated, which eats away at the tracer. Also the mean tracer gradients are slowly evolving. \n",
    "\n",
    "We want to see what the time scales of these different processes are."
   ]
  },
  {
   "cell_type": "code",
   "execution_count": 2,
   "metadata": {},
   "outputs": [],
   "source": [
    "# load modules \n",
    "\n",
    "import numpy as np\n",
    "import xarray as xr\n",
    "from xmitgcm import open_mdsdataset\n",
    "from matplotlib import pyplot as plt\n",
    "from matplotlib import colors, ticker, cm\n",
    "from matplotlib.colors import LogNorm\n",
    "%matplotlib inline\n",
    "import os \n",
    "from xgcm import Grid\n",
    "from xarrayutils import aggregate\n",
    "import copy\n",
    "# Pseudo Inversion \n",
    "from scipy.linalg import pinv, eig"
   ]
  },
  {
   "cell_type": "code",
   "execution_count": 5,
   "metadata": {},
   "outputs": [],
   "source": [
    "# 1 month reinitialized tracer \n",
    "data_dir = '/swot/SUM05/dbalwada/channel_model_output/varying_res/05km/multi_tracer_montly_restored/multi_tracer/'\n",
    "\n",
    "ds_1month = open_mdsdataset(data_dir, delta_t=300, prefix=['tracer1_diag'], ignore_unknown_vars=True, geometry='cartesian')"
   ]
  },
  {
   "cell_type": "code",
   "execution_count": 4,
   "metadata": {},
   "outputs": [
    {
     "name": "stderr",
     "output_type": "stream",
     "text": [
      "/home/dbalwada/.conda/envs/pangeo/lib/python3.6/site-packages/xmitgcm-0.2.2-py3.6.egg/xmitgcm/utils.py:423: UserWarning: Not sure what to do with rlev = L\n",
      "  warnings.warn(\"Not sure what to do with rlev = \" + rlev)\n"
     ]
    }
   ],
   "source": [
    "# 6 month reinitialized tracer \n",
    "data_dir = '/swot/SUM05/dbalwada/channel_model_output/varying_res/05km/multi_tracer/'\n",
    "\n",
    "ds_6month = open_mdsdataset(data_dir, delta_t=300, prefix=['tracer1_diag'], ignore_unknown_vars=True, geometry='cartesian')"
   ]
  },
  {
   "cell_type": "code",
   "execution_count": null,
   "metadata": {},
   "outputs": [],
   "source": []
  }
 ],
 "metadata": {
  "kernelspec": {
   "display_name": "Pangeo",
   "language": "python",
   "name": "pangeo"
  },
  "language_info": {
   "codemirror_mode": {
    "name": "ipython",
    "version": 3
   },
   "file_extension": ".py",
   "mimetype": "text/x-python",
   "name": "python",
   "nbconvert_exporter": "python",
   "pygments_lexer": "ipython3",
   "version": "3.6.6"
  }
 },
 "nbformat": 4,
 "nbformat_minor": 2
}
