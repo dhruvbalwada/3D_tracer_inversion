{
 "cells": [
  {
   "cell_type": "markdown",
   "metadata": {},
   "source": [
    "# Tracer inversion in a parameterized model \n",
    "\n",
    "One obvious question is if the multi-tracer inversion method produces the right answer in setups where the diffusivity tensor is known apriori. One way to test this idea is to run a coarse resolution ocean model, with no eddies, and have a prescribed GM and Redi diffusivity tensor forcing the model. If we are able to recover the prescribed diffusivity tensor, then this will build some confidence in the method and also our code. \n",
    "\n"
   ]
  }
 ],
 "metadata": {
  "kernelspec": {
   "display_name": "Python 3 (dhruvenv)",
   "language": "python",
   "name": "dhruvenv"
  },
  "language_info": {
   "codemirror_mode": {
    "name": "ipython",
    "version": 3
   },
   "file_extension": ".py",
   "mimetype": "text/x-python",
   "name": "python",
   "nbconvert_exporter": "python",
   "pygments_lexer": "ipython3",
   "version": "3.5.5"
  }
 },
 "nbformat": 4,
 "nbformat_minor": 2
}
