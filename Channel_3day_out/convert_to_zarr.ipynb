{
 "cells": [
  {
   "cell_type": "code",
   "execution_count": 1,
   "metadata": {},
   "outputs": [],
   "source": [
    "import xarray as xr\n",
    "from xmitgcm import open_mdsdataset\n",
    "from matplotlib import pyplot as plt\n",
    "%matplotlib inline"
   ]
  },
  {
   "cell_type": "code",
   "execution_count": 5,
   "metadata": {},
   "outputs": [],
   "source": [
    "ds_dir = '/swot/SUM04/dbalwada/channel_model/05km_sponge/run_tracers_restored_3day_output/run_tracers_restored/'"
   ]
  },
  {
   "cell_type": "code",
   "execution_count": 17,
   "metadata": {},
   "outputs": [
    {
     "name": "stdout",
     "output_type": "stream",
     "text": [
      "CPU times: user 24min 36s, sys: 3min 21s, total: 27min 57s\n",
      "Wall time: 35min 18s\n"
     ]
    }
   ],
   "source": [
    "%time ds_model = open_mdsdataset(ds_dir , delta_t=300, ignore_unknown_vars=True, geometry='cartesian')"
   ]
  },
  {
   "cell_type": "code",
   "execution_count": 28,
   "metadata": {},
   "outputs": [
    {
     "data": {
      "text/plain": [
       "<xarray.Dataset>\n",
       "Dimensions:              (XC: 400, XG: 400, YC: 400, YG: 400, Z: 40, Zl: 40, Zp1: 41, Zu: 40, layer_1TH_bounds: 43, layer_1TH_center: 42, layer_1TH_interface: 41, time: 1980)\n",
       "Coordinates:\n",
       "  * XC                   (XC) >f4 2500.0 7500.0 12500.0 ... 1992500.0 1997500.0\n",
       "  * YC                   (YC) >f4 2500.0 7500.0 12500.0 ... 1992500.0 1997500.0\n",
       "  * XG                   (XG) >f4 0.0 5000.0 10000.0 ... 1990000.0 1995000.0\n",
       "  * YG                   (YG) >f4 0.0 5000.0 10000.0 ... 1990000.0 1995000.0\n",
       "  * Z                    (Z) >f4 -5.0 -15.0 -25.0 ... -2727.5 -2830.5 -2933.5\n",
       "  * Zp1                  (Zp1) >f4 0.0 -10.0 -20.0 ... -2779.0 -2882.0 -2985.0\n",
       "  * Zu                   (Zu) >f4 -10.0 -20.0 -30.0 ... -2779.0 -2882.0 -2985.0\n",
       "  * Zl                   (Zl) >f4 0.0 -10.0 -20.0 ... -2676.0 -2779.0 -2882.0\n",
       "    rA                   (YC, XC) >f4 dask.array<shape=(400, 400), chunksize=(400, 400)>\n",
       "    dxG                  (YG, XC) >f4 dask.array<shape=(400, 400), chunksize=(400, 400)>\n",
       "    dyG                  (YC, XG) >f4 dask.array<shape=(400, 400), chunksize=(400, 400)>\n",
       "    Depth                (YC, XC) >f4 dask.array<shape=(400, 400), chunksize=(400, 400)>\n",
       "    rAz                  (YG, XG) >f4 dask.array<shape=(400, 400), chunksize=(400, 400)>\n",
       "    dxC                  (YC, XG) >f4 dask.array<shape=(400, 400), chunksize=(400, 400)>\n",
       "    dyC                  (YG, XC) >f4 dask.array<shape=(400, 400), chunksize=(400, 400)>\n",
       "    rAw                  (YC, XG) >f4 dask.array<shape=(400, 400), chunksize=(400, 400)>\n",
       "    rAs                  (YG, XC) >f4 dask.array<shape=(400, 400), chunksize=(400, 400)>\n",
       "    drC                  (Zp1) >f4 dask.array<shape=(41,), chunksize=(41,)>\n",
       "    drF                  (Z) >f4 dask.array<shape=(40,), chunksize=(40,)>\n",
       "    PHrefC               (Z) >f4 dask.array<shape=(40,), chunksize=(40,)>\n",
       "    PHrefF               (Zp1) >f4 dask.array<shape=(41,), chunksize=(41,)>\n",
       "    hFacC                (Z, YC, XC) >f4 dask.array<shape=(40, 400, 400), chunksize=(40, 400, 400)>\n",
       "    hFacW                (Z, YC, XG) >f4 dask.array<shape=(40, 400, 400), chunksize=(40, 400, 400)>\n",
       "    hFacS                (Z, YG, XC) >f4 dask.array<shape=(40, 400, 400), chunksize=(40, 400, 400)>\n",
       "    maskC                (Z, YC, XC) bool dask.array<shape=(40, 400, 400), chunksize=(40, 400, 400)>\n",
       "    maskW                (Z, YC, XG) bool dask.array<shape=(40, 400, 400), chunksize=(40, 400, 400)>\n",
       "    maskS                (Z, YG, XC) bool dask.array<shape=(40, 400, 400), chunksize=(40, 400, 400)>\n",
       "  * layer_1TH_bounds     (layer_1TH_bounds) >f4 -0.2 0.0 0.2 0.4 ... 7.8 8.0 8.2\n",
       "  * layer_1TH_center     (layer_1TH_center) float32 -0.1 0.1 0.3 ... 7.7 7.9 8.1\n",
       "  * layer_1TH_interface  (layer_1TH_interface) >f4 0.0 0.2 0.4 ... 7.6 7.8 8.0\n",
       "    iter                 (time) int64 dask.array<shape=(1980,), chunksize=(1,)>\n",
       "  * time                 (time) int64 5272387200 5272646400 ... 5785344000\n",
       "Data variables:\n",
       "    PTRACER16            (time, Z, YC, XC) float32 dask.array<shape=(1980, 40, 400, 400), chunksize=(1, 40, 400, 400)>\n",
       "    PTRACER02            (time, Z, YC, XC) float32 dask.array<shape=(1980, 40, 400, 400), chunksize=(1, 40, 400, 400)>\n",
       "    PTRACER20            (time, Z, YC, XC) float32 dask.array<shape=(1980, 40, 400, 400), chunksize=(1, 40, 400, 400)>\n",
       "    PTRACER05            (time, Z, YC, XC) float32 dask.array<shape=(1980, 40, 400, 400), chunksize=(1, 40, 400, 400)>\n",
       "    PTRACER03            (time, Z, YC, XC) float32 dask.array<shape=(1980, 40, 400, 400), chunksize=(1, 40, 400, 400)>\n",
       "    PTRACER14            (time, Z, YC, XC) float32 dask.array<shape=(1980, 40, 400, 400), chunksize=(1, 40, 400, 400)>\n",
       "    PTRACER09            (time, Z, YC, XC) float32 dask.array<shape=(1980, 40, 400, 400), chunksize=(1, 40, 400, 400)>\n",
       "    PTRACER01            (time, Z, YC, XC) float32 dask.array<shape=(1980, 40, 400, 400), chunksize=(1, 40, 400, 400)>\n",
       "    PH                   (time, Z, YC, XC) float32 dask.array<shape=(1980, 40, 400, 400), chunksize=(1, 40, 400, 400)>\n",
       "    U                    (time, Z, YC, XG) float32 dask.array<shape=(1980, 40, 400, 400), chunksize=(1, 40, 400, 400)>\n",
       "    PTRACER11            (time, Z, YC, XC) float32 dask.array<shape=(1980, 40, 400, 400), chunksize=(1, 40, 400, 400)>\n",
       "    PTRACER10            (time, Z, YC, XC) float32 dask.array<shape=(1980, 40, 400, 400), chunksize=(1, 40, 400, 400)>\n",
       "    PTRACER08            (time, Z, YC, XC) float32 dask.array<shape=(1980, 40, 400, 400), chunksize=(1, 40, 400, 400)>\n",
       "    Eta                  (time, YC, XC) float32 dask.array<shape=(1980, 400, 400), chunksize=(1, 400, 400)>\n",
       "    W                    (time, Zl, YC, XC) float32 dask.array<shape=(1980, 40, 400, 400), chunksize=(1, 40, 400, 400)>\n",
       "    PTRACER18            (time, Z, YC, XC) float32 dask.array<shape=(1980, 40, 400, 400), chunksize=(1, 40, 400, 400)>\n",
       "    PTRACER15            (time, Z, YC, XC) float32 dask.array<shape=(1980, 40, 400, 400), chunksize=(1, 40, 400, 400)>\n",
       "    PTRACER19            (time, Z, YC, XC) float32 dask.array<shape=(1980, 40, 400, 400), chunksize=(1, 40, 400, 400)>\n",
       "    PTRACER06            (time, Z, YC, XC) float32 dask.array<shape=(1980, 40, 400, 400), chunksize=(1, 40, 400, 400)>\n",
       "    T                    (time, Z, YC, XC) float32 dask.array<shape=(1980, 40, 400, 400), chunksize=(1, 40, 400, 400)>\n",
       "    PTRACER13            (time, Z, YC, XC) float32 dask.array<shape=(1980, 40, 400, 400), chunksize=(1, 40, 400, 400)>\n",
       "    V                    (time, Z, YG, XC) float32 dask.array<shape=(1980, 40, 400, 400), chunksize=(1, 40, 400, 400)>\n",
       "    PTRACER04            (time, Z, YC, XC) float32 dask.array<shape=(1980, 40, 400, 400), chunksize=(1, 40, 400, 400)>\n",
       "    PTRACER07            (time, Z, YC, XC) float32 dask.array<shape=(1980, 40, 400, 400), chunksize=(1, 40, 400, 400)>\n",
       "    PTRACER12            (time, Z, YC, XC) float32 dask.array<shape=(1980, 40, 400, 400), chunksize=(1, 40, 400, 400)>\n",
       "    PTRACER17            (time, Z, YC, XC) float32 dask.array<shape=(1980, 40, 400, 400), chunksize=(1, 40, 400, 400)>\n",
       "    PHL                  (time, YC, XC) float32 dask.array<shape=(1980, 400, 400), chunksize=(1, 400, 400)>"
      ]
     },
     "execution_count": 28,
     "metadata": {},
     "output_type": "execute_result"
    }
   ],
   "source": [
    "ds_model"
   ]
  },
  {
   "cell_type": "code",
   "execution_count": 30,
   "metadata": {},
   "outputs": [],
   "source": [
    "# chunk the data\n",
    "ds_model = ds_model.chunk({'XC':400, 'YC':400, 'XG':400, 'YG':400, 'Z':1, 'Zl':1, 'time':35})"
   ]
  },
  {
   "cell_type": "code",
   "execution_count": 31,
   "metadata": {},
   "outputs": [
    {
     "data": {
      "text/plain": [
       "<xarray.Dataset>\n",
       "Dimensions:              (XC: 400, XG: 400, YC: 400, YG: 400, Z: 40, Zl: 40, Zp1: 41, Zu: 40, layer_1TH_bounds: 43, layer_1TH_center: 42, layer_1TH_interface: 41, time: 1980)\n",
       "Coordinates:\n",
       "  * XC                   (XC) >f4 2500.0 7500.0 12500.0 ... 1992500.0 1997500.0\n",
       "  * YC                   (YC) >f4 2500.0 7500.0 12500.0 ... 1992500.0 1997500.0\n",
       "  * XG                   (XG) >f4 0.0 5000.0 10000.0 ... 1990000.0 1995000.0\n",
       "  * YG                   (YG) >f4 0.0 5000.0 10000.0 ... 1990000.0 1995000.0\n",
       "  * Z                    (Z) >f4 -5.0 -15.0 -25.0 ... -2727.5 -2830.5 -2933.5\n",
       "  * Zp1                  (Zp1) >f4 0.0 -10.0 -20.0 ... -2779.0 -2882.0 -2985.0\n",
       "  * Zu                   (Zu) >f4 -10.0 -20.0 -30.0 ... -2779.0 -2882.0 -2985.0\n",
       "  * Zl                   (Zl) >f4 0.0 -10.0 -20.0 ... -2676.0 -2779.0 -2882.0\n",
       "    rA                   (YC, XC) >f4 dask.array<shape=(400, 400), chunksize=(400, 400)>\n",
       "    dxG                  (YG, XC) >f4 dask.array<shape=(400, 400), chunksize=(400, 400)>\n",
       "    dyG                  (YC, XG) >f4 dask.array<shape=(400, 400), chunksize=(400, 400)>\n",
       "    Depth                (YC, XC) >f4 dask.array<shape=(400, 400), chunksize=(400, 400)>\n",
       "    rAz                  (YG, XG) >f4 dask.array<shape=(400, 400), chunksize=(400, 400)>\n",
       "    dxC                  (YC, XG) >f4 dask.array<shape=(400, 400), chunksize=(400, 400)>\n",
       "    dyC                  (YG, XC) >f4 dask.array<shape=(400, 400), chunksize=(400, 400)>\n",
       "    rAw                  (YC, XG) >f4 dask.array<shape=(400, 400), chunksize=(400, 400)>\n",
       "    rAs                  (YG, XC) >f4 dask.array<shape=(400, 400), chunksize=(400, 400)>\n",
       "    drC                  (Zp1) >f4 dask.array<shape=(41,), chunksize=(41,)>\n",
       "    drF                  (Z) >f4 dask.array<shape=(40,), chunksize=(1,)>\n",
       "    PHrefC               (Z) >f4 dask.array<shape=(40,), chunksize=(1,)>\n",
       "    PHrefF               (Zp1) >f4 dask.array<shape=(41,), chunksize=(41,)>\n",
       "    hFacC                (Z, YC, XC) >f4 dask.array<shape=(40, 400, 400), chunksize=(1, 400, 400)>\n",
       "    hFacW                (Z, YC, XG) >f4 dask.array<shape=(40, 400, 400), chunksize=(1, 400, 400)>\n",
       "    hFacS                (Z, YG, XC) >f4 dask.array<shape=(40, 400, 400), chunksize=(1, 400, 400)>\n",
       "    maskC                (Z, YC, XC) bool dask.array<shape=(40, 400, 400), chunksize=(1, 400, 400)>\n",
       "    maskW                (Z, YC, XG) bool dask.array<shape=(40, 400, 400), chunksize=(1, 400, 400)>\n",
       "    maskS                (Z, YG, XC) bool dask.array<shape=(40, 400, 400), chunksize=(1, 400, 400)>\n",
       "  * layer_1TH_bounds     (layer_1TH_bounds) >f4 -0.2 0.0 0.2 0.4 ... 7.8 8.0 8.2\n",
       "  * layer_1TH_center     (layer_1TH_center) float32 -0.1 0.1 0.3 ... 7.7 7.9 8.1\n",
       "  * layer_1TH_interface  (layer_1TH_interface) >f4 0.0 0.2 0.4 ... 7.6 7.8 8.0\n",
       "    iter                 (time) int64 dask.array<shape=(1980,), chunksize=(35,)>\n",
       "  * time                 (time) int64 5272387200 5272646400 ... 5785344000\n",
       "Data variables:\n",
       "    PTRACER16            (time, Z, YC, XC) float32 dask.array<shape=(1980, 40, 400, 400), chunksize=(35, 1, 400, 400)>\n",
       "    PTRACER02            (time, Z, YC, XC) float32 dask.array<shape=(1980, 40, 400, 400), chunksize=(35, 1, 400, 400)>\n",
       "    PTRACER20            (time, Z, YC, XC) float32 dask.array<shape=(1980, 40, 400, 400), chunksize=(35, 1, 400, 400)>\n",
       "    PTRACER05            (time, Z, YC, XC) float32 dask.array<shape=(1980, 40, 400, 400), chunksize=(35, 1, 400, 400)>\n",
       "    PTRACER03            (time, Z, YC, XC) float32 dask.array<shape=(1980, 40, 400, 400), chunksize=(35, 1, 400, 400)>\n",
       "    PTRACER14            (time, Z, YC, XC) float32 dask.array<shape=(1980, 40, 400, 400), chunksize=(35, 1, 400, 400)>\n",
       "    PTRACER09            (time, Z, YC, XC) float32 dask.array<shape=(1980, 40, 400, 400), chunksize=(35, 1, 400, 400)>\n",
       "    PTRACER01            (time, Z, YC, XC) float32 dask.array<shape=(1980, 40, 400, 400), chunksize=(35, 1, 400, 400)>\n",
       "    PH                   (time, Z, YC, XC) float32 dask.array<shape=(1980, 40, 400, 400), chunksize=(35, 1, 400, 400)>\n",
       "    U                    (time, Z, YC, XG) float32 dask.array<shape=(1980, 40, 400, 400), chunksize=(35, 1, 400, 400)>\n",
       "    PTRACER11            (time, Z, YC, XC) float32 dask.array<shape=(1980, 40, 400, 400), chunksize=(35, 1, 400, 400)>\n",
       "    PTRACER10            (time, Z, YC, XC) float32 dask.array<shape=(1980, 40, 400, 400), chunksize=(35, 1, 400, 400)>\n",
       "    PTRACER08            (time, Z, YC, XC) float32 dask.array<shape=(1980, 40, 400, 400), chunksize=(35, 1, 400, 400)>\n",
       "    Eta                  (time, YC, XC) float32 dask.array<shape=(1980, 400, 400), chunksize=(35, 400, 400)>\n",
       "    W                    (time, Zl, YC, XC) float32 dask.array<shape=(1980, 40, 400, 400), chunksize=(35, 1, 400, 400)>\n",
       "    PTRACER18            (time, Z, YC, XC) float32 dask.array<shape=(1980, 40, 400, 400), chunksize=(35, 1, 400, 400)>\n",
       "    PTRACER15            (time, Z, YC, XC) float32 dask.array<shape=(1980, 40, 400, 400), chunksize=(35, 1, 400, 400)>\n",
       "    PTRACER19            (time, Z, YC, XC) float32 dask.array<shape=(1980, 40, 400, 400), chunksize=(35, 1, 400, 400)>\n",
       "    PTRACER06            (time, Z, YC, XC) float32 dask.array<shape=(1980, 40, 400, 400), chunksize=(35, 1, 400, 400)>\n",
       "    T                    (time, Z, YC, XC) float32 dask.array<shape=(1980, 40, 400, 400), chunksize=(35, 1, 400, 400)>\n",
       "    PTRACER13            (time, Z, YC, XC) float32 dask.array<shape=(1980, 40, 400, 400), chunksize=(35, 1, 400, 400)>\n",
       "    V                    (time, Z, YG, XC) float32 dask.array<shape=(1980, 40, 400, 400), chunksize=(35, 1, 400, 400)>\n",
       "    PTRACER04            (time, Z, YC, XC) float32 dask.array<shape=(1980, 40, 400, 400), chunksize=(35, 1, 400, 400)>\n",
       "    PTRACER07            (time, Z, YC, XC) float32 dask.array<shape=(1980, 40, 400, 400), chunksize=(35, 1, 400, 400)>\n",
       "    PTRACER12            (time, Z, YC, XC) float32 dask.array<shape=(1980, 40, 400, 400), chunksize=(35, 1, 400, 400)>\n",
       "    PTRACER17            (time, Z, YC, XC) float32 dask.array<shape=(1980, 40, 400, 400), chunksize=(35, 1, 400, 400)>\n",
       "    PHL                  (time, YC, XC) float32 dask.array<shape=(1980, 400, 400), chunksize=(35, 400, 400)>"
      ]
     },
     "execution_count": 31,
     "metadata": {},
     "output_type": "execute_result"
    }
   ],
   "source": [
    "ds_model"
   ]
  },
  {
   "cell_type": "code",
   "execution_count": 33,
   "metadata": {},
   "outputs": [
    {
     "name": "stdout",
     "output_type": "stream",
     "text": [
      "CPU times: user 1h 44min 51s, sys: 11h 42min 47s, total: 13h 27min 39s\n",
      "Wall time: 3h 13min 9s\n"
     ]
    },
    {
     "data": {
      "text/plain": [
       "<xarray.backends.zarr.ZarrStore at 0x7ff33c3e0e80>"
      ]
     },
     "execution_count": 33,
     "metadata": {},
     "output_type": "execute_result"
    }
   ],
   "source": [
    "%time ds_model.to_zarr('/swot/SUM04/dbalwada/channel_model/05km_sponge/run_tracers_restored_3day_output/run_tracers_restored_zarr/', consolidated=True, mode='w')"
   ]
  },
  {
   "cell_type": "code",
   "execution_count": 34,
   "metadata": {},
   "outputs": [
    {
     "data": {
      "text/plain": [
       "2"
      ]
     },
     "execution_count": 34,
     "metadata": {},
     "output_type": "execute_result"
    }
   ],
   "source": [
    "2"
   ]
  },
  {
   "cell_type": "code",
   "execution_count": null,
   "metadata": {},
   "outputs": [],
   "source": []
  }
 ],
 "metadata": {
  "kernelspec": {
   "display_name": "Python [conda env:pangeo]",
   "language": "python",
   "name": "conda-env-pangeo-py"
  },
  "language_info": {
   "codemirror_mode": {
    "name": "ipython",
    "version": 3
   },
   "file_extension": ".py",
   "mimetype": "text/x-python",
   "name": "python",
   "nbconvert_exporter": "python",
   "pygments_lexer": "ipython3",
   "version": "3.7.9"
  }
 },
 "nbformat": 4,
 "nbformat_minor": 2
}
